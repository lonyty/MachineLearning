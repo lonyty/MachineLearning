{
 "cells": [
  {
   "cell_type": "markdown",
   "metadata": {},
   "source": [
    "## Only upsampling Test data "
   ]
  },
  {
   "cell_type": "code",
   "execution_count": 2,
   "metadata": {},
   "outputs": [],
   "source": [
    "%matplotlib inline\n",
    "import pandas as pd\n",
    "import numpy as np\n",
    "import matplotlib.pyplot as plt\n",
    "from sklearn import metrics\n",
    "import seaborn as sns\n",
    "plt.rcParams['font.size'] = 14\n",
    "plt.style.use('seaborn-whitegrid')"
   ]
  },
  {
   "cell_type": "code",
   "execution_count": 3,
   "metadata": {},
   "outputs": [],
   "source": [
    "df = pd.read_csv('cleaned_data/Cleaned Data.csv',index_col=[0])"
   ]
  },
  {
   "cell_type": "code",
   "execution_count": 4,
   "metadata": {},
   "outputs": [
    {
     "data": {
      "text/plain": [
       "Sell    6153\n",
       "Buy     4681\n",
       "Hold     745\n",
       "Name: Signal, dtype: int64"
      ]
     },
     "execution_count": 4,
     "metadata": {},
     "output_type": "execute_result"
    }
   ],
   "source": [
    "df['Signal'].value_counts()"
   ]
  },
  {
   "cell_type": "code",
   "execution_count": 5,
   "metadata": {},
   "outputs": [],
   "source": [
    "SignalFac = []\n",
    "\n",
    "for string in df['Signal']:\n",
    "    if string == 'Sell':\n",
    "        SignalFac.append(2)\n",
    "    elif string == 'Hold':\n",
    "        SignalFac.append(1)    \n",
    "    else:\n",
    "        SignalFac.append(0)"
   ]
  },
  {
   "cell_type": "code",
   "execution_count": 6,
   "metadata": {},
   "outputs": [],
   "source": [
    "df['SignalFac'] = SignalFac"
   ]
  },
  {
   "cell_type": "code",
   "execution_count": 7,
   "metadata": {},
   "outputs": [],
   "source": [
    "y = df['SignalFac']\n",
    "X = df.drop(['Signal','SignalFac'], axis=1)"
   ]
  },
  {
   "cell_type": "code",
   "execution_count": 8,
   "metadata": {},
   "outputs": [],
   "source": [
    "# Create Train test split\n",
    "from sklearn.model_selection import train_test_split\n",
    "X_train, X_test, y_train, y_test = train_test_split(X, y, test_size=0.3, random_state=0, stratify=y)"
   ]
  },
  {
   "cell_type": "code",
   "execution_count": 9,
   "metadata": {},
   "outputs": [
    {
     "name": "stdout",
     "output_type": "stream",
     "text": [
      "Sell hat 4307 Werte\n",
      "Hold hat 521 Werte\n",
      "Buy hat 3277 Werte\n"
     ]
    }
   ],
   "source": [
    "print('Sell hat', X_train[y_train==2].shape[0], 'Werte')\n",
    "print('Hold hat', X_train[y_train==1].shape[0], 'Werte')\n",
    "print('Buy hat', X_train[y_train==0].shape[0], 'Werte')"
   ]
  },
  {
   "cell_type": "code",
   "execution_count": 10,
   "metadata": {},
   "outputs": [],
   "source": [
    "#Upsampling of Hold to the number of Sell\n",
    "\n",
    "from sklearn.utils import resample\n",
    "\n",
    "X_upsampled, y_upsampled = resample(X_train[y_train==1], y_train[y_train==1],\n",
    "                                    replace=True,\n",
    "                                    n_samples=3786,\n",
    "                                    random_state=1)"
   ]
  },
  {
   "cell_type": "code",
   "execution_count": 11,
   "metadata": {},
   "outputs": [],
   "source": [
    "# Combine datasets\n",
    "X_bal = np.vstack((X_train, X_upsampled))\n",
    "y_bal = np.hstack((y_train, y_upsampled))"
   ]
  },
  {
   "cell_type": "code",
   "execution_count": 12,
   "metadata": {},
   "outputs": [],
   "source": [
    "#Upsampling of Buy to the number of Sells\n",
    "\n",
    "from sklearn.utils import resample\n",
    "\n",
    "X2_upsampled, y2_upsampled = resample(X_train[y_train==0], y_train[y_train==0],\n",
    "                                    replace=True,\n",
    "                                    n_samples=1030,\n",
    "                                    random_state=1)"
   ]
  },
  {
   "cell_type": "code",
   "execution_count": 13,
   "metadata": {},
   "outputs": [],
   "source": [
    "# Combine datasets\n",
    "X_bal = np.vstack((X_bal, X2_upsampled))\n",
    "y_bal = np.hstack((y_bal, y2_upsampled))"
   ]
  },
  {
   "cell_type": "code",
   "execution_count": 14,
   "metadata": {},
   "outputs": [
    {
     "data": {
      "text/plain": [
       "2    4307\n",
       "1    4307\n",
       "0    4307\n",
       "Name: 0, dtype: int64"
      ]
     },
     "execution_count": 14,
     "metadata": {},
     "output_type": "execute_result"
    }
   ],
   "source": [
    "pd.value_counts(pd.DataFrame(y_bal)[0])"
   ]
  },
  {
   "cell_type": "code",
   "execution_count": 15,
   "metadata": {},
   "outputs": [
    {
     "data": {
      "text/plain": [
       "RandomForestClassifier(n_jobs=-1, random_state=0)"
      ]
     },
     "execution_count": 15,
     "metadata": {},
     "output_type": "execute_result"
    }
   ],
   "source": [
    "from sklearn.ensemble import RandomForestClassifier\n",
    "\n",
    "# Create classifier object and fit it to data\n",
    "forest = RandomForestClassifier(criterion='gini', random_state=0, n_jobs=-1)\n",
    "forest.fit(X_bal, y_bal)"
   ]
  },
  {
   "cell_type": "code",
   "execution_count": 16,
   "metadata": {},
   "outputs": [],
   "source": [
    "y_pred = forest.predict(X_test)"
   ]
  },
  {
   "cell_type": "code",
   "execution_count": 17,
   "metadata": {},
   "outputs": [
    {
     "name": "stdout",
     "output_type": "stream",
     "text": [
      "              precision    recall  f1-score   support\n",
      "\n",
      "           0       0.49      0.47      0.48      1404\n",
      "           1       0.06      0.01      0.02       224\n",
      "           2       0.59      0.67      0.63      1846\n",
      "\n",
      "    accuracy                           0.55      3474\n",
      "   macro avg       0.38      0.38      0.38      3474\n",
      "weighted avg       0.52      0.55      0.53      3474\n",
      "\n"
     ]
    }
   ],
   "source": [
    "from sklearn.metrics import classification_report\n",
    "\n",
    "print(classification_report(y_test,y_pred))"
   ]
  },
  {
   "cell_type": "code",
   "execution_count": 18,
   "metadata": {},
   "outputs": [
    {
     "name": "stdout",
     "output_type": "stream",
     "text": [
      "Confusion matrix: \n",
      " [[ 661   17  726]\n",
      " [  87    2  135]\n",
      " [ 594   12 1240]]\n"
     ]
    }
   ],
   "source": [
    "print('Confusion matrix: \\n', \n",
    "      metrics.confusion_matrix(y_test,y_pred))"
   ]
  },
  {
   "cell_type": "markdown",
   "metadata": {},
   "source": [
    "## Redo following steps: PCA & CV"
   ]
  },
  {
   "cell_type": "markdown",
   "metadata": {},
   "source": [
    "Only PCA Features"
   ]
  },
  {
   "cell_type": "code",
   "execution_count": 20,
   "metadata": {},
   "outputs": [
    {
     "data": {
      "text/plain": [
       "PCA(n_components=10)"
      ]
     },
     "execution_count": 20,
     "metadata": {},
     "output_type": "execute_result"
    }
   ],
   "source": [
    "from sklearn.decomposition import PCA\n",
    "\n",
    "# Define no. of PC\n",
    "q = 10\n",
    "\n",
    "# Create PCA object and fit to find  \n",
    "# first q principal components\n",
    "pca = PCA(n_components=q)\n",
    "pca.fit(X_train)\n",
    "pca"
   ]
  },
  {
   "cell_type": "code",
   "execution_count": 21,
   "metadata": {},
   "outputs": [],
   "source": [
    "# Run PCA for all possible PCs\n",
    "pca = PCA().fit(X_train)\n",
    "\n",
    "# Define max no. of PC\n",
    "q = X_train.shape[1]\n",
    "\n",
    "# Get cumsum of the PC 1-q\n",
    "expl_var = pca.explained_variance_ratio_\n",
    "sum_expl_var = np.cumsum(expl_var)[:q]"
   ]
  },
  {
   "cell_type": "code",
   "execution_count": 46,
   "metadata": {},
   "outputs": [
    {
     "data": {
      "image/png": "[encoded data removed]",
      "text/plain": [
       "<Figure size 864x432 with 1 Axes>"
      ]
     },
     "metadata": {},
     "output_type": "display_data"
    }
   ],
   "source": [
    "# Plot Feature Importance (both cumul., individual)\n",
    "plt.figure(figsize=(12, 6))\n",
    "plt.bar(range(1, q + 1), expl_var, align='center')\n",
    "plt.xticks(range(1, q + 1, 5))\n",
    "plt.xlim([0, q + 1])\n",
    "plt.xlabel('Principal Components')\n",
    "plt.ylabel('Explained Variance Ratio')\n",
    "plt.step(range(1, 1 + q), sum_expl_var, where='mid')\n",
    "plt.tight_layout();"
   ]
  },
  {
   "cell_type": "code",
   "execution_count": 47,
   "metadata": {},
   "outputs": [],
   "source": [
    "# PCA Feature Selection approach\n",
    "from sklearn.decomposition import PCA"
   ]
  },
  {
   "cell_type": "code",
   "execution_count": 48,
   "metadata": {},
   "outputs": [],
   "source": [
    "#Create Train test split\n",
    "from sklearn.model_selection import train_test_split\n",
    "X_train, X_test, y_train, y_test = train_test_split(X, y, test_size=0.3, random_state=0, stratify=y)"
   ]
  },
  {
   "cell_type": "code",
   "execution_count": 49,
   "metadata": {},
   "outputs": [
    {
     "data": {
      "text/plain": [
       "PCA(n_components=10)"
      ]
     },
     "execution_count": 49,
     "metadata": {},
     "output_type": "execute_result"
    }
   ],
   "source": [
    "pca = PCA(n_components=10)\n",
    "pca.fit(X_train)"
   ]
  },
  {
   "cell_type": "code",
   "execution_count": 50,
   "metadata": {},
   "outputs": [],
   "source": [
    "X_train_pca = pca.transform(X_train)\n",
    "X_test_pca = pca.transform(X_test) "
   ]
  },
  {
   "cell_type": "code",
   "execution_count": 51,
   "metadata": {},
   "outputs": [
    {
     "data": {
      "text/plain": [
       "RandomForestClassifier(n_jobs=-1, random_state=0)"
      ]
     },
     "execution_count": 51,
     "metadata": {},
     "output_type": "execute_result"
    }
   ],
   "source": [
    "from sklearn.ensemble import RandomForestClassifier\n",
    "\n",
    "# Create classifier object and fit it to data\n",
    "forest = RandomForestClassifier(criterion='gini', random_state=0, n_jobs=-1)\n",
    "forest.fit(X_train_pca, y_train)"
   ]
  },
  {
   "cell_type": "code",
   "execution_count": 53,
   "metadata": {},
   "outputs": [],
   "source": [
    "y_pred = forest.predict(X_test_pca)"
   ]
  },
  {
   "cell_type": "code",
   "execution_count": 54,
   "metadata": {},
   "outputs": [
    {
     "name": "stdout",
     "output_type": "stream",
     "text": [
      "              precision    recall  f1-score   support\n",
      "\n",
      "           0       0.48      0.43      0.45      1404\n",
      "           1       0.09      0.01      0.02       224\n",
      "           2       0.58      0.69      0.63      1846\n",
      "\n",
      "    accuracy                           0.54      3474\n",
      "   macro avg       0.38      0.38      0.37      3474\n",
      "weighted avg       0.51      0.54      0.52      3474\n",
      "\n"
     ]
    }
   ],
   "source": [
    "from sklearn.metrics import classification_report\n",
    "\n",
    "print(classification_report(y_test,y_pred))"
   ]
  },
  {
   "cell_type": "markdown",
   "metadata": {},
   "source": [
    "Cross Validation"
   ]
  },
  {
   "cell_type": "code",
   "execution_count": 55,
   "metadata": {},
   "outputs": [],
   "source": [
    "# Create Train test split\n",
    "from sklearn.model_selection import train_test_split\n",
    "X_train, X_test, y_train, y_test = train_test_split(X, y, test_size=0.3, random_state=0, stratify=y)"
   ]
  },
  {
   "cell_type": "code",
   "execution_count": 56,
   "metadata": {},
   "outputs": [
    {
     "name": "stdout",
     "output_type": "stream",
     "text": [
      "[0.57310302 0.57495373 0.57618754 0.56014806 0.57680444]\n",
      "CV accuracy on train set:  0.572 +/-  0.006\n"
     ]
    }
   ],
   "source": [
    "# Import necessary functions\n",
    "from sklearn.model_selection import StratifiedKFold, cross_val_score\n",
    "\n",
    "# Create k-Fold CV and LogReg object\n",
    "kFold = StratifiedKFold(n_splits=5)\n",
    "forestcv = RandomForestClassifier(criterion='gini', random_state=0, n_jobs=-1)\n",
    "\n",
    "# Run CV and print results\n",
    "scores = cross_val_score(forestcv, X_train, y_train, cv=kFold)\n",
    "print(scores)\n",
    "print('CV accuracy on train set: {0: .3f} +/- {1: .3f}'.format(np.mean(scores), np.std(scores)))"
   ]
  },
  {
   "cell_type": "code",
   "execution_count": 57,
   "metadata": {},
   "outputs": [
    {
     "name": "stdout",
     "output_type": "stream",
     "text": [
      "Test set accuracy:             0.5667818077144502\n"
     ]
    }
   ],
   "source": [
    "print('Test set accuracy:            ', forestcv.fit(X_train, y_train).score(X_test, y_test))"
   ]
  },
  {
   "cell_type": "code",
   "execution_count": 58,
   "metadata": {},
   "outputs": [],
   "source": [
    "#No additional improvement"
   ]
  }
 ],
 "metadata": {
  "kernelspec": {
   "display_name": "Python 3",
   "language": "python",
   "name": "python3"
  },
  "language_info": {
   "codemirror_mode": {
    "name": "ipython",
    "version": 3
   },
   "file_extension": ".py",
   "mimetype": "text/x-python",
   "name": "python",
   "nbconvert_exporter": "python",
   "pygments_lexer": "ipython3",
   "version": "3.8.3"
  }
 },
 "nbformat": 4,
 "nbformat_minor": 4
}
