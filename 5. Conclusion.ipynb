{
 "cells": [
  {
   "cell_type": "markdown",
   "metadata": {},
   "source": [
    "## Only upsampling Test data "
   ]
  },
  {
   "cell_type": "code",
   "execution_count": 1,
   "metadata": {},
   "outputs": [],
   "source": [
    "%matplotlib inline\n",
    "import pandas as pd\n",
    "import numpy as np\n",
    "import matplotlib.pyplot as plt\n",
    "from sklearn import metrics\n",
    "import seaborn as sns\n",
    "plt.rcParams['font.size'] = 14\n",
    "plt.style.use('seaborn-whitegrid')"
   ]
  },
  {
   "cell_type": "code",
   "execution_count": 2,
   "metadata": {},
   "outputs": [],
   "source": [
    "df = pd.read_csv('cleaned_data/Cleaned Data.csv',index_col=[0])"
   ]
  },
  {
   "cell_type": "code",
   "execution_count": 3,
   "metadata": {},
   "outputs": [
    {
     "data": {
      "text/plain": [
       "Sell    6153\n",
       "Buy     4681\n",
       "Hold     745\n",
       "Name: Signal, dtype: int64"
      ]
     },
     "execution_count": 3,
     "metadata": {},
     "output_type": "execute_result"
    }
   ],
   "source": [
    "df['Signal'].value_counts()"
   ]
  },
  {
   "cell_type": "code",
   "execution_count": 4,
   "metadata": {},
   "outputs": [],
   "source": [
    "SignalFac = []\n",
    "\n",
    "for string in df['Signal']:\n",
    "    if string == 'Sell':\n",
    "        SignalFac.append(2)\n",
    "    elif string == 'Hold':\n",
    "        SignalFac.append(1)    \n",
    "    else:\n",
    "        SignalFac.append(0)"
   ]
  },
  {
   "cell_type": "code",
   "execution_count": 5,
   "metadata": {},
   "outputs": [],
   "source": [
    "df['SignalFac'] = SignalFac"
   ]
  },
  {
   "cell_type": "code",
   "execution_count": 6,
   "metadata": {},
   "outputs": [],
   "source": [
    "y = df['SignalFac']\n",
    "X = df.drop(['Signal','SignalFac'], axis=1)"
   ]
  },
  {
   "cell_type": "code",
   "execution_count": 8,
   "metadata": {},
   "outputs": [],
   "source": [
    "# Create Train test split\n",
    "from sklearn.model_selection import train_test_split\n",
    "X_train, X_test, y_train, y_test = train_test_split(X, y, test_size=0.3, random_state=0, stratify=y)"
   ]
  },
  {
   "cell_type": "code",
   "execution_count": 10,
   "metadata": {},
   "outputs": [
    {
     "name": "stdout",
     "output_type": "stream",
     "text": [
      "Sell hat 4307 Werte\n",
      "Hold hat 521 Werte\n",
      "Buy hat 3277 Werte\n"
     ]
    }
   ],
   "source": [
    "print('Sell hat', X_train[y_train==2].shape[0], 'Werte')\n",
    "print('Hold hat', X_train[y_train==1].shape[0], 'Werte')\n",
    "print('Buy hat', X_train[y_train==0].shape[0], 'Werte')"
   ]
  },
  {
   "cell_type": "code",
   "execution_count": 11,
   "metadata": {},
   "outputs": [],
   "source": [
    "#Upsampling of Hold to the number of Sell\n",
    "\n",
    "from sklearn.utils import resample\n",
    "\n",
    "X_upsampled, y_upsampled = resample(X_train[y_train==1], y_train[y_train==1],\n",
    "                                    replace=True,\n",
    "                                    n_samples=3786,\n",
    "                                    random_state=1)"
   ]
  },
  {
   "cell_type": "code",
   "execution_count": 12,
   "metadata": {},
   "outputs": [],
   "source": [
    "# Combine datasets\n",
    "X_bal = np.vstack((X_train, X_upsampled))\n",
    "y_bal = np.hstack((y_train, y_upsampled))"
   ]
  },
  {
   "cell_type": "code",
   "execution_count": 13,
   "metadata": {},
   "outputs": [],
   "source": [
    "#Upsampling of Buy to the number of Sells\n",
    "\n",
    "from sklearn.utils import resample\n",
    "\n",
    "X2_upsampled, y2_upsampled = resample(X_train[y_train==0], y_train[y_train==0],\n",
    "                                    replace=True,\n",
    "                                    n_samples=1030,\n",
    "                                    random_state=1)"
   ]
  },
  {
   "cell_type": "code",
   "execution_count": 14,
   "metadata": {},
   "outputs": [],
   "source": [
    "# Combine datasets\n",
    "X_bal = np.vstack((X_bal, X2_upsampled))\n",
    "y_bal = np.hstack((y_bal, y2_upsampled))"
   ]
  },
  {
   "cell_type": "code",
   "execution_count": 15,
   "metadata": {},
   "outputs": [
    {
     "data": {
      "text/plain": [
       "2    4307\n",
       "1    4307\n",
       "0    4307\n",
       "Name: 0, dtype: int64"
      ]
     },
     "execution_count": 15,
     "metadata": {},
     "output_type": "execute_result"
    }
   ],
   "source": [
    "pd.value_counts(pd.DataFrame(y_bal)[0])"
   ]
  },
  {
   "cell_type": "code",
   "execution_count": 16,
   "metadata": {},
   "outputs": [
    {
     "data": {
      "text/plain": [
       "RandomForestClassifier(n_jobs=-1, random_state=0)"
      ]
     },
     "execution_count": 16,
     "metadata": {},
     "output_type": "execute_result"
    }
   ],
   "source": [
    "from sklearn.ensemble import RandomForestClassifier\n",
    "\n",
    "# Create classifier object and fit it to data\n",
    "forest = RandomForestClassifier(criterion='gini', random_state=0, n_jobs=-1)\n",
    "forest.fit(X_bal, y_bal)"
   ]
  },
  {
   "cell_type": "code",
   "execution_count": 18,
   "metadata": {},
   "outputs": [],
   "source": [
    "y_pred = forest.predict(X_test)"
   ]
  },
  {
   "cell_type": "code",
   "execution_count": 21,
   "metadata": {},
   "outputs": [
    {
     "name": "stdout",
     "output_type": "stream",
     "text": [
      "              precision    recall  f1-score   support\n",
      "\n",
      "           0       0.49      0.47      0.48      1404\n",
      "           1       0.06      0.01      0.02       224\n",
      "           2       0.59      0.67      0.63      1846\n",
      "\n",
      "    accuracy                           0.55      3474\n",
      "   macro avg       0.38      0.38      0.38      3474\n",
      "weighted avg       0.52      0.55      0.53      3474\n",
      "\n"
     ]
    }
   ],
   "source": [
    "from sklearn.metrics import classification_report\n",
    "\n",
    "print(classification_report(y_test,y_pred))"
   ]
  },
  {
   "cell_type": "code",
   "execution_count": 23,
   "metadata": {},
   "outputs": [
    {
     "name": "stdout",
     "output_type": "stream",
     "text": [
      "Confusion matrix: \n",
      " [[ 661   17  726]\n",
      " [  87    2  135]\n",
      " [ 594   12 1240]]\n"
     ]
    }
   ],
   "source": [
    "print('Confusion matrix: \\n', \n",
    "      metrics.confusion_matrix(y_test,y_pred))"
   ]
  }
 ],
 "metadata": {
  "kernelspec": {
   "display_name": "Python 3",
   "language": "python",
   "name": "python3"
  },
  "language_info": {
   "codemirror_mode": {
    "name": "ipython",
    "version": 3
   },
   "file_extension": ".py",
   "mimetype": "text/x-python",
   "name": "python",
   "nbconvert_exporter": "python",
   "pygments_lexer": "ipython3",
   "version": "3.8.3"
  }
 },
 "nbformat": 4,
 "nbformat_minor": 4
}
