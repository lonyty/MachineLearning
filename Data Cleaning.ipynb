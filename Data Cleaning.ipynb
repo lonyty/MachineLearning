{
 "cells": [
  {
   "cell_type": "code",
   "execution_count": 255,
   "metadata": {},
   "outputs": [],
   "source": [
    "import pandas as pd\n",
    "import numpy as np\n",
    "import matplotlib.pyplot as plt\n",
    "import seaborn as sns\n",
    "%matplotlib inline"
   ]
  },
  {
   "cell_type": "code",
   "execution_count": 256,
   "metadata": {},
   "outputs": [],
   "source": [
    "df2014 = pd.read_csv('2014_Financial_Data.csv')\n",
    "df2015 = pd.read_csv('2015_Financial_Data.csv')\n",
    "df2016 = pd.read_csv('2016_Financial_Data.csv')\n",
    "df2017 = pd.read_csv('2017_Financial_Data.csv')\n",
    "df2018 = pd.read_csv('2018_Financial_Data.csv')"
   ]
  },
  {
   "cell_type": "code",
   "execution_count": 257,
   "metadata": {},
   "outputs": [],
   "source": [
    "df2014 = df2014.rename({'2015 PRICE VAR [%]':'PRICE_VAR'},axis =1)\n",
    "df2015 = df2015.rename({'2016 PRICE VAR [%]':'PRICE_VAR'},axis =1)\n",
    "df2016 = df2016.rename({'2017 PRICE VAR [%]':'PRICE_VAR'},axis =1)\n",
    "df2017 = df2017.rename({'2018 PRICE VAR [%]':'PRICE_VAR'},axis =1)\n",
    "df2018 = df2018.rename({'2019 PRICE VAR [%]':'PRICE_VAR'},axis =1)"
   ]
  },
  {
   "cell_type": "code",
   "execution_count": 258,
   "metadata": {},
   "outputs": [],
   "source": [
    "# Adding the Benchmark for each year\n",
    "df2014['S&P 500'] = -0.0073\n",
    "df2015['S&P 500'] = 0.0954\n",
    "df2016['S&P 500'] = 0.1942\n",
    "df2017['S&P 500'] = -0.0624\n",
    "df2018['S&P 500'] = 0.2888"
   ]
  },
  {
   "cell_type": "code",
   "execution_count": 259,
   "metadata": {},
   "outputs": [
    {
     "name": "stdout",
     "output_type": "stream",
     "text": [
      "(3808, 226)\n",
      "(4120, 226)\n",
      "(4797, 226)\n",
      "(4960, 226)\n",
      "(4392, 226)\n"
     ]
    }
   ],
   "source": [
    "print(df2014.shape)\n",
    "print(df2015.shape)\n",
    "print(df2016.shape)\n",
    "print(df2017.shape)\n",
    "print(df2018.shape)"
   ]
  },
  {
   "cell_type": "code",
   "execution_count": 260,
   "metadata": {},
   "outputs": [],
   "source": [
    "df = pd.concat([df2014,df2015,df2016,df2017,df2018])"
   ]
  },
  {
   "cell_type": "markdown",
   "metadata": {},
   "source": [
    "## Übersicht Datenset"
   ]
  },
  {
   "cell_type": "code",
   "execution_count": 261,
   "metadata": {},
   "outputs": [
    {
     "data": {
      "text/html": [
       "<div>\n",
       "<style scoped>\n",
       "    .dataframe tbody tr th:only-of-type {\n",
       "        vertical-align: middle;\n",
       "    }\n",
       "\n",
       "    .dataframe tbody tr th {\n",
       "        vertical-align: top;\n",
       "    }\n",
       "\n",
       "    .dataframe thead th {\n",
       "        text-align: right;\n",
       "    }\n",
       "</style>\n",
       "<table border=\"1\" class=\"dataframe\">\n",
       "  <thead>\n",
       "    <tr style=\"text-align: right;\">\n",
       "      <th></th>\n",
       "      <th>Unnamed: 0</th>\n",
       "      <th>Revenue</th>\n",
       "      <th>Revenue Growth</th>\n",
       "      <th>Cost of Revenue</th>\n",
       "      <th>Gross Profit</th>\n",
       "      <th>R&amp;D Expenses</th>\n",
       "      <th>SG&amp;A Expense</th>\n",
       "      <th>Operating Expenses</th>\n",
       "      <th>Operating Income</th>\n",
       "      <th>Interest Expense</th>\n",
       "      <th>...</th>\n",
       "      <th>Inventory Growth</th>\n",
       "      <th>Asset Growth</th>\n",
       "      <th>Book Value per Share Growth</th>\n",
       "      <th>Debt Growth</th>\n",
       "      <th>R&amp;D Expense Growth</th>\n",
       "      <th>SG&amp;A Expenses Growth</th>\n",
       "      <th>Sector</th>\n",
       "      <th>PRICE_VAR</th>\n",
       "      <th>Class</th>\n",
       "      <th>S&amp;P 500</th>\n",
       "    </tr>\n",
       "  </thead>\n",
       "  <tbody>\n",
       "    <tr>\n",
       "      <th>0</th>\n",
       "      <td>PG</td>\n",
       "      <td>7.440100e+10</td>\n",
       "      <td>-0.0713</td>\n",
       "      <td>3.903000e+10</td>\n",
       "      <td>3.537100e+10</td>\n",
       "      <td>0.000000e+00</td>\n",
       "      <td>2.146100e+10</td>\n",
       "      <td>2.146100e+10</td>\n",
       "      <td>1.391000e+10</td>\n",
       "      <td>7.090000e+08</td>\n",
       "      <td>...</td>\n",
       "      <td>-0.0217</td>\n",
       "      <td>0.0359</td>\n",
       "      <td>0.0316</td>\n",
       "      <td>0.1228</td>\n",
       "      <td>0.0000</td>\n",
       "      <td>-0.1746</td>\n",
       "      <td>Consumer Defensive</td>\n",
       "      <td>-9.323276</td>\n",
       "      <td>0</td>\n",
       "      <td>-0.0073</td>\n",
       "    </tr>\n",
       "    <tr>\n",
       "      <th>1</th>\n",
       "      <td>VIPS</td>\n",
       "      <td>3.734148e+09</td>\n",
       "      <td>1.1737</td>\n",
       "      <td>2.805625e+09</td>\n",
       "      <td>9.285226e+08</td>\n",
       "      <td>1.083303e+08</td>\n",
       "      <td>3.441414e+08</td>\n",
       "      <td>7.939267e+08</td>\n",
       "      <td>1.345959e+08</td>\n",
       "      <td>1.214869e+07</td>\n",
       "      <td>...</td>\n",
       "      <td>NaN</td>\n",
       "      <td>NaN</td>\n",
       "      <td>NaN</td>\n",
       "      <td>NaN</td>\n",
       "      <td>1.6484</td>\n",
       "      <td>1.7313</td>\n",
       "      <td>Consumer Defensive</td>\n",
       "      <td>-25.512193</td>\n",
       "      <td>0</td>\n",
       "      <td>-0.0073</td>\n",
       "    </tr>\n",
       "    <tr>\n",
       "      <th>2</th>\n",
       "      <td>KR</td>\n",
       "      <td>9.837500e+10</td>\n",
       "      <td>0.0182</td>\n",
       "      <td>7.813800e+10</td>\n",
       "      <td>2.023700e+10</td>\n",
       "      <td>0.000000e+00</td>\n",
       "      <td>1.519600e+10</td>\n",
       "      <td>1.751200e+10</td>\n",
       "      <td>2.725000e+09</td>\n",
       "      <td>4.430000e+08</td>\n",
       "      <td>...</td>\n",
       "      <td>0.0981</td>\n",
       "      <td>0.1886</td>\n",
       "      <td>0.3268</td>\n",
       "      <td>0.2738</td>\n",
       "      <td>0.0000</td>\n",
       "      <td>0.0234</td>\n",
       "      <td>Consumer Defensive</td>\n",
       "      <td>33.118297</td>\n",
       "      <td>1</td>\n",
       "      <td>-0.0073</td>\n",
       "    </tr>\n",
       "  </tbody>\n",
       "</table>\n",
       "<p>3 rows × 226 columns</p>\n",
       "</div>"
      ],
      "text/plain": [
       "  Unnamed: 0       Revenue  Revenue Growth  Cost of Revenue  Gross Profit  \\\n",
       "0         PG  7.440100e+10         -0.0713     3.903000e+10  3.537100e+10   \n",
       "1       VIPS  3.734148e+09          1.1737     2.805625e+09  9.285226e+08   \n",
       "2         KR  9.837500e+10          0.0182     7.813800e+10  2.023700e+10   \n",
       "\n",
       "   R&D Expenses  SG&A Expense  Operating Expenses  Operating Income  \\\n",
       "0  0.000000e+00  2.146100e+10        2.146100e+10      1.391000e+10   \n",
       "1  1.083303e+08  3.441414e+08        7.939267e+08      1.345959e+08   \n",
       "2  0.000000e+00  1.519600e+10        1.751200e+10      2.725000e+09   \n",
       "\n",
       "   Interest Expense  ...  Inventory Growth  Asset Growth  \\\n",
       "0      7.090000e+08  ...           -0.0217        0.0359   \n",
       "1      1.214869e+07  ...               NaN           NaN   \n",
       "2      4.430000e+08  ...            0.0981        0.1886   \n",
       "\n",
       "   Book Value per Share Growth  Debt Growth  R&D Expense Growth  \\\n",
       "0                       0.0316       0.1228              0.0000   \n",
       "1                          NaN          NaN              1.6484   \n",
       "2                       0.3268       0.2738              0.0000   \n",
       "\n",
       "   SG&A Expenses Growth              Sector  PRICE_VAR  Class  S&P 500  \n",
       "0               -0.1746  Consumer Defensive  -9.323276      0  -0.0073  \n",
       "1                1.7313  Consumer Defensive -25.512193      0  -0.0073  \n",
       "2                0.0234  Consumer Defensive  33.118297      1  -0.0073  \n",
       "\n",
       "[3 rows x 226 columns]"
      ]
     },
     "execution_count": 261,
     "metadata": {},
     "output_type": "execute_result"
    }
   ],
   "source": [
    "df.head(3)"
   ]
  },
  {
   "cell_type": "code",
   "execution_count": 262,
   "metadata": {},
   "outputs": [
    {
     "name": "stdout",
     "output_type": "stream",
     "text": [
      "<class 'pandas.core.frame.DataFrame'>\n",
      "Int64Index: 22077 entries, 0 to 4391\n",
      "Columns: 226 entries, Unnamed: 0 to S&P 500\n",
      "dtypes: float64(223), int64(1), object(2)\n",
      "memory usage: 38.2+ MB\n"
     ]
    }
   ],
   "source": [
    "df.info()"
   ]
  },
  {
   "cell_type": "code",
   "execution_count": 263,
   "metadata": {},
   "outputs": [
    {
     "data": {
      "text/html": [
       "<div>\n",
       "<style scoped>\n",
       "    .dataframe tbody tr th:only-of-type {\n",
       "        vertical-align: middle;\n",
       "    }\n",
       "\n",
       "    .dataframe tbody tr th {\n",
       "        vertical-align: top;\n",
       "    }\n",
       "\n",
       "    .dataframe thead th {\n",
       "        text-align: right;\n",
       "    }\n",
       "</style>\n",
       "<table border=\"1\" class=\"dataframe\">\n",
       "  <thead>\n",
       "    <tr style=\"text-align: right;\">\n",
       "      <th></th>\n",
       "      <th>Revenue</th>\n",
       "      <th>Revenue Growth</th>\n",
       "      <th>Cost of Revenue</th>\n",
       "      <th>Gross Profit</th>\n",
       "      <th>R&amp;D Expenses</th>\n",
       "      <th>SG&amp;A Expense</th>\n",
       "      <th>Operating Expenses</th>\n",
       "      <th>Operating Income</th>\n",
       "      <th>Interest Expense</th>\n",
       "      <th>Earnings before Tax</th>\n",
       "      <th>...</th>\n",
       "      <th>Receivables growth</th>\n",
       "      <th>Inventory Growth</th>\n",
       "      <th>Asset Growth</th>\n",
       "      <th>Book Value per Share Growth</th>\n",
       "      <th>Debt Growth</th>\n",
       "      <th>R&amp;D Expense Growth</th>\n",
       "      <th>SG&amp;A Expenses Growth</th>\n",
       "      <th>PRICE_VAR</th>\n",
       "      <th>Class</th>\n",
       "      <th>S&amp;P 500</th>\n",
       "    </tr>\n",
       "  </thead>\n",
       "  <tbody>\n",
       "    <tr>\n",
       "      <th>count</th>\n",
       "      <td>2.090600e+04</td>\n",
       "      <td>19989.000000</td>\n",
       "      <td>2.030600e+04</td>\n",
       "      <td>2.087000e+04</td>\n",
       "      <td>1.993900e+04</td>\n",
       "      <td>2.040800e+04</td>\n",
       "      <td>2.037500e+04</td>\n",
       "      <td>2.097600e+04</td>\n",
       "      <td>2.035800e+04</td>\n",
       "      <td>2.071300e+04</td>\n",
       "      <td>...</td>\n",
       "      <td>19952.000000</td>\n",
       "      <td>19650.000000</td>\n",
       "      <td>19690.000000</td>\n",
       "      <td>19213.000000</td>\n",
       "      <td>19462.000000</td>\n",
       "      <td>19598.000000</td>\n",
       "      <td>19655.000000</td>\n",
       "      <td>2.207700e+04</td>\n",
       "      <td>22077.000000</td>\n",
       "      <td>22077.000000</td>\n",
       "    </tr>\n",
       "    <tr>\n",
       "      <th>mean</th>\n",
       "      <td>5.161619e+09</td>\n",
       "      <td>3.622214</td>\n",
       "      <td>3.258565e+09</td>\n",
       "      <td>1.970452e+09</td>\n",
       "      <td>1.033333e+08</td>\n",
       "      <td>8.699279e+08</td>\n",
       "      <td>1.368670e+09</td>\n",
       "      <td>5.896979e+08</td>\n",
       "      <td>9.778939e+07</td>\n",
       "      <td>4.925003e+08</td>\n",
       "      <td>...</td>\n",
       "      <td>10.978239</td>\n",
       "      <td>0.158858</td>\n",
       "      <td>1.134221</td>\n",
       "      <td>0.783208</td>\n",
       "      <td>3.733922</td>\n",
       "      <td>0.295610</td>\n",
       "      <td>0.365149</td>\n",
       "      <td>2.698893e+02</td>\n",
       "      <td>0.550754</td>\n",
       "      <td>0.102176</td>\n",
       "    </tr>\n",
       "    <tr>\n",
       "      <th>std</th>\n",
       "      <td>3.197314e+10</td>\n",
       "      <td>312.648170</td>\n",
       "      <td>2.583092e+10</td>\n",
       "      <td>8.735750e+09</td>\n",
       "      <td>7.676062e+08</td>\n",
       "      <td>3.804283e+09</td>\n",
       "      <td>5.662984e+09</td>\n",
       "      <td>2.976454e+09</td>\n",
       "      <td>4.996543e+08</td>\n",
       "      <td>2.484345e+09</td>\n",
       "      <td>...</td>\n",
       "      <td>1101.098165</td>\n",
       "      <td>3.268154</td>\n",
       "      <td>45.381079</td>\n",
       "      <td>66.524006</td>\n",
       "      <td>174.864701</td>\n",
       "      <td>12.974127</td>\n",
       "      <td>15.030054</td>\n",
       "      <td>1.934617e+04</td>\n",
       "      <td>0.497429</td>\n",
       "      <td>0.130118</td>\n",
       "    </tr>\n",
       "    <tr>\n",
       "      <th>min</th>\n",
       "      <td>-6.276160e+08</td>\n",
       "      <td>-12.769300</td>\n",
       "      <td>-2.986888e+09</td>\n",
       "      <td>-1.280800e+10</td>\n",
       "      <td>-1.098000e+08</td>\n",
       "      <td>-1.401594e+08</td>\n",
       "      <td>-5.495512e+09</td>\n",
       "      <td>-1.933900e+10</td>\n",
       "      <td>-1.710954e+09</td>\n",
       "      <td>-2.177200e+10</td>\n",
       "      <td>...</td>\n",
       "      <td>-1.000000</td>\n",
       "      <td>-1.000000</td>\n",
       "      <td>-1.000000</td>\n",
       "      <td>-3963.131200</td>\n",
       "      <td>-1.051000</td>\n",
       "      <td>-2.662200</td>\n",
       "      <td>-2.369900</td>\n",
       "      <td>-1.003972e+02</td>\n",
       "      <td>0.000000</td>\n",
       "      <td>-0.062400</td>\n",
       "    </tr>\n",
       "    <tr>\n",
       "      <th>25%</th>\n",
       "      <td>5.880737e+07</td>\n",
       "      <td>-0.014700</td>\n",
       "      <td>3.211750e+06</td>\n",
       "      <td>3.035575e+07</td>\n",
       "      <td>0.000000e+00</td>\n",
       "      <td>1.768550e+07</td>\n",
       "      <td>3.564150e+07</td>\n",
       "      <td>-4.433750e+06</td>\n",
       "      <td>0.000000e+00</td>\n",
       "      <td>-8.745000e+06</td>\n",
       "      <td>...</td>\n",
       "      <td>-0.051125</td>\n",
       "      <td>0.000000</td>\n",
       "      <td>-0.031075</td>\n",
       "      <td>-0.103800</td>\n",
       "      <td>-0.067475</td>\n",
       "      <td>0.000000</td>\n",
       "      <td>-0.013700</td>\n",
       "      <td>-1.947409e+01</td>\n",
       "      <td>0.000000</td>\n",
       "      <td>-0.007300</td>\n",
       "    </tr>\n",
       "    <tr>\n",
       "      <th>50%</th>\n",
       "      <td>4.352510e+08</td>\n",
       "      <td>0.057600</td>\n",
       "      <td>1.530115e+08</td>\n",
       "      <td>1.943525e+08</td>\n",
       "      <td>0.000000e+00</td>\n",
       "      <td>8.062450e+07</td>\n",
       "      <td>1.564000e+08</td>\n",
       "      <td>3.585350e+07</td>\n",
       "      <td>3.697000e+06</td>\n",
       "      <td>2.380000e+07</td>\n",
       "      <td>...</td>\n",
       "      <td>0.009500</td>\n",
       "      <td>0.000000</td>\n",
       "      <td>0.048000</td>\n",
       "      <td>0.032400</td>\n",
       "      <td>0.000000</td>\n",
       "      <td>0.000000</td>\n",
       "      <td>0.061000</td>\n",
       "      <td>3.909087e+00</td>\n",
       "      <td>1.000000</td>\n",
       "      <td>0.095400</td>\n",
       "    </tr>\n",
       "    <tr>\n",
       "      <th>75%</th>\n",
       "      <td>2.287259e+09</td>\n",
       "      <td>0.182400</td>\n",
       "      <td>1.180224e+09</td>\n",
       "      <td>8.806035e+08</td>\n",
       "      <td>1.220150e+07</td>\n",
       "      <td>3.699722e+08</td>\n",
       "      <td>6.210870e+08</td>\n",
       "      <td>2.554363e+08</td>\n",
       "      <td>4.969325e+07</td>\n",
       "      <td>1.964680e+08</td>\n",
       "      <td>...</td>\n",
       "      <td>0.200550</td>\n",
       "      <td>0.058400</td>\n",
       "      <td>0.176800</td>\n",
       "      <td>0.142100</td>\n",
       "      <td>0.150075</td>\n",
       "      <td>0.000000</td>\n",
       "      <td>0.185350</td>\n",
       "      <td>2.750567e+01</td>\n",
       "      <td>1.000000</td>\n",
       "      <td>0.194200</td>\n",
       "    </tr>\n",
       "    <tr>\n",
       "      <th>max</th>\n",
       "      <td>1.886894e+12</td>\n",
       "      <td>42138.663900</td>\n",
       "      <td>1.581527e+12</td>\n",
       "      <td>4.621600e+11</td>\n",
       "      <td>2.883700e+10</td>\n",
       "      <td>1.856830e+11</td>\n",
       "      <td>3.056050e+11</td>\n",
       "      <td>1.565540e+11</td>\n",
       "      <td>3.152300e+10</td>\n",
       "      <td>8.720500e+10</td>\n",
       "      <td>...</td>\n",
       "      <td>153332.333300</td>\n",
       "      <td>293.473000</td>\n",
       "      <td>5468.426400</td>\n",
       "      <td>7039.325900</td>\n",
       "      <td>17646.823500</td>\n",
       "      <td>1542.611000</td>\n",
       "      <td>2042.000000</td>\n",
       "      <td>2.418601e+06</td>\n",
       "      <td>1.000000</td>\n",
       "      <td>0.288800</td>\n",
       "    </tr>\n",
       "  </tbody>\n",
       "</table>\n",
       "<p>8 rows × 224 columns</p>\n",
       "</div>"
      ],
      "text/plain": [
       "            Revenue  Revenue Growth  Cost of Revenue  Gross Profit  \\\n",
       "count  2.090600e+04    19989.000000     2.030600e+04  2.087000e+04   \n",
       "mean   5.161619e+09        3.622214     3.258565e+09  1.970452e+09   \n",
       "std    3.197314e+10      312.648170     2.583092e+10  8.735750e+09   \n",
       "min   -6.276160e+08      -12.769300    -2.986888e+09 -1.280800e+10   \n",
       "25%    5.880737e+07       -0.014700     3.211750e+06  3.035575e+07   \n",
       "50%    4.352510e+08        0.057600     1.530115e+08  1.943525e+08   \n",
       "75%    2.287259e+09        0.182400     1.180224e+09  8.806035e+08   \n",
       "max    1.886894e+12    42138.663900     1.581527e+12  4.621600e+11   \n",
       "\n",
       "       R&D Expenses  SG&A Expense  Operating Expenses  Operating Income  \\\n",
       "count  1.993900e+04  2.040800e+04        2.037500e+04      2.097600e+04   \n",
       "mean   1.033333e+08  8.699279e+08        1.368670e+09      5.896979e+08   \n",
       "std    7.676062e+08  3.804283e+09        5.662984e+09      2.976454e+09   \n",
       "min   -1.098000e+08 -1.401594e+08       -5.495512e+09     -1.933900e+10   \n",
       "25%    0.000000e+00  1.768550e+07        3.564150e+07     -4.433750e+06   \n",
       "50%    0.000000e+00  8.062450e+07        1.564000e+08      3.585350e+07   \n",
       "75%    1.220150e+07  3.699722e+08        6.210870e+08      2.554363e+08   \n",
       "max    2.883700e+10  1.856830e+11        3.056050e+11      1.565540e+11   \n",
       "\n",
       "       Interest Expense  Earnings before Tax  ...  Receivables growth  \\\n",
       "count      2.035800e+04         2.071300e+04  ...        19952.000000   \n",
       "mean       9.778939e+07         4.925003e+08  ...           10.978239   \n",
       "std        4.996543e+08         2.484345e+09  ...         1101.098165   \n",
       "min       -1.710954e+09        -2.177200e+10  ...           -1.000000   \n",
       "25%        0.000000e+00        -8.745000e+06  ...           -0.051125   \n",
       "50%        3.697000e+06         2.380000e+07  ...            0.009500   \n",
       "75%        4.969325e+07         1.964680e+08  ...            0.200550   \n",
       "max        3.152300e+10         8.720500e+10  ...       153332.333300   \n",
       "\n",
       "       Inventory Growth  Asset Growth  Book Value per Share Growth  \\\n",
       "count      19650.000000  19690.000000                 19213.000000   \n",
       "mean           0.158858      1.134221                     0.783208   \n",
       "std            3.268154     45.381079                    66.524006   \n",
       "min           -1.000000     -1.000000                 -3963.131200   \n",
       "25%            0.000000     -0.031075                    -0.103800   \n",
       "50%            0.000000      0.048000                     0.032400   \n",
       "75%            0.058400      0.176800                     0.142100   \n",
       "max          293.473000   5468.426400                  7039.325900   \n",
       "\n",
       "        Debt Growth  R&D Expense Growth  SG&A Expenses Growth     PRICE_VAR  \\\n",
       "count  19462.000000        19598.000000          19655.000000  2.207700e+04   \n",
       "mean       3.733922            0.295610              0.365149  2.698893e+02   \n",
       "std      174.864701           12.974127             15.030054  1.934617e+04   \n",
       "min       -1.051000           -2.662200             -2.369900 -1.003972e+02   \n",
       "25%       -0.067475            0.000000             -0.013700 -1.947409e+01   \n",
       "50%        0.000000            0.000000              0.061000  3.909087e+00   \n",
       "75%        0.150075            0.000000              0.185350  2.750567e+01   \n",
       "max    17646.823500         1542.611000           2042.000000  2.418601e+06   \n",
       "\n",
       "              Class       S&P 500  \n",
       "count  22077.000000  22077.000000  \n",
       "mean       0.550754      0.102176  \n",
       "std        0.497429      0.130118  \n",
       "min        0.000000     -0.062400  \n",
       "25%        0.000000     -0.007300  \n",
       "50%        1.000000      0.095400  \n",
       "75%        1.000000      0.194200  \n",
       "max        1.000000      0.288800  \n",
       "\n",
       "[8 rows x 224 columns]"
      ]
     },
     "execution_count": 263,
     "metadata": {},
     "output_type": "execute_result"
    }
   ],
   "source": [
    "df.describe()"
   ]
  },
  {
   "cell_type": "code",
   "execution_count": 264,
   "metadata": {
    "scrolled": true
   },
   "outputs": [
    {
     "name": "stdout",
     "output_type": "stream",
     "text": [
      "Unnamed: 0\n",
      "Revenue\n",
      "Revenue Growth\n",
      "Cost of Revenue\n",
      "Gross Profit\n",
      "R&D Expenses\n",
      "SG&A Expense\n",
      "Operating Expenses\n",
      "Operating Income\n",
      "Interest Expense\n",
      "Earnings before Tax\n",
      "Income Tax Expense\n",
      "Net Income - Non-Controlling int\n",
      "Net Income - Discontinued ops\n",
      "Net Income\n",
      "Preferred Dividends\n",
      "Net Income Com\n",
      "EPS\n",
      "EPS Diluted\n",
      "Weighted Average Shs Out\n",
      "Weighted Average Shs Out (Dil)\n",
      "Dividend per Share\n",
      "Gross Margin\n",
      "EBITDA Margin\n",
      "EBIT Margin\n",
      "Profit Margin\n",
      "Free Cash Flow margin\n",
      "EBITDA\n",
      "EBIT\n",
      "Consolidated Income\n",
      "Earnings Before Tax Margin\n",
      "Net Profit Margin\n",
      "Cash and cash equivalents\n",
      "Short-term investments\n",
      "Cash and short-term investments\n",
      "Receivables\n",
      "Inventories\n",
      "Total current assets\n",
      "Property, Plant & Equipment Net\n",
      "Goodwill and Intangible Assets\n",
      "Long-term investments\n",
      "Tax assets\n",
      "Total non-current assets\n",
      "Total assets\n",
      "Payables\n",
      "Short-term debt\n",
      "Total current liabilities\n",
      "Long-term debt\n",
      "Total debt\n",
      "Deferred revenue\n",
      "Tax Liabilities\n",
      "Deposit Liabilities\n",
      "Total non-current liabilities\n",
      "Total liabilities\n",
      "Other comprehensive income\n",
      "Retained earnings (deficit)\n",
      "Total shareholders equity\n",
      "Investments\n",
      "Net Debt\n",
      "Other Assets\n",
      "Other Liabilities\n",
      "Depreciation & Amortization\n",
      "Stock-based compensation\n",
      "Operating Cash Flow\n",
      "Capital Expenditure\n",
      "Acquisitions and disposals\n",
      "Investment purchases and sales\n",
      "Investing Cash flow\n",
      "Issuance (repayment) of debt\n",
      "Issuance (buybacks) of shares\n",
      "Dividend payments\n",
      "Financing Cash Flow\n",
      "Effect of forex changes on cash\n",
      "Net cash flow / Change in cash\n",
      "Free Cash Flow\n",
      "Net Cash/Marketcap\n",
      "priceBookValueRatio\n",
      "priceToBookRatio\n",
      "priceToSalesRatio\n",
      "priceEarningsRatio\n",
      "priceToFreeCashFlowsRatio\n",
      "priceToOperatingCashFlowsRatio\n",
      "priceCashFlowRatio\n",
      "priceEarningsToGrowthRatio\n",
      "priceSalesRatio\n",
      "dividendYield\n",
      "enterpriseValueMultiple\n",
      "priceFairValue\n",
      "ebitperRevenue\n",
      "ebtperEBIT\n",
      "niperEBT\n",
      "grossProfitMargin\n",
      "operatingProfitMargin\n",
      "pretaxProfitMargin\n",
      "netProfitMargin\n",
      "effectiveTaxRate\n",
      "returnOnAssets\n",
      "returnOnEquity\n",
      "returnOnCapitalEmployed\n",
      "nIperEBT\n",
      "eBTperEBIT\n",
      "eBITperRevenue\n",
      "payablesTurnover\n",
      "inventoryTurnover\n",
      "fixedAssetTurnover\n",
      "assetTurnover\n",
      "currentRatio\n",
      "quickRatio\n",
      "cashRatio\n",
      "daysOfSalesOutstanding\n",
      "daysOfInventoryOutstanding\n",
      "operatingCycle\n",
      "daysOfPayablesOutstanding\n",
      "cashConversionCycle\n",
      "debtRatio\n",
      "debtEquityRatio\n",
      "longtermDebtToCapitalization\n",
      "totalDebtToCapitalization\n",
      "interestCoverage\n",
      "cashFlowToDebtRatio\n",
      "companyEquityMultiplier\n",
      "operatingCashFlowPerShare\n",
      "freeCashFlowPerShare\n",
      "cashPerShare\n",
      "payoutRatio\n",
      "operatingCashFlowSalesRatio\n",
      "freeCashFlowOperatingCashFlowRatio\n",
      "cashFlowCoverageRatios\n",
      "shortTermCoverageRatios\n",
      "capitalExpenditureCoverageRatios\n",
      "dividendpaidAndCapexCoverageRatios\n",
      "dividendPayoutRatio\n",
      "Revenue per Share\n",
      "Net Income per Share\n",
      "Operating Cash Flow per Share\n",
      "Free Cash Flow per Share\n",
      "Cash per Share\n",
      "Book Value per Share\n",
      "Tangible Book Value per Share\n",
      "Shareholders Equity per Share\n",
      "Interest Debt per Share\n",
      "Market Cap\n",
      "Enterprise Value\n",
      "PE ratio\n",
      "Price to Sales Ratio\n",
      "POCF ratio\n",
      "PFCF ratio\n",
      "PB ratio\n",
      "PTB ratio\n",
      "EV to Sales\n",
      "Enterprise Value over EBITDA\n",
      "EV to Operating cash flow\n",
      "EV to Free cash flow\n",
      "Earnings Yield\n",
      "Free Cash Flow Yield\n",
      "Debt to Equity\n",
      "Debt to Assets\n",
      "Net Debt to EBITDA\n",
      "Current ratio\n",
      "Interest Coverage\n",
      "Income Quality\n",
      "Dividend Yield\n",
      "Payout Ratio\n",
      "SG&A to Revenue\n",
      "R&D to Revenue\n",
      "Intangibles to Total Assets\n",
      "Capex to Operating Cash Flow\n",
      "Capex to Revenue\n",
      "Capex to Depreciation\n",
      "Stock-based compensation to Revenue\n",
      "Graham Number\n",
      "ROIC\n",
      "Return on Tangible Assets\n",
      "Graham Net-Net\n",
      "Working Capital\n",
      "Tangible Asset Value\n",
      "Net Current Asset Value\n",
      "Invested Capital\n",
      "Average Receivables\n",
      "Average Payables\n",
      "Average Inventory\n",
      "Days Sales Outstanding\n",
      "Days Payables Outstanding\n",
      "Days of Inventory on Hand\n",
      "Receivables Turnover\n",
      "Payables Turnover\n",
      "Inventory Turnover\n",
      "ROE\n",
      "Capex per Share\n",
      "Gross Profit Growth\n",
      "EBIT Growth\n",
      "Operating Income Growth\n",
      "Net Income Growth\n",
      "EPS Growth\n",
      "EPS Diluted Growth\n",
      "Weighted Average Shares Growth\n",
      "Weighted Average Shares Diluted Growth\n",
      "Dividends per Share Growth\n",
      "Operating Cash Flow growth\n",
      "Free Cash Flow growth\n",
      "10Y Revenue Growth (per Share)\n",
      "5Y Revenue Growth (per Share)\n",
      "3Y Revenue Growth (per Share)\n",
      "10Y Operating CF Growth (per Share)\n",
      "5Y Operating CF Growth (per Share)\n",
      "3Y Operating CF Growth (per Share)\n",
      "10Y Net Income Growth (per Share)\n",
      "5Y Net Income Growth (per Share)\n",
      "3Y Net Income Growth (per Share)\n",
      "10Y Shareholders Equity Growth (per Share)\n",
      "5Y Shareholders Equity Growth (per Share)\n",
      "3Y Shareholders Equity Growth (per Share)\n",
      "10Y Dividend per Share Growth (per Share)\n",
      "5Y Dividend per Share Growth (per Share)\n",
      "3Y Dividend per Share Growth (per Share)\n",
      "Receivables growth\n",
      "Inventory Growth\n",
      "Asset Growth\n",
      "Book Value per Share Growth\n",
      "Debt Growth\n",
      "R&D Expense Growth\n",
      "SG&A Expenses Growth\n",
      "Sector\n",
      "PRICE_VAR\n",
      "Class\n",
      "S&P 500\n"
     ]
    }
   ],
   "source": [
    "#Übersicht erhalten über alle Features\n",
    "\n",
    "for column in df.columns:\n",
    "    print(column)"
   ]
  },
  {
   "cell_type": "markdown",
   "metadata": {},
   "source": [
    "Unabhängig vom Namen des Unternehmens und Jahr der Daten wollen wir eine Prediction erstellen:"
   ]
  },
  {
   "cell_type": "code",
   "execution_count": 265,
   "metadata": {},
   "outputs": [],
   "source": [
    "df = df.drop(['Unnamed: 0'], axis=1)"
   ]
  },
  {
   "cell_type": "code",
   "execution_count": 266,
   "metadata": {},
   "outputs": [
    {
     "data": {
      "text/plain": [
       "Free Cash Flow Yield             -0.943080\n",
       "Earnings Yield                   -0.047149\n",
       "Graham Net-Net                   -0.022868\n",
       "10Y Revenue Growth (per Share)   -0.019559\n",
       "Net Cash/Marketcap               -0.017185\n",
       "                                    ...   \n",
       "SG&A Expenses Growth              0.032797\n",
       "cashConversionCycle               0.087703\n",
       "operatingCycle                    0.161038\n",
       "PRICE_VAR                         1.000000\n",
       "operatingProfitMargin                  NaN\n",
       "Name: PRICE_VAR, Length: 224, dtype: float64"
      ]
     },
     "execution_count": 266,
     "metadata": {},
     "output_type": "execute_result"
    }
   ],
   "source": [
    "df.corr()['PRICE_VAR'].sort_values()"
   ]
  },
  {
   "cell_type": "code",
   "execution_count": null,
   "metadata": {},
   "outputs": [],
   "source": []
  },
  {
   "cell_type": "markdown",
   "metadata": {},
   "source": [
    "# Wahl unserer Features\n",
    "\n",
    "\n",
    "Folgende Bilanzkennzahlen nehmen wir für unsere Folgeberechnungen:\n",
    "\n",
    "* Debt to Equity (oder EK-Quote, diese hat es aber nicht)\n",
    "* Revenue\n",
    "* Revenue Growth\n",
    "* Gross Margin\n",
    "* R&D Margin = R&D Expenses/Revenue\n",
    "\n",
    "Cashflowrechnung:\n",
    "* EBIT\n",
    "* EBIT Margin\n",
    "\n",
    "Folgende aufgrund der signifikanten Werte des Carhartt Modells (inkl. Momentum):\n",
    "* priceToBookRatio\n",
    "* 5Y Shareholders Equity Growth (per Share)\n",
    "* Market Cap\n",
    "\n",
    "Multiples:\n",
    "* PE ratio\n",
    "* Enterprise Value over EBITDA\n",
    "* priceEarningsToGrowthRatio\n",
    "\n",
    "Kennzahlensysteme:\n",
    "* ROE\n",
    "\n",
    "Wir wollen die folgende Response Variabel bestimmen\n",
    "* PRICE_VAR\n",
    "\n",
    "Ebenfalls haben wir einen Benchmark, mit den wir unsere Schätzungen vergleichen und somit die Klassifizierung in Buy/Hold/Sell ermöglichen:\n",
    "* S&P 500"
   ]
  },
  {
   "cell_type": "code",
   "execution_count": 267,
   "metadata": {},
   "outputs": [],
   "source": [
    "dfn = df[['Debt to Equity', 'Revenue', 'Revenue Growth', 'Gross Margin', 'EBIT', 'EBIT Margin', 'priceToBookRatio', '5Y Shareholders Equity Growth (per Share)', 'Market Cap', 'PE ratio', 'Enterprise Value over EBITDA', 'priceEarningsToGrowthRatio', 'ROE', 'PRICE_VAR', 'S&P 500']]"
   ]
  },
  {
   "cell_type": "code",
   "execution_count": 268,
   "metadata": {},
   "outputs": [
    {
     "data": {
      "text/html": [
       "<div>\n",
       "<style scoped>\n",
       "    .dataframe tbody tr th:only-of-type {\n",
       "        vertical-align: middle;\n",
       "    }\n",
       "\n",
       "    .dataframe tbody tr th {\n",
       "        vertical-align: top;\n",
       "    }\n",
       "\n",
       "    .dataframe thead th {\n",
       "        text-align: right;\n",
       "    }\n",
       "</style>\n",
       "<table border=\"1\" class=\"dataframe\">\n",
       "  <thead>\n",
       "    <tr style=\"text-align: right;\">\n",
       "      <th></th>\n",
       "      <th>Debt to Equity</th>\n",
       "      <th>Revenue</th>\n",
       "      <th>Revenue Growth</th>\n",
       "      <th>Gross Margin</th>\n",
       "      <th>EBIT</th>\n",
       "      <th>EBIT Margin</th>\n",
       "      <th>priceToBookRatio</th>\n",
       "      <th>5Y Shareholders Equity Growth (per Share)</th>\n",
       "      <th>Market Cap</th>\n",
       "      <th>PE ratio</th>\n",
       "      <th>Enterprise Value over EBITDA</th>\n",
       "      <th>priceEarningsToGrowthRatio</th>\n",
       "      <th>ROE</th>\n",
       "      <th>PRICE_VAR</th>\n",
       "      <th>S&amp;P 500</th>\n",
       "    </tr>\n",
       "  </thead>\n",
       "  <tbody>\n",
       "    <tr>\n",
       "      <th>0</th>\n",
       "      <td>0.5061</td>\n",
       "      <td>7.440100e+10</td>\n",
       "      <td>-0.0713</td>\n",
       "      <td>0.4754</td>\n",
       "      <td>1.520300e+10</td>\n",
       "      <td>0.2043</td>\n",
       "      <td>0.0000</td>\n",
       "      <td>0.0353</td>\n",
       "      <td>2.126614e+11</td>\n",
       "      <td>18.7566</td>\n",
       "      <td>12.9411</td>\n",
       "      <td>15.557842</td>\n",
       "      <td>0.1664</td>\n",
       "      <td>-9.323276</td>\n",
       "      <td>-0.0073</td>\n",
       "    </tr>\n",
       "    <tr>\n",
       "      <th>1</th>\n",
       "      <td>1.5093</td>\n",
       "      <td>3.734148e+09</td>\n",
       "      <td>1.1737</td>\n",
       "      <td>0.2487</td>\n",
       "      <td>1.875310e+08</td>\n",
       "      <td>0.0502</td>\n",
       "      <td>NaN</td>\n",
       "      <td>NaN</td>\n",
       "      <td>6.253200e+09</td>\n",
       "      <td>81.5526</td>\n",
       "      <td>NaN</td>\n",
       "      <td>2.631793</td>\n",
       "      <td>0.3294</td>\n",
       "      <td>-25.512193</td>\n",
       "      <td>-0.0073</td>\n",
       "    </tr>\n",
       "    <tr>\n",
       "      <th>2</th>\n",
       "      <td>2.1007</td>\n",
       "      <td>9.837500e+10</td>\n",
       "      <td>0.0182</td>\n",
       "      <td>0.2057</td>\n",
       "      <td>2.713000e+09</td>\n",
       "      <td>0.0276</td>\n",
       "      <td>7.0982</td>\n",
       "      <td>0.0558</td>\n",
       "      <td>1.827470e+10</td>\n",
       "      <td>12.0340</td>\n",
       "      <td>6.6086</td>\n",
       "      <td>0.000000</td>\n",
       "      <td>0.2821</td>\n",
       "      <td>33.118297</td>\n",
       "      <td>-0.0073</td>\n",
       "    </tr>\n",
       "    <tr>\n",
       "      <th>3</th>\n",
       "      <td>-2.7237</td>\n",
       "      <td>2.552641e+10</td>\n",
       "      <td>0.0053</td>\n",
       "      <td>0.2869</td>\n",
       "      <td>6.748090e+08</td>\n",
       "      <td>0.0264</td>\n",
       "      <td>0.0000</td>\n",
       "      <td>0.0000</td>\n",
       "      <td>6.359738e+09</td>\n",
       "      <td>28.6087</td>\n",
       "      <td>11.0987</td>\n",
       "      <td>0.000000</td>\n",
       "      <td>-0.1180</td>\n",
       "      <td>2.752291</td>\n",
       "      <td>-0.0073</td>\n",
       "    </tr>\n",
       "    <tr>\n",
       "      <th>4</th>\n",
       "      <td>1.3445</td>\n",
       "      <td>1.790960e+10</td>\n",
       "      <td>0.0076</td>\n",
       "      <td>0.3557</td>\n",
       "      <td>3.010100e+09</td>\n",
       "      <td>0.1681</td>\n",
       "      <td>0.0000</td>\n",
       "      <td>0.0623</td>\n",
       "      <td>3.333006e+10</td>\n",
       "      <td>18.7034</td>\n",
       "      <td>11.4723</td>\n",
       "      <td>15.254287</td>\n",
       "      <td>0.2792</td>\n",
       "      <td>12.897715</td>\n",
       "      <td>-0.0073</td>\n",
       "    </tr>\n",
       "  </tbody>\n",
       "</table>\n",
       "</div>"
      ],
      "text/plain": [
       "   Debt to Equity       Revenue  Revenue Growth  Gross Margin          EBIT  \\\n",
       "0          0.5061  7.440100e+10         -0.0713        0.4754  1.520300e+10   \n",
       "1          1.5093  3.734148e+09          1.1737        0.2487  1.875310e+08   \n",
       "2          2.1007  9.837500e+10          0.0182        0.2057  2.713000e+09   \n",
       "3         -2.7237  2.552641e+10          0.0053        0.2869  6.748090e+08   \n",
       "4          1.3445  1.790960e+10          0.0076        0.3557  3.010100e+09   \n",
       "\n",
       "   EBIT Margin  priceToBookRatio  5Y Shareholders Equity Growth (per Share)  \\\n",
       "0       0.2043            0.0000                                     0.0353   \n",
       "1       0.0502               NaN                                        NaN   \n",
       "2       0.0276            7.0982                                     0.0558   \n",
       "3       0.0264            0.0000                                     0.0000   \n",
       "4       0.1681            0.0000                                     0.0623   \n",
       "\n",
       "     Market Cap  PE ratio  Enterprise Value over EBITDA  \\\n",
       "0  2.126614e+11   18.7566                       12.9411   \n",
       "1  6.253200e+09   81.5526                           NaN   \n",
       "2  1.827470e+10   12.0340                        6.6086   \n",
       "3  6.359738e+09   28.6087                       11.0987   \n",
       "4  3.333006e+10   18.7034                       11.4723   \n",
       "\n",
       "   priceEarningsToGrowthRatio     ROE  PRICE_VAR  S&P 500  \n",
       "0                   15.557842  0.1664  -9.323276  -0.0073  \n",
       "1                    2.631793  0.3294 -25.512193  -0.0073  \n",
       "2                    0.000000  0.2821  33.118297  -0.0073  \n",
       "3                    0.000000 -0.1180   2.752291  -0.0073  \n",
       "4                   15.254287  0.2792  12.897715  -0.0073  "
      ]
     },
     "execution_count": 268,
     "metadata": {},
     "output_type": "execute_result"
    }
   ],
   "source": [
    "dfn.head()"
   ]
  },
  {
   "cell_type": "code",
   "execution_count": 269,
   "metadata": {},
   "outputs": [
    {
     "name": "stdout",
     "output_type": "stream",
     "text": [
      "<class 'pandas.core.frame.DataFrame'>\n",
      "Int64Index: 22077 entries, 0 to 4391\n",
      "Data columns (total 15 columns):\n",
      " #   Column                                     Non-Null Count  Dtype  \n",
      "---  ------                                     --------------  -----  \n",
      " 0   Debt to Equity                             19763 non-null  float64\n",
      " 1   Revenue                                    20906 non-null  float64\n",
      " 2   Revenue Growth                             19989 non-null  float64\n",
      " 3   Gross Margin                               20878 non-null  float64\n",
      " 4   EBIT                                       20652 non-null  float64\n",
      " 5   EBIT Margin                                20403 non-null  float64\n",
      " 6   priceToBookRatio                           17084 non-null  float64\n",
      " 7   5Y Shareholders Equity Growth (per Share)  15467 non-null  float64\n",
      " 8   Market Cap                                 19006 non-null  float64\n",
      " 9   PE ratio                                   19829 non-null  float64\n",
      " 10  Enterprise Value over EBITDA               17034 non-null  float64\n",
      " 11  priceEarningsToGrowthRatio                 12998 non-null  float64\n",
      " 12  ROE                                        19737 non-null  float64\n",
      " 13  PRICE_VAR                                  22077 non-null  float64\n",
      " 14  S&P 500                                    22077 non-null  float64\n",
      "dtypes: float64(15)\n",
      "memory usage: 2.7 MB\n"
     ]
    }
   ],
   "source": [
    "dfn.info()"
   ]
  },
  {
   "cell_type": "code",
   "execution_count": 270,
   "metadata": {},
   "outputs": [
    {
     "data": {
      "text/html": [
       "<div>\n",
       "<style scoped>\n",
       "    .dataframe tbody tr th:only-of-type {\n",
       "        vertical-align: middle;\n",
       "    }\n",
       "\n",
       "    .dataframe tbody tr th {\n",
       "        vertical-align: top;\n",
       "    }\n",
       "\n",
       "    .dataframe thead th {\n",
       "        text-align: right;\n",
       "    }\n",
       "</style>\n",
       "<table border=\"1\" class=\"dataframe\">\n",
       "  <thead>\n",
       "    <tr style=\"text-align: right;\">\n",
       "      <th></th>\n",
       "      <th>Debt to Equity</th>\n",
       "      <th>Revenue</th>\n",
       "      <th>Revenue Growth</th>\n",
       "      <th>Gross Margin</th>\n",
       "      <th>EBIT</th>\n",
       "      <th>EBIT Margin</th>\n",
       "      <th>priceToBookRatio</th>\n",
       "      <th>5Y Shareholders Equity Growth (per Share)</th>\n",
       "      <th>Market Cap</th>\n",
       "      <th>PE ratio</th>\n",
       "      <th>Enterprise Value over EBITDA</th>\n",
       "      <th>priceEarningsToGrowthRatio</th>\n",
       "      <th>ROE</th>\n",
       "      <th>PRICE_VAR</th>\n",
       "      <th>S&amp;P 500</th>\n",
       "    </tr>\n",
       "  </thead>\n",
       "  <tbody>\n",
       "    <tr>\n",
       "      <th>count</th>\n",
       "      <td>19763.000000</td>\n",
       "      <td>2.090600e+04</td>\n",
       "      <td>19989.000000</td>\n",
       "      <td>20878.000000</td>\n",
       "      <td>2.065200e+04</td>\n",
       "      <td>20403.000000</td>\n",
       "      <td>1.708400e+04</td>\n",
       "      <td>15467.000000</td>\n",
       "      <td>1.900600e+04</td>\n",
       "      <td>19829.000000</td>\n",
       "      <td>17034.000000</td>\n",
       "      <td>12998.000000</td>\n",
       "      <td>1.973700e+04</td>\n",
       "      <td>2.207700e+04</td>\n",
       "      <td>22077.000000</td>\n",
       "    </tr>\n",
       "    <tr>\n",
       "      <th>mean</th>\n",
       "      <td>0.562819</td>\n",
       "      <td>5.161619e+09</td>\n",
       "      <td>3.622214</td>\n",
       "      <td>0.487844</td>\n",
       "      <td>6.161903e+08</td>\n",
       "      <td>-7.258787</td>\n",
       "      <td>2.034479e+04</td>\n",
       "      <td>0.039182</td>\n",
       "      <td>3.056035e+10</td>\n",
       "      <td>37.903693</td>\n",
       "      <td>21.731074</td>\n",
       "      <td>58.407427</td>\n",
       "      <td>1.646107e+03</td>\n",
       "      <td>2.698893e+02</td>\n",
       "      <td>0.102176</td>\n",
       "    </tr>\n",
       "    <tr>\n",
       "      <th>std</th>\n",
       "      <td>26.657310</td>\n",
       "      <td>3.197314e+10</td>\n",
       "      <td>312.648170</td>\n",
       "      <td>0.945601</td>\n",
       "      <td>3.324923e+09</td>\n",
       "      <td>217.794982</td>\n",
       "      <td>1.294365e+06</td>\n",
       "      <td>0.203913</td>\n",
       "      <td>1.432506e+12</td>\n",
       "      <td>852.906916</td>\n",
       "      <td>308.201499</td>\n",
       "      <td>954.030699</td>\n",
       "      <td>1.148279e+05</td>\n",
       "      <td>1.934617e+04</td>\n",
       "      <td>0.130118</td>\n",
       "    </tr>\n",
       "    <tr>\n",
       "      <th>min</th>\n",
       "      <td>-2586.435900</td>\n",
       "      <td>-6.276160e+08</td>\n",
       "      <td>-12.769300</td>\n",
       "      <td>-74.319100</td>\n",
       "      <td>-1.871300e+10</td>\n",
       "      <td>-24242.000000</td>\n",
       "      <td>0.000000e+00</td>\n",
       "      <td>-0.887400</td>\n",
       "      <td>0.000000e+00</td>\n",
       "      <td>0.000000</td>\n",
       "      <td>0.000000</td>\n",
       "      <td>0.000000</td>\n",
       "      <td>-3.477246e+04</td>\n",
       "      <td>-1.003972e+02</td>\n",
       "      <td>-0.062400</td>\n",
       "    </tr>\n",
       "    <tr>\n",
       "      <th>25%</th>\n",
       "      <td>0.008950</td>\n",
       "      <td>5.880737e+07</td>\n",
       "      <td>-0.014700</td>\n",
       "      <td>0.250700</td>\n",
       "      <td>-3.778676e+06</td>\n",
       "      <td>0.000000</td>\n",
       "      <td>6.204750e-01</td>\n",
       "      <td>-0.015500</td>\n",
       "      <td>1.976170e+08</td>\n",
       "      <td>0.000000</td>\n",
       "      <td>2.275950</td>\n",
       "      <td>11.225863</td>\n",
       "      <td>-6.620000e-02</td>\n",
       "      <td>-1.947409e+01</td>\n",
       "      <td>-0.007300</td>\n",
       "    </tr>\n",
       "    <tr>\n",
       "      <th>50%</th>\n",
       "      <td>0.434000</td>\n",
       "      <td>4.352510e+08</td>\n",
       "      <td>0.057600</td>\n",
       "      <td>0.460750</td>\n",
       "      <td>3.815450e+07</td>\n",
       "      <td>0.081600</td>\n",
       "      <td>1.759550e+00</td>\n",
       "      <td>0.031500</td>\n",
       "      <td>9.135604e+08</td>\n",
       "      <td>12.951500</td>\n",
       "      <td>9.927850</td>\n",
       "      <td>17.977255</td>\n",
       "      <td>7.120000e-02</td>\n",
       "      <td>3.909087e+00</td>\n",
       "      <td>0.095400</td>\n",
       "    </tr>\n",
       "    <tr>\n",
       "      <th>75%</th>\n",
       "      <td>1.077350</td>\n",
       "      <td>2.287259e+09</td>\n",
       "      <td>0.182400</td>\n",
       "      <td>0.802775</td>\n",
       "      <td>2.670475e+08</td>\n",
       "      <td>0.213250</td>\n",
       "      <td>4.303450e+00</td>\n",
       "      <td>0.095700</td>\n",
       "      <td>3.882652e+09</td>\n",
       "      <td>23.425000</td>\n",
       "      <td>15.484825</td>\n",
       "      <td>28.968642</td>\n",
       "      <td>1.460000e-01</td>\n",
       "      <td>2.750567e+01</td>\n",
       "      <td>0.194200</td>\n",
       "    </tr>\n",
       "    <tr>\n",
       "      <th>max</th>\n",
       "      <td>2131.512800</td>\n",
       "      <td>1.886894e+12</td>\n",
       "      <td>42138.663900</td>\n",
       "      <td>31.000000</td>\n",
       "      <td>2.339970e+11</td>\n",
       "      <td>1056.465800</td>\n",
       "      <td>1.084587e+08</td>\n",
       "      <td>6.031600</td>\n",
       "      <td>9.619200e+13</td>\n",
       "      <td>105828.712900</td>\n",
       "      <td>35296.196000</td>\n",
       "      <td>100419.288007</td>\n",
       "      <td>1.114114e+07</td>\n",
       "      <td>2.418601e+06</td>\n",
       "      <td>0.288800</td>\n",
       "    </tr>\n",
       "  </tbody>\n",
       "</table>\n",
       "</div>"
      ],
      "text/plain": [
       "       Debt to Equity       Revenue  Revenue Growth  Gross Margin  \\\n",
       "count    19763.000000  2.090600e+04    19989.000000  20878.000000   \n",
       "mean         0.562819  5.161619e+09        3.622214      0.487844   \n",
       "std         26.657310  3.197314e+10      312.648170      0.945601   \n",
       "min      -2586.435900 -6.276160e+08      -12.769300    -74.319100   \n",
       "25%          0.008950  5.880737e+07       -0.014700      0.250700   \n",
       "50%          0.434000  4.352510e+08        0.057600      0.460750   \n",
       "75%          1.077350  2.287259e+09        0.182400      0.802775   \n",
       "max       2131.512800  1.886894e+12    42138.663900     31.000000   \n",
       "\n",
       "               EBIT   EBIT Margin  priceToBookRatio  \\\n",
       "count  2.065200e+04  20403.000000      1.708400e+04   \n",
       "mean   6.161903e+08     -7.258787      2.034479e+04   \n",
       "std    3.324923e+09    217.794982      1.294365e+06   \n",
       "min   -1.871300e+10 -24242.000000      0.000000e+00   \n",
       "25%   -3.778676e+06      0.000000      6.204750e-01   \n",
       "50%    3.815450e+07      0.081600      1.759550e+00   \n",
       "75%    2.670475e+08      0.213250      4.303450e+00   \n",
       "max    2.339970e+11   1056.465800      1.084587e+08   \n",
       "\n",
       "       5Y Shareholders Equity Growth (per Share)    Market Cap       PE ratio  \\\n",
       "count                               15467.000000  1.900600e+04   19829.000000   \n",
       "mean                                    0.039182  3.056035e+10      37.903693   \n",
       "std                                     0.203913  1.432506e+12     852.906916   \n",
       "min                                    -0.887400  0.000000e+00       0.000000   \n",
       "25%                                    -0.015500  1.976170e+08       0.000000   \n",
       "50%                                     0.031500  9.135604e+08      12.951500   \n",
       "75%                                     0.095700  3.882652e+09      23.425000   \n",
       "max                                     6.031600  9.619200e+13  105828.712900   \n",
       "\n",
       "       Enterprise Value over EBITDA  priceEarningsToGrowthRatio           ROE  \\\n",
       "count                  17034.000000                12998.000000  1.973700e+04   \n",
       "mean                      21.731074                   58.407427  1.646107e+03   \n",
       "std                      308.201499                  954.030699  1.148279e+05   \n",
       "min                        0.000000                    0.000000 -3.477246e+04   \n",
       "25%                        2.275950                   11.225863 -6.620000e-02   \n",
       "50%                        9.927850                   17.977255  7.120000e-02   \n",
       "75%                       15.484825                   28.968642  1.460000e-01   \n",
       "max                    35296.196000               100419.288007  1.114114e+07   \n",
       "\n",
       "          PRICE_VAR       S&P 500  \n",
       "count  2.207700e+04  22077.000000  \n",
       "mean   2.698893e+02      0.102176  \n",
       "std    1.934617e+04      0.130118  \n",
       "min   -1.003972e+02     -0.062400  \n",
       "25%   -1.947409e+01     -0.007300  \n",
       "50%    3.909087e+00      0.095400  \n",
       "75%    2.750567e+01      0.194200  \n",
       "max    2.418601e+06      0.288800  "
      ]
     },
     "execution_count": 270,
     "metadata": {},
     "output_type": "execute_result"
    }
   ],
   "source": [
    "dfn.describe()"
   ]
  },
  {
   "cell_type": "markdown",
   "metadata": {},
   "source": [
    "# Datenbereinigung\n",
    "\n",
    "Wir sehen dass unser Datensatz verschiedene Probleme mit sich bringt die wir genauer anschauen müssen. Folgendes ist uns aufgefallen:\n",
    "1. Dem Datensatz fehlen einige Daten (Je nach Feature sind es mehr oder weniger die uns fehlen)\n",
    "2. Wir müssen auf Multikollinearität achten damit es keine Verzerrung ergibt bei unseren Prognosen\n",
    "3. Es gibt starke Ausreisser in unseren Daten und dies in verschiedenen Spalten (bsp. haben wir ein Unternehmen mit Debt to Equity von -2586.4)\n",
    "4. Wir müssen fehlende Datenpunkte noch ergänzen durch einen Schätzwert"
   ]
  },
  {
   "cell_type": "markdown",
   "metadata": {},
   "source": [
    "## 1. Wir untersuchen welche Daten uns fehlen:\n",
    "\n",
    "* 1 Schritt: Spalten werden analysiert\n",
    "* 2 Schritt: Zeilen werden analysiert"
   ]
  },
  {
   "cell_type": "markdown",
   "metadata": {},
   "source": [
    "### 1 Schritt: Untersuchen der Spalten"
   ]
  },
  {
   "cell_type": "code",
   "execution_count": 271,
   "metadata": {},
   "outputs": [
    {
     "data": {
      "text/plain": [
       "<matplotlib.axes._subplots.AxesSubplot at 0x1978656ba00>"
      ]
     },
     "execution_count": 271,
     "metadata": {},
     "output_type": "execute_result"
    },
    {
     "data": {
      "image/png": "[encoded data removed]",
      "text/plain": [
       "<Figure size 432x288 with 1 Axes>"
      ]
     },
     "metadata": {
      "needs_background": "light"
     },
     "output_type": "display_data"
    }
   ],
   "source": [
    "sns.heatmap(dfn.isnull(), yticklabels=False, cbar=False,cmap='viridis')"
   ]
  },
  {
   "cell_type": "code",
   "execution_count": 272,
   "metadata": {},
   "outputs": [
    {
     "name": "stdout",
     "output_type": "stream",
     "text": [
      "Unsere Untergrenze liegt bei 6623.0 fehlenden Datenpunkten\n"
     ]
    }
   ],
   "source": [
    "# Unser Threshhold wieviele Werte unsere Features mindestens mitbringen sollten.\n",
    "# Wir wollen mindestens 70% der Datenpunkte für unsere Features.\n",
    "\n",
    "Threshhold = 22077*(1-0.7)\n",
    "print('Unsere Untergrenze liegt bei', round(Threshhold, 0), 'fehlenden Datenpunkten')"
   ]
  },
  {
   "cell_type": "code",
   "execution_count": 273,
   "metadata": {},
   "outputs": [
    {
     "data": {
      "text/plain": [
       "Debt to Equity                               2314\n",
       "Revenue                                      1171\n",
       "Revenue Growth                               2088\n",
       "Gross Margin                                 1199\n",
       "EBIT                                         1425\n",
       "EBIT Margin                                  1674\n",
       "priceToBookRatio                             4993\n",
       "5Y Shareholders Equity Growth (per Share)    6610\n",
       "Market Cap                                   3071\n",
       "PE ratio                                     2248\n",
       "Enterprise Value over EBITDA                 5043\n",
       "priceEarningsToGrowthRatio                   9079\n",
       "ROE                                          2340\n",
       "PRICE_VAR                                       0\n",
       "S&P 500                                         0\n",
       "dtype: int64"
      ]
     },
     "execution_count": 273,
     "metadata": {},
     "output_type": "execute_result"
    }
   ],
   "source": [
    "dfn.isna().sum()"
   ]
  },
  {
   "cell_type": "markdown",
   "metadata": {},
   "source": [
    "Wir sehen uns fehlen bei dem Faktor 'priceEarningsToGrowthRatio' insgesamt 9079 Datenpunkte"
   ]
  },
  {
   "cell_type": "code",
   "execution_count": 274,
   "metadata": {},
   "outputs": [],
   "source": [
    "dfn = dfn.drop(['priceEarningsToGrowthRatio'], axis=1)"
   ]
  },
  {
   "cell_type": "markdown",
   "metadata": {},
   "source": [
    "### 2 Schritt: Untersuchen der Zeilen"
   ]
  },
  {
   "cell_type": "code",
   "execution_count": 275,
   "metadata": {},
   "outputs": [
    {
     "data": {
      "text/plain": [
       "(19825, 14)"
      ]
     },
     "execution_count": 275,
     "metadata": {},
     "output_type": "execute_result"
    }
   ],
   "source": [
    "# Ebenfalls sehen wir das es Zeilen gibt in denen sehr viele Features fehlen\n",
    "# Wir wollen für unsere Zeilen mindestens 50% der Features haben, um eine Schätzung durchzuführen\n",
    "# Also mindestens 6 von 12 Features\n",
    "dfn = dfn.dropna(thresh=6+2)\n",
    "dfn.shape"
   ]
  },
  {
   "cell_type": "code",
   "execution_count": 276,
   "metadata": {},
   "outputs": [
    {
     "data": {
      "text/plain": [
       "<matplotlib.axes._subplots.AxesSubplot at 0x197817bff10>"
      ]
     },
     "execution_count": 276,
     "metadata": {},
     "output_type": "execute_result"
    },
    {
     "data": {
      "image/png": "[encoded data removed]",
      "text/plain": [
       "<Figure size 432x288 with 1 Axes>"
      ]
     },
     "metadata": {
      "needs_background": "light"
     },
     "output_type": "display_data"
    }
   ],
   "source": [
    "sns.heatmap(dfn.isnull(), yticklabels=False, cbar=False,cmap='viridis')"
   ]
  },
  {
   "cell_type": "markdown",
   "metadata": {},
   "source": [
    "## 2. Wir untersuchen unseren Datensatz auf Multikollinearität"
   ]
  },
  {
   "cell_type": "code",
   "execution_count": 277,
   "metadata": {
    "scrolled": true
   },
   "outputs": [
    {
     "data": {
      "text/plain": [
       "<matplotlib.axes._subplots.AxesSubplot at 0x197865d5b80>"
      ]
     },
     "execution_count": 277,
     "metadata": {},
     "output_type": "execute_result"
    },
    {
     "data": {
      "image/png": "[encoded data removed]",
      "text/plain": [
       "<Figure size 432x288 with 2 Axes>"
      ]
     },
     "metadata": {
      "needs_background": "light"
     },
     "output_type": "display_data"
    }
   ],
   "source": [
    "sns.heatmap(dfn.corr(), annot=False)"
   ]
  },
  {
   "cell_type": "markdown",
   "metadata": {},
   "source": [
    "Wir sehen eine starke Korrelation zwischen ROE und der priceToBookRatio, welches zu Multikollinearität führen könnte. \n",
    "Wir entfernen deshalb die Input Variable priceToBookRatio."
   ]
  },
  {
   "cell_type": "code",
   "execution_count": 278,
   "metadata": {},
   "outputs": [],
   "source": [
    "dfn = dfn.drop('priceToBookRatio', axis=1)"
   ]
  },
  {
   "cell_type": "markdown",
   "metadata": {},
   "source": [
    "## 3. Ergänzen der fehlenden Datenpunkte"
   ]
  },
  {
   "cell_type": "code",
   "execution_count": 279,
   "metadata": {},
   "outputs": [],
   "source": [
    "# Fehlende Datenpunkte ergänzen wir mit dem Median. \n",
    "# Dies aufgrund weil wir unseren Datensatz noch nicht für die Ausreisser nach oben bzw nach unten korrigiert haben"
   ]
  },
  {
   "cell_type": "code",
   "execution_count": 280,
   "metadata": {},
   "outputs": [
    {
     "name": "stdout",
     "output_type": "stream",
     "text": [
      "<class 'pandas.core.frame.DataFrame'>\n",
      "Int64Index: 19825 entries, 0 to 4391\n",
      "Data columns (total 13 columns):\n",
      " #   Column                                     Non-Null Count  Dtype  \n",
      "---  ------                                     --------------  -----  \n",
      " 0   Debt to Equity                             19825 non-null  float64\n",
      " 1   Revenue                                    19825 non-null  float64\n",
      " 2   Revenue Growth                             19825 non-null  float64\n",
      " 3   Gross Margin                               19825 non-null  float64\n",
      " 4   EBIT                                       19825 non-null  float64\n",
      " 5   EBIT Margin                                19825 non-null  float64\n",
      " 6   5Y Shareholders Equity Growth (per Share)  19825 non-null  float64\n",
      " 7   Market Cap                                 19825 non-null  float64\n",
      " 8   PE ratio                                   19825 non-null  float64\n",
      " 9   Enterprise Value over EBITDA               19825 non-null  float64\n",
      " 10  ROE                                        19825 non-null  float64\n",
      " 11  PRICE_VAR                                  19825 non-null  float64\n",
      " 12  S&P 500                                    19825 non-null  float64\n",
      "dtypes: float64(13)\n",
      "memory usage: 2.1 MB\n"
     ]
    }
   ],
   "source": [
    "dfn = dfn.fillna(value=dfn.median())\n",
    "dfn.info()"
   ]
  },
  {
   "cell_type": "code",
   "execution_count": 281,
   "metadata": {},
   "outputs": [
    {
     "data": {
      "text/plain": [
       "<matplotlib.axes._subplots.AxesSubplot at 0x197818296a0>"
      ]
     },
     "execution_count": 281,
     "metadata": {},
     "output_type": "execute_result"
    },
    {
     "data": {
      "image/png": "[encoded data removed]",
      "text/plain": [
       "<Figure size 432x288 with 1 Axes>"
      ]
     },
     "metadata": {
      "needs_background": "light"
     },
     "output_type": "display_data"
    }
   ],
   "source": [
    "sns.heatmap(dfn.isnull(), yticklabels=False, cbar=False,cmap='viridis')"
   ]
  },
  {
   "cell_type": "markdown",
   "metadata": {},
   "source": [
    "## 4. Entfernen von Aussreisern"
   ]
  },
  {
   "cell_type": "markdown",
   "metadata": {},
   "source": [
    "Aussreisser in diesem Datensatz müssen bereinigt werden, da diese sonst unsere Prognosen stark verzerren könnten. Wir führen deshalb folgende Strategie. Datenpunkte in einer Spalte die über bzw unter der dritten Standardabweichung liegen, entfernen wir. Dabei entfernen wir die ganze Zeile in der dieser Fall vorliegt. Dies werden wir mit der Bestimmung des Z Scores durchführen."
   ]
  },
  {
   "cell_type": "code",
   "execution_count": 282,
   "metadata": {},
   "outputs": [
    {
     "data": {
      "image/png": "[encoded data removed]",
      "text/plain": [
       "<IPython.core.display.Image object>"
      ]
     },
     "execution_count": 282,
     "metadata": {},
     "output_type": "execute_result"
    }
   ],
   "source": [
    "from IPython.display import Image\n",
    "Image(filename='Normalverteilung.png') "
   ]
  },
  {
   "cell_type": "code",
   "execution_count": 283,
   "metadata": {
    "scrolled": true
   },
   "outputs": [
    {
     "name": "stdout",
     "output_type": "stream",
     "text": [
      "       Debt to Equity   Revenue  Revenue Growth  Gross Margin      EBIT  \\\n",
      "1            0.002125  3.603031        0.011738      0.008661  5.756566   \n",
      "2            0.035568  0.054568        0.007772      0.264536  0.153788   \n",
      "3            0.057789  4.843886        0.011452      0.313070  0.840282   \n",
      "4            0.123478  1.073363        0.011494      0.221420  0.038014   \n",
      "5            0.029376  0.679130        0.011486      0.143766  0.957225   \n",
      "...               ...       ...             ...           ...       ...   \n",
      "19821        0.004597  0.247842        0.011510      0.545243  0.229086   \n",
      "19822        0.021490  0.247813        0.012820      0.583452  0.231213   \n",
      "19823        0.001595  0.245001        0.010806      0.169049  0.223803   \n",
      "19824        0.021140  0.247842        0.011510      0.545243  0.234156   \n",
      "19825        0.021140  0.245097        0.011433      0.583452  0.241072   \n",
      "\n",
      "       EBIT Margin  5Y Shareholders Equity Growth (per Share)  Market Cap  \\\n",
      "1         0.034797                                   0.012763    0.130712   \n",
      "2         0.034100                                   0.033308    0.016451   \n",
      "3         0.033997                                   0.101069    0.007880   \n",
      "4         0.033992                                   0.208776    0.016375   \n",
      "5         0.034633                                   0.137162    0.002854   \n",
      "...            ...                                        ...         ...   \n",
      "19821     0.033872                                   0.033308    0.020422   \n",
      "19822     0.040778                                   3.328323    0.020904   \n",
      "19823     0.034669                                   0.033308    0.020259   \n",
      "19824     0.033872                                   0.033308    0.020826   \n",
      "19825     0.030951                                   0.033308    0.020575   \n",
      "\n",
      "       PE ratio  Enterprise Value over EBITDA       ROE  PRICE_VAR   S&P 500  \n",
      "1      0.022444                      0.024945  0.014302   0.013338  0.859373  \n",
      "2      0.051177                      0.035492  0.014301   0.014231  0.859373  \n",
      "3      0.030325                      0.047110  0.014301   0.010998  0.859373  \n",
      "4      0.010893                      0.031394  0.014305   0.012672  0.859373  \n",
      "5      0.022506                      0.030086  0.014301   0.012113  0.859373  \n",
      "...         ...                           ...       ...        ...       ...  \n",
      "19821  0.044434                      0.070241  0.014305   0.017841  1.420943  \n",
      "19822  0.044434                      0.070241  0.014318   0.017122  1.420943  \n",
      "19823  0.037219                      0.035492  0.014302   0.013808  1.420943  \n",
      "19824  0.044434                      0.070241  0.014344   0.016879  1.420943  \n",
      "19825  0.044434                      0.070241  0.014306   0.001272  1.420943  \n",
      "\n",
      "[19825 rows x 13 columns]\n"
     ]
    }
   ],
   "source": [
    "from scipy import stats\n",
    "a = np.arange(1,19826)\n",
    "z = np.abs(stats.zscore(dfn))\n",
    "dfz = pd.DataFrame(z, a, dfn.columns,)\n",
    "print(dfz)"
   ]
  },
  {
   "cell_type": "code",
   "execution_count": 284,
   "metadata": {},
   "outputs": [
    {
     "name": "stdout",
     "output_type": "stream",
     "text": [
      "Int64Index([    2,     4,     5,     9,    11,    13,    14,    15,    16,\n",
      "               17,\n",
      "            ...\n",
      "            19815, 19816, 19817, 19818, 19819, 19820, 19821, 19823, 19824,\n",
      "            19825],\n",
      "           dtype='int64', length=18877)\n"
     ]
    }
   ],
   "source": [
    "valid_zscores = dfz[dfz[dfn.columns]<3].dropna().index\n",
    "print(valid_zscores)"
   ]
  },
  {
   "cell_type": "code",
   "execution_count": null,
   "metadata": {
    "scrolled": true
   },
   "outputs": [],
   "source": []
  },
  {
   "cell_type": "code",
   "execution_count": null,
   "metadata": {},
   "outputs": [],
   "source": []
  },
  {
   "cell_type": "code",
   "execution_count": null,
   "metadata": {},
   "outputs": [],
   "source": []
  },
  {
   "cell_type": "code",
   "execution_count": null,
   "metadata": {},
   "outputs": [],
   "source": []
  },
  {
   "cell_type": "code",
   "execution_count": null,
   "metadata": {},
   "outputs": [],
   "source": []
  },
  {
   "cell_type": "code",
   "execution_count": null,
   "metadata": {},
   "outputs": [],
   "source": []
  },
  {
   "cell_type": "code",
   "execution_count": null,
   "metadata": {},
   "outputs": [],
   "source": []
  },
  {
   "cell_type": "code",
   "execution_count": null,
   "metadata": {},
   "outputs": [],
   "source": []
  },
  {
   "cell_type": "code",
   "execution_count": null,
   "metadata": {},
   "outputs": [],
   "source": []
  },
  {
   "cell_type": "code",
   "execution_count": null,
   "metadata": {},
   "outputs": [],
   "source": []
  },
  {
   "cell_type": "code",
   "execution_count": null,
   "metadata": {},
   "outputs": [],
   "source": []
  },
  {
   "cell_type": "code",
   "execution_count": null,
   "metadata": {},
   "outputs": [],
   "source": []
  },
  {
   "cell_type": "code",
   "execution_count": null,
   "metadata": {},
   "outputs": [],
   "source": []
  },
  {
   "cell_type": "code",
   "execution_count": 285,
   "metadata": {},
   "outputs": [],
   "source": [
    "#Nichts relevantes"
   ]
  },
  {
   "cell_type": "code",
   "execution_count": 286,
   "metadata": {},
   "outputs": [],
   "source": [
    "#Entferne alle Spalten in denen wir keine Features haben (insgesamt haben wir 12 Features)\n",
    "\n",
    "dfn.dropna(axis=0, thresh=13, inplace=True)"
   ]
  },
  {
   "cell_type": "code",
   "execution_count": 287,
   "metadata": {},
   "outputs": [
    {
     "data": {
      "text/plain": [
       "(19825, 13)"
      ]
     },
     "execution_count": 287,
     "metadata": {},
     "output_type": "execute_result"
    }
   ],
   "source": [
    "dfn.shape"
   ]
  },
  {
   "cell_type": "code",
   "execution_count": 288,
   "metadata": {},
   "outputs": [
    {
     "data": {
      "text/plain": [
       "<matplotlib.axes._subplots.AxesSubplot at 0x19781003f70>"
      ]
     },
     "execution_count": 288,
     "metadata": {},
     "output_type": "execute_result"
    },
    {
     "data": {
      "image/png": "[encoded data removed]",
      "text/plain": [
       "<Figure size 432x288 with 1 Axes>"
      ]
     },
     "metadata": {
      "needs_background": "light"
     },
     "output_type": "display_data"
    }
   ],
   "source": [
    "sns.heatmap(dfn.isnull(), yticklabels=False, cbar=False,cmap='viridis')"
   ]
  },
  {
   "cell_type": "code",
   "execution_count": 289,
   "metadata": {},
   "outputs": [
    {
     "data": {
      "text/html": [
       "<div>\n",
       "<style scoped>\n",
       "    .dataframe tbody tr th:only-of-type {\n",
       "        vertical-align: middle;\n",
       "    }\n",
       "\n",
       "    .dataframe tbody tr th {\n",
       "        vertical-align: top;\n",
       "    }\n",
       "\n",
       "    .dataframe thead th {\n",
       "        text-align: right;\n",
       "    }\n",
       "</style>\n",
       "<table border=\"1\" class=\"dataframe\">\n",
       "  <thead>\n",
       "    <tr style=\"text-align: right;\">\n",
       "      <th></th>\n",
       "      <th>Debt to Equity</th>\n",
       "      <th>Revenue</th>\n",
       "      <th>Revenue Growth</th>\n",
       "      <th>Gross Margin</th>\n",
       "      <th>EBIT</th>\n",
       "      <th>EBIT Margin</th>\n",
       "      <th>5Y Shareholders Equity Growth (per Share)</th>\n",
       "      <th>Market Cap</th>\n",
       "      <th>PE ratio</th>\n",
       "      <th>Enterprise Value over EBITDA</th>\n",
       "      <th>ROE</th>\n",
       "      <th>PRICE_VAR</th>\n",
       "      <th>S&amp;P 500</th>\n",
       "    </tr>\n",
       "  </thead>\n",
       "  <tbody>\n",
       "    <tr>\n",
       "      <th>count</th>\n",
       "      <td>19825.000000</td>\n",
       "      <td>1.982500e+04</td>\n",
       "      <td>19825.000000</td>\n",
       "      <td>19825.000000</td>\n",
       "      <td>1.982500e+04</td>\n",
       "      <td>19825.000000</td>\n",
       "      <td>19825.000000</td>\n",
       "      <td>1.982500e+04</td>\n",
       "      <td>19825.000000</td>\n",
       "      <td>19825.000000</td>\n",
       "      <td>1.982500e+04</td>\n",
       "      <td>1.982500e+04</td>\n",
       "      <td>19825.000000</td>\n",
       "    </tr>\n",
       "    <tr>\n",
       "      <th>mean</th>\n",
       "      <td>0.562650</td>\n",
       "      <td>4.788438e+09</td>\n",
       "      <td>3.613297</td>\n",
       "      <td>0.483073</td>\n",
       "      <td>5.782342e+08</td>\n",
       "      <td>-7.483542</td>\n",
       "      <td>0.037598</td>\n",
       "      <td>2.932716e+10</td>\n",
       "      <td>37.900482</td>\n",
       "      <td>20.068145</td>\n",
       "      <td>1.638801e+03</td>\n",
       "      <td>2.325167e+02</td>\n",
       "      <td>0.104290</td>\n",
       "    </tr>\n",
       "    <tr>\n",
       "      <th>std</th>\n",
       "      <td>26.615581</td>\n",
       "      <td>1.932104e+10</td>\n",
       "      <td>313.923571</td>\n",
       "      <td>0.886001</td>\n",
       "      <td>2.540601e+09</td>\n",
       "      <td>220.938679</td>\n",
       "      <td>0.180095</td>\n",
       "      <td>1.402616e+12</td>\n",
       "      <td>852.991862</td>\n",
       "      <td>285.712606</td>\n",
       "      <td>1.145728e+05</td>\n",
       "      <td>1.813145e+04</td>\n",
       "      <td>0.129854</td>\n",
       "    </tr>\n",
       "    <tr>\n",
       "      <th>min</th>\n",
       "      <td>-2586.435900</td>\n",
       "      <td>-6.276160e+08</td>\n",
       "      <td>-6.872700</td>\n",
       "      <td>-74.319100</td>\n",
       "      <td>-1.871300e+10</td>\n",
       "      <td>-24242.000000</td>\n",
       "      <td>-0.887400</td>\n",
       "      <td>0.000000e+00</td>\n",
       "      <td>0.000000</td>\n",
       "      <td>0.000000</td>\n",
       "      <td>-3.477246e+04</td>\n",
       "      <td>-1.003972e+02</td>\n",
       "      <td>-0.062400</td>\n",
       "    </tr>\n",
       "    <tr>\n",
       "      <th>25%</th>\n",
       "      <td>0.010300</td>\n",
       "      <td>6.522600e+07</td>\n",
       "      <td>-0.012300</td>\n",
       "      <td>0.250300</td>\n",
       "      <td>-4.056000e+06</td>\n",
       "      <td>0.000000</td>\n",
       "      <td>0.000000</td>\n",
       "      <td>2.145461e+08</td>\n",
       "      <td>0.000000</td>\n",
       "      <td>5.088000</td>\n",
       "      <td>-6.470000e-02</td>\n",
       "      <td>-2.147930e+01</td>\n",
       "      <td>-0.007300</td>\n",
       "    </tr>\n",
       "    <tr>\n",
       "      <th>50%</th>\n",
       "      <td>0.434900</td>\n",
       "      <td>4.620340e+08</td>\n",
       "      <td>0.057800</td>\n",
       "      <td>0.454500</td>\n",
       "      <td>3.840900e+07</td>\n",
       "      <td>0.081600</td>\n",
       "      <td>0.031600</td>\n",
       "      <td>9.125362e+08</td>\n",
       "      <td>12.951600</td>\n",
       "      <td>9.927850</td>\n",
       "      <td>7.120000e-02</td>\n",
       "      <td>3.879313e+00</td>\n",
       "      <td>0.095400</td>\n",
       "    </tr>\n",
       "    <tr>\n",
       "      <th>75%</th>\n",
       "      <td>1.074200</td>\n",
       "      <td>2.326180e+09</td>\n",
       "      <td>0.179000</td>\n",
       "      <td>0.781500</td>\n",
       "      <td>2.655000e+08</td>\n",
       "      <td>0.211800</td>\n",
       "      <td>0.074700</td>\n",
       "      <td>3.595430e+09</td>\n",
       "      <td>23.425000</td>\n",
       "      <td>14.338900</td>\n",
       "      <td>1.454000e-01</td>\n",
       "      <td>2.944262e+01</td>\n",
       "      <td>0.194200</td>\n",
       "    </tr>\n",
       "    <tr>\n",
       "      <th>max</th>\n",
       "      <td>2131.512800</td>\n",
       "      <td>5.003430e+11</td>\n",
       "      <td>42138.663900</td>\n",
       "      <td>4.253100</td>\n",
       "      <td>7.290300e+10</td>\n",
       "      <td>1056.465800</td>\n",
       "      <td>6.031600</td>\n",
       "      <td>9.619200e+13</td>\n",
       "      <td>105828.712900</td>\n",
       "      <td>35296.196000</td>\n",
       "      <td>1.114114e+07</td>\n",
       "      <td>2.418601e+06</td>\n",
       "      <td>0.288800</td>\n",
       "    </tr>\n",
       "  </tbody>\n",
       "</table>\n",
       "</div>"
      ],
      "text/plain": [
       "       Debt to Equity       Revenue  Revenue Growth  Gross Margin  \\\n",
       "count    19825.000000  1.982500e+04    19825.000000  19825.000000   \n",
       "mean         0.562650  4.788438e+09        3.613297      0.483073   \n",
       "std         26.615581  1.932104e+10      313.923571      0.886001   \n",
       "min      -2586.435900 -6.276160e+08       -6.872700    -74.319100   \n",
       "25%          0.010300  6.522600e+07       -0.012300      0.250300   \n",
       "50%          0.434900  4.620340e+08        0.057800      0.454500   \n",
       "75%          1.074200  2.326180e+09        0.179000      0.781500   \n",
       "max       2131.512800  5.003430e+11    42138.663900      4.253100   \n",
       "\n",
       "               EBIT   EBIT Margin  5Y Shareholders Equity Growth (per Share)  \\\n",
       "count  1.982500e+04  19825.000000                               19825.000000   \n",
       "mean   5.782342e+08     -7.483542                                   0.037598   \n",
       "std    2.540601e+09    220.938679                                   0.180095   \n",
       "min   -1.871300e+10 -24242.000000                                  -0.887400   \n",
       "25%   -4.056000e+06      0.000000                                   0.000000   \n",
       "50%    3.840900e+07      0.081600                                   0.031600   \n",
       "75%    2.655000e+08      0.211800                                   0.074700   \n",
       "max    7.290300e+10   1056.465800                                   6.031600   \n",
       "\n",
       "         Market Cap       PE ratio  Enterprise Value over EBITDA  \\\n",
       "count  1.982500e+04   19825.000000                  19825.000000   \n",
       "mean   2.932716e+10      37.900482                     20.068145   \n",
       "std    1.402616e+12     852.991862                    285.712606   \n",
       "min    0.000000e+00       0.000000                      0.000000   \n",
       "25%    2.145461e+08       0.000000                      5.088000   \n",
       "50%    9.125362e+08      12.951600                      9.927850   \n",
       "75%    3.595430e+09      23.425000                     14.338900   \n",
       "max    9.619200e+13  105828.712900                  35296.196000   \n",
       "\n",
       "                ROE     PRICE_VAR       S&P 500  \n",
       "count  1.982500e+04  1.982500e+04  19825.000000  \n",
       "mean   1.638801e+03  2.325167e+02      0.104290  \n",
       "std    1.145728e+05  1.813145e+04      0.129854  \n",
       "min   -3.477246e+04 -1.003972e+02     -0.062400  \n",
       "25%   -6.470000e-02 -2.147930e+01     -0.007300  \n",
       "50%    7.120000e-02  3.879313e+00      0.095400  \n",
       "75%    1.454000e-01  2.944262e+01      0.194200  \n",
       "max    1.114114e+07  2.418601e+06      0.288800  "
      ]
     },
     "execution_count": 289,
     "metadata": {},
     "output_type": "execute_result"
    }
   ],
   "source": [
    "dfn.describe()"
   ]
  },
  {
   "cell_type": "code",
   "execution_count": 290,
   "metadata": {},
   "outputs": [
    {
     "data": {
      "text/plain": [
       "<matplotlib.axes._subplots.AxesSubplot at 0x19781023910>"
      ]
     },
     "execution_count": 290,
     "metadata": {},
     "output_type": "execute_result"
    },
    {
     "data": {
      "image/png": "[encoded data removed]",
      "text/plain": [
       "<Figure size 432x288 with 1 Axes>"
      ]
     },
     "metadata": {
      "needs_background": "light"
     },
     "output_type": "display_data"
    }
   ],
   "source": [
    "sns.distplot(dfn['PRICE_VAR'], kde=False, bins=35)"
   ]
  },
  {
   "cell_type": "code",
   "execution_count": 291,
   "metadata": {},
   "outputs": [
    {
     "data": {
      "text/plain": [
       "594    -1.003972e+02\n",
       "1702   -9.999941e+01\n",
       "4437   -9.999911e+01\n",
       "1020   -9.999227e+01\n",
       "2064   -9.997717e+01\n",
       "            ...     \n",
       "794     1.732000e+05\n",
       "859     2.127000e+05\n",
       "1011    2.387000e+05\n",
       "3308    6.955667e+05\n",
       "2068    2.418601e+06\n",
       "Name: PRICE_VAR, Length: 19825, dtype: float64"
      ]
     },
     "execution_count": 291,
     "metadata": {},
     "output_type": "execute_result"
    }
   ],
   "source": [
    "dfn['PRICE_VAR'].sort_values()"
   ]
  },
  {
   "cell_type": "code",
   "execution_count": 292,
   "metadata": {},
   "outputs": [
    {
     "data": {
      "text/plain": [
       "<matplotlib.axes._subplots.AxesSubplot at 0x1978105db80>"
      ]
     },
     "execution_count": 292,
     "metadata": {},
     "output_type": "execute_result"
    },
    {
     "data": {
      "image/png": "[encoded data removed]",
      "text/plain": [
       "<Figure size 432x288 with 1 Axes>"
      ]
     },
     "metadata": {
      "needs_background": "light"
     },
     "output_type": "display_data"
    }
   ],
   "source": [
    "sns.distplot(dfn['Market Cap'], kde=False, bins=35)"
   ]
  },
  {
   "cell_type": "code",
   "execution_count": 293,
   "metadata": {},
   "outputs": [
    {
     "ename": "KeyError",
     "evalue": "'Free Cash Flow Yield'",
     "output_type": "error",
     "traceback": [
      "\u001b[1;31m---------------------------------------------------------------------------\u001b[0m",
      "\u001b[1;31mKeyError\u001b[0m                                  Traceback (most recent call last)",
      "\u001b[1;32m~\\anaconda3\\lib\\site-packages\\pandas\\core\\indexes\\base.py\u001b[0m in \u001b[0;36mget_loc\u001b[1;34m(self, key, method, tolerance)\u001b[0m\n\u001b[0;32m   2645\u001b[0m             \u001b[1;32mtry\u001b[0m\u001b[1;33m:\u001b[0m\u001b[1;33m\u001b[0m\u001b[1;33m\u001b[0m\u001b[0m\n\u001b[1;32m-> 2646\u001b[1;33m                 \u001b[1;32mreturn\u001b[0m \u001b[0mself\u001b[0m\u001b[1;33m.\u001b[0m\u001b[0m_engine\u001b[0m\u001b[1;33m.\u001b[0m\u001b[0mget_loc\u001b[0m\u001b[1;33m(\u001b[0m\u001b[0mkey\u001b[0m\u001b[1;33m)\u001b[0m\u001b[1;33m\u001b[0m\u001b[1;33m\u001b[0m\u001b[0m\n\u001b[0m\u001b[0;32m   2647\u001b[0m             \u001b[1;32mexcept\u001b[0m \u001b[0mKeyError\u001b[0m\u001b[1;33m:\u001b[0m\u001b[1;33m\u001b[0m\u001b[1;33m\u001b[0m\u001b[0m\n",
      "\u001b[1;32mpandas\\_libs\\index.pyx\u001b[0m in \u001b[0;36mpandas._libs.index.IndexEngine.get_loc\u001b[1;34m()\u001b[0m\n",
      "\u001b[1;32mpandas\\_libs\\index.pyx\u001b[0m in \u001b[0;36mpandas._libs.index.IndexEngine.get_loc\u001b[1;34m()\u001b[0m\n",
      "\u001b[1;32mpandas\\_libs\\hashtable_class_helper.pxi\u001b[0m in \u001b[0;36mpandas._libs.hashtable.PyObjectHashTable.get_item\u001b[1;34m()\u001b[0m\n",
      "\u001b[1;32mpandas\\_libs\\hashtable_class_helper.pxi\u001b[0m in \u001b[0;36mpandas._libs.hashtable.PyObjectHashTable.get_item\u001b[1;34m()\u001b[0m\n",
      "\u001b[1;31mKeyError\u001b[0m: 'Free Cash Flow Yield'",
      "\nDuring handling of the above exception, another exception occurred:\n",
      "\u001b[1;31mKeyError\u001b[0m                                  Traceback (most recent call last)",
      "\u001b[1;32m<ipython-input-293-1a6b587e2d6f>\u001b[0m in \u001b[0;36m<module>\u001b[1;34m\u001b[0m\n\u001b[1;32m----> 1\u001b[1;33m \u001b[0msns\u001b[0m\u001b[1;33m.\u001b[0m\u001b[0mdistplot\u001b[0m\u001b[1;33m(\u001b[0m\u001b[0mdfn\u001b[0m\u001b[1;33m[\u001b[0m\u001b[1;34m'Free Cash Flow Yield'\u001b[0m\u001b[1;33m]\u001b[0m\u001b[1;33m,\u001b[0m \u001b[0mkde\u001b[0m\u001b[1;33m=\u001b[0m\u001b[1;32mFalse\u001b[0m\u001b[1;33m,\u001b[0m \u001b[0mbins\u001b[0m\u001b[1;33m=\u001b[0m\u001b[1;36m35\u001b[0m\u001b[1;33m,\u001b[0m \u001b[1;33m)\u001b[0m\u001b[1;33m\u001b[0m\u001b[1;33m\u001b[0m\u001b[0m\n\u001b[0m",
      "\u001b[1;32m~\\anaconda3\\lib\\site-packages\\pandas\\core\\frame.py\u001b[0m in \u001b[0;36m__getitem__\u001b[1;34m(self, key)\u001b[0m\n\u001b[0;32m   2798\u001b[0m             \u001b[1;32mif\u001b[0m \u001b[0mself\u001b[0m\u001b[1;33m.\u001b[0m\u001b[0mcolumns\u001b[0m\u001b[1;33m.\u001b[0m\u001b[0mnlevels\u001b[0m \u001b[1;33m>\u001b[0m \u001b[1;36m1\u001b[0m\u001b[1;33m:\u001b[0m\u001b[1;33m\u001b[0m\u001b[1;33m\u001b[0m\u001b[0m\n\u001b[0;32m   2799\u001b[0m                 \u001b[1;32mreturn\u001b[0m \u001b[0mself\u001b[0m\u001b[1;33m.\u001b[0m\u001b[0m_getitem_multilevel\u001b[0m\u001b[1;33m(\u001b[0m\u001b[0mkey\u001b[0m\u001b[1;33m)\u001b[0m\u001b[1;33m\u001b[0m\u001b[1;33m\u001b[0m\u001b[0m\n\u001b[1;32m-> 2800\u001b[1;33m             \u001b[0mindexer\u001b[0m \u001b[1;33m=\u001b[0m \u001b[0mself\u001b[0m\u001b[1;33m.\u001b[0m\u001b[0mcolumns\u001b[0m\u001b[1;33m.\u001b[0m\u001b[0mget_loc\u001b[0m\u001b[1;33m(\u001b[0m\u001b[0mkey\u001b[0m\u001b[1;33m)\u001b[0m\u001b[1;33m\u001b[0m\u001b[1;33m\u001b[0m\u001b[0m\n\u001b[0m\u001b[0;32m   2801\u001b[0m             \u001b[1;32mif\u001b[0m \u001b[0mis_integer\u001b[0m\u001b[1;33m(\u001b[0m\u001b[0mindexer\u001b[0m\u001b[1;33m)\u001b[0m\u001b[1;33m:\u001b[0m\u001b[1;33m\u001b[0m\u001b[1;33m\u001b[0m\u001b[0m\n\u001b[0;32m   2802\u001b[0m                 \u001b[0mindexer\u001b[0m \u001b[1;33m=\u001b[0m \u001b[1;33m[\u001b[0m\u001b[0mindexer\u001b[0m\u001b[1;33m]\u001b[0m\u001b[1;33m\u001b[0m\u001b[1;33m\u001b[0m\u001b[0m\n",
      "\u001b[1;32m~\\anaconda3\\lib\\site-packages\\pandas\\core\\indexes\\base.py\u001b[0m in \u001b[0;36mget_loc\u001b[1;34m(self, key, method, tolerance)\u001b[0m\n\u001b[0;32m   2646\u001b[0m                 \u001b[1;32mreturn\u001b[0m \u001b[0mself\u001b[0m\u001b[1;33m.\u001b[0m\u001b[0m_engine\u001b[0m\u001b[1;33m.\u001b[0m\u001b[0mget_loc\u001b[0m\u001b[1;33m(\u001b[0m\u001b[0mkey\u001b[0m\u001b[1;33m)\u001b[0m\u001b[1;33m\u001b[0m\u001b[1;33m\u001b[0m\u001b[0m\n\u001b[0;32m   2647\u001b[0m             \u001b[1;32mexcept\u001b[0m \u001b[0mKeyError\u001b[0m\u001b[1;33m:\u001b[0m\u001b[1;33m\u001b[0m\u001b[1;33m\u001b[0m\u001b[0m\n\u001b[1;32m-> 2648\u001b[1;33m                 \u001b[1;32mreturn\u001b[0m \u001b[0mself\u001b[0m\u001b[1;33m.\u001b[0m\u001b[0m_engine\u001b[0m\u001b[1;33m.\u001b[0m\u001b[0mget_loc\u001b[0m\u001b[1;33m(\u001b[0m\u001b[0mself\u001b[0m\u001b[1;33m.\u001b[0m\u001b[0m_maybe_cast_indexer\u001b[0m\u001b[1;33m(\u001b[0m\u001b[0mkey\u001b[0m\u001b[1;33m)\u001b[0m\u001b[1;33m)\u001b[0m\u001b[1;33m\u001b[0m\u001b[1;33m\u001b[0m\u001b[0m\n\u001b[0m\u001b[0;32m   2649\u001b[0m         \u001b[0mindexer\u001b[0m \u001b[1;33m=\u001b[0m \u001b[0mself\u001b[0m\u001b[1;33m.\u001b[0m\u001b[0mget_indexer\u001b[0m\u001b[1;33m(\u001b[0m\u001b[1;33m[\u001b[0m\u001b[0mkey\u001b[0m\u001b[1;33m]\u001b[0m\u001b[1;33m,\u001b[0m \u001b[0mmethod\u001b[0m\u001b[1;33m=\u001b[0m\u001b[0mmethod\u001b[0m\u001b[1;33m,\u001b[0m \u001b[0mtolerance\u001b[0m\u001b[1;33m=\u001b[0m\u001b[0mtolerance\u001b[0m\u001b[1;33m)\u001b[0m\u001b[1;33m\u001b[0m\u001b[1;33m\u001b[0m\u001b[0m\n\u001b[0;32m   2650\u001b[0m         \u001b[1;32mif\u001b[0m \u001b[0mindexer\u001b[0m\u001b[1;33m.\u001b[0m\u001b[0mndim\u001b[0m \u001b[1;33m>\u001b[0m \u001b[1;36m1\u001b[0m \u001b[1;32mor\u001b[0m \u001b[0mindexer\u001b[0m\u001b[1;33m.\u001b[0m\u001b[0msize\u001b[0m \u001b[1;33m>\u001b[0m \u001b[1;36m1\u001b[0m\u001b[1;33m:\u001b[0m\u001b[1;33m\u001b[0m\u001b[1;33m\u001b[0m\u001b[0m\n",
      "\u001b[1;32mpandas\\_libs\\index.pyx\u001b[0m in \u001b[0;36mpandas._libs.index.IndexEngine.get_loc\u001b[1;34m()\u001b[0m\n",
      "\u001b[1;32mpandas\\_libs\\index.pyx\u001b[0m in \u001b[0;36mpandas._libs.index.IndexEngine.get_loc\u001b[1;34m()\u001b[0m\n",
      "\u001b[1;32mpandas\\_libs\\hashtable_class_helper.pxi\u001b[0m in \u001b[0;36mpandas._libs.hashtable.PyObjectHashTable.get_item\u001b[1;34m()\u001b[0m\n",
      "\u001b[1;32mpandas\\_libs\\hashtable_class_helper.pxi\u001b[0m in \u001b[0;36mpandas._libs.hashtable.PyObjectHashTable.get_item\u001b[1;34m()\u001b[0m\n",
      "\u001b[1;31mKeyError\u001b[0m: 'Free Cash Flow Yield'"
     ]
    }
   ],
   "source": [
    "sns.distplot(dfn['Free Cash Flow Yield'], kde=False, bins=35, )"
   ]
  },
  {
   "cell_type": "code",
   "execution_count": null,
   "metadata": {},
   "outputs": [],
   "source": []
  }
 ],
 "metadata": {
  "kernelspec": {
   "display_name": "Python 3",
   "language": "python",
   "name": "python3"
  },
  "language_info": {
   "codemirror_mode": {
    "name": "ipython",
    "version": 3
   },
   "file_extension": ".py",
   "mimetype": "text/x-python",
   "name": "python",
   "nbconvert_exporter": "python",
   "pygments_lexer": "ipython3",
   "version": "3.8.3"
  }
 },
 "nbformat": 4,
 "nbformat_minor": 4
}
