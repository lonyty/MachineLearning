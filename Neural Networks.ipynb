{
 "cells": [
  {
   "cell_type": "code",
   "execution_count": 2,
   "metadata": {},
   "outputs": [],
   "source": [
    "#multiclass situation with mutually exclusive classes --> Softmax Function\n",
    "#1 Output note per class (dummy variables)"
   ]
  },
  {
   "cell_type": "code",
   "execution_count": 3,
   "metadata": {},
   "outputs": [],
   "source": [
    "import pandas as pd\n",
    "import numpy as np\n",
    "import matplotlib.pyplot as plt\n",
    "import seaborn as sns\n",
    "%matplotlib inline"
   ]
  },
  {
   "cell_type": "code",
   "execution_count": 4,
   "metadata": {},
   "outputs": [],
   "source": [
    "#import cleaned data set\n",
    "df = pd.read_csv('cleaned_data/Cleaned Data.csv', index_col=[0])"
   ]
  },
  {
   "cell_type": "code",
   "execution_count": 5,
   "metadata": {},
   "outputs": [
    {
     "data": {
      "text/html": [
       "<div>\n",
       "<style scoped>\n",
       "    .dataframe tbody tr th:only-of-type {\n",
       "        vertical-align: middle;\n",
       "    }\n",
       "\n",
       "    .dataframe tbody tr th {\n",
       "        vertical-align: top;\n",
       "    }\n",
       "\n",
       "    .dataframe thead th {\n",
       "        text-align: right;\n",
       "    }\n",
       "</style>\n",
       "<table border=\"1\" class=\"dataframe\">\n",
       "  <thead>\n",
       "    <tr style=\"text-align: right;\">\n",
       "      <th></th>\n",
       "      <th>Revenue</th>\n",
       "      <th>Revenue Growth</th>\n",
       "      <th>Cost of Revenue</th>\n",
       "      <th>Gross Profit</th>\n",
       "      <th>R&amp;D Expenses</th>\n",
       "      <th>SG&amp;A Expense</th>\n",
       "      <th>Operating Expenses</th>\n",
       "      <th>Operating Income</th>\n",
       "      <th>Interest Expense</th>\n",
       "      <th>Earnings before Tax</th>\n",
       "      <th>...</th>\n",
       "      <th>Consumer Cyclical</th>\n",
       "      <th>Consumer Defensive</th>\n",
       "      <th>Energy</th>\n",
       "      <th>Financial Services</th>\n",
       "      <th>Healthcare</th>\n",
       "      <th>Industrials</th>\n",
       "      <th>Real Estate</th>\n",
       "      <th>Technology</th>\n",
       "      <th>Utilities</th>\n",
       "      <th>Signal</th>\n",
       "    </tr>\n",
       "  </thead>\n",
       "  <tbody>\n",
       "    <tr>\n",
       "      <th>1</th>\n",
       "      <td>3.734148e+09</td>\n",
       "      <td>1.1737</td>\n",
       "      <td>2.805625e+09</td>\n",
       "      <td>9.285226e+08</td>\n",
       "      <td>1.083303e+08</td>\n",
       "      <td>3.441414e+08</td>\n",
       "      <td>7.939267e+08</td>\n",
       "      <td>1.345959e+08</td>\n",
       "      <td>1.214869e+07</td>\n",
       "      <td>1.753823e+08</td>\n",
       "      <td>...</td>\n",
       "      <td>0</td>\n",
       "      <td>1</td>\n",
       "      <td>0</td>\n",
       "      <td>0</td>\n",
       "      <td>0</td>\n",
       "      <td>0</td>\n",
       "      <td>0</td>\n",
       "      <td>0</td>\n",
       "      <td>0</td>\n",
       "      <td>Sell</td>\n",
       "    </tr>\n",
       "    <tr>\n",
       "      <th>2</th>\n",
       "      <td>1.790960e+10</td>\n",
       "      <td>0.0076</td>\n",
       "      <td>1.153980e+10</td>\n",
       "      <td>6.369800e+09</td>\n",
       "      <td>0.000000e+00</td>\n",
       "      <td>3.474300e+09</td>\n",
       "      <td>3.412400e+09</td>\n",
       "      <td>2.957400e+09</td>\n",
       "      <td>3.024000e+08</td>\n",
       "      <td>2.707700e+09</td>\n",
       "      <td>...</td>\n",
       "      <td>0</td>\n",
       "      <td>1</td>\n",
       "      <td>0</td>\n",
       "      <td>0</td>\n",
       "      <td>0</td>\n",
       "      <td>0</td>\n",
       "      <td>0</td>\n",
       "      <td>0</td>\n",
       "      <td>0</td>\n",
       "      <td>Buy</td>\n",
       "    </tr>\n",
       "    <tr>\n",
       "      <th>3</th>\n",
       "      <td>5.727000e+09</td>\n",
       "      <td>0.0214</td>\n",
       "      <td>3.523600e+09</td>\n",
       "      <td>2.203400e+09</td>\n",
       "      <td>0.000000e+00</td>\n",
       "      <td>1.480500e+09</td>\n",
       "      <td>1.598700e+09</td>\n",
       "      <td>6.047000e+08</td>\n",
       "      <td>6.040000e+07</td>\n",
       "      <td>4.669000e+08</td>\n",
       "      <td>...</td>\n",
       "      <td>0</td>\n",
       "      <td>1</td>\n",
       "      <td>0</td>\n",
       "      <td>0</td>\n",
       "      <td>0</td>\n",
       "      <td>0</td>\n",
       "      <td>0</td>\n",
       "      <td>0</td>\n",
       "      <td>0</td>\n",
       "      <td>Buy</td>\n",
       "    </tr>\n",
       "    <tr>\n",
       "      <th>4</th>\n",
       "      <td>1.972400e+10</td>\n",
       "      <td>0.0083</td>\n",
       "      <td>1.304100e+10</td>\n",
       "      <td>6.683000e+09</td>\n",
       "      <td>0.000000e+00</td>\n",
       "      <td>3.709000e+09</td>\n",
       "      <td>4.162000e+09</td>\n",
       "      <td>2.521000e+09</td>\n",
       "      <td>2.840000e+08</td>\n",
       "      <td>2.382000e+09</td>\n",
       "      <td>...</td>\n",
       "      <td>0</td>\n",
       "      <td>1</td>\n",
       "      <td>0</td>\n",
       "      <td>0</td>\n",
       "      <td>0</td>\n",
       "      <td>0</td>\n",
       "      <td>0</td>\n",
       "      <td>0</td>\n",
       "      <td>0</td>\n",
       "      <td>Buy</td>\n",
       "    </tr>\n",
       "    <tr>\n",
       "      <th>5</th>\n",
       "      <td>8.268000e+09</td>\n",
       "      <td>0.0268</td>\n",
       "      <td>5.297000e+09</td>\n",
       "      <td>2.971000e+09</td>\n",
       "      <td>1.220000e+08</td>\n",
       "      <td>1.505000e+09</td>\n",
       "      <td>1.704000e+09</td>\n",
       "      <td>1.267000e+09</td>\n",
       "      <td>1.220000e+08</td>\n",
       "      <td>1.240000e+09</td>\n",
       "      <td>...</td>\n",
       "      <td>0</td>\n",
       "      <td>1</td>\n",
       "      <td>0</td>\n",
       "      <td>0</td>\n",
       "      <td>0</td>\n",
       "      <td>0</td>\n",
       "      <td>0</td>\n",
       "      <td>0</td>\n",
       "      <td>0</td>\n",
       "      <td>Buy</td>\n",
       "    </tr>\n",
       "    <tr>\n",
       "      <th>...</th>\n",
       "      <td>...</td>\n",
       "      <td>...</td>\n",
       "      <td>...</td>\n",
       "      <td>...</td>\n",
       "      <td>...</td>\n",
       "      <td>...</td>\n",
       "      <td>...</td>\n",
       "      <td>...</td>\n",
       "      <td>...</td>\n",
       "      <td>...</td>\n",
       "      <td>...</td>\n",
       "      <td>...</td>\n",
       "      <td>...</td>\n",
       "      <td>...</td>\n",
       "      <td>...</td>\n",
       "      <td>...</td>\n",
       "      <td>...</td>\n",
       "      <td>...</td>\n",
       "      <td>...</td>\n",
       "      <td>...</td>\n",
       "      <td>...</td>\n",
       "    </tr>\n",
       "    <tr>\n",
       "      <th>11575</th>\n",
       "      <td>0.000000e+00</td>\n",
       "      <td>0.0000</td>\n",
       "      <td>0.000000e+00</td>\n",
       "      <td>0.000000e+00</td>\n",
       "      <td>1.572500e+07</td>\n",
       "      <td>5.269000e+06</td>\n",
       "      <td>2.099400e+07</td>\n",
       "      <td>-2.099400e+07</td>\n",
       "      <td>0.000000e+00</td>\n",
       "      <td>-2.113800e+07</td>\n",
       "      <td>...</td>\n",
       "      <td>0</td>\n",
       "      <td>0</td>\n",
       "      <td>0</td>\n",
       "      <td>0</td>\n",
       "      <td>1</td>\n",
       "      <td>0</td>\n",
       "      <td>0</td>\n",
       "      <td>0</td>\n",
       "      <td>0</td>\n",
       "      <td>Buy</td>\n",
       "    </tr>\n",
       "    <tr>\n",
       "      <th>11576</th>\n",
       "      <td>0.000000e+00</td>\n",
       "      <td>0.0000</td>\n",
       "      <td>0.000000e+00</td>\n",
       "      <td>0.000000e+00</td>\n",
       "      <td>0.000000e+00</td>\n",
       "      <td>3.755251e+06</td>\n",
       "      <td>3.755251e+06</td>\n",
       "      <td>-3.755251e+06</td>\n",
       "      <td>1.105849e+07</td>\n",
       "      <td>-1.482451e+07</td>\n",
       "      <td>...</td>\n",
       "      <td>0</td>\n",
       "      <td>0</td>\n",
       "      <td>0</td>\n",
       "      <td>0</td>\n",
       "      <td>0</td>\n",
       "      <td>0</td>\n",
       "      <td>1</td>\n",
       "      <td>0</td>\n",
       "      <td>0</td>\n",
       "      <td>Sell</td>\n",
       "    </tr>\n",
       "    <tr>\n",
       "      <th>11577</th>\n",
       "      <td>5.488438e+07</td>\n",
       "      <td>0.2210</td>\n",
       "      <td>3.659379e+07</td>\n",
       "      <td>1.829059e+07</td>\n",
       "      <td>1.652633e+06</td>\n",
       "      <td>7.020320e+06</td>\n",
       "      <td>8.672953e+06</td>\n",
       "      <td>9.617636e+06</td>\n",
       "      <td>1.239170e+06</td>\n",
       "      <td>8.416324e+06</td>\n",
       "      <td>...</td>\n",
       "      <td>0</td>\n",
       "      <td>0</td>\n",
       "      <td>0</td>\n",
       "      <td>0</td>\n",
       "      <td>0</td>\n",
       "      <td>0</td>\n",
       "      <td>0</td>\n",
       "      <td>0</td>\n",
       "      <td>0</td>\n",
       "      <td>Sell</td>\n",
       "    </tr>\n",
       "    <tr>\n",
       "      <th>11578</th>\n",
       "      <td>0.000000e+00</td>\n",
       "      <td>0.0000</td>\n",
       "      <td>0.000000e+00</td>\n",
       "      <td>0.000000e+00</td>\n",
       "      <td>1.031715e+07</td>\n",
       "      <td>4.521349e+06</td>\n",
       "      <td>1.664863e+07</td>\n",
       "      <td>-1.664863e+07</td>\n",
       "      <td>0.000000e+00</td>\n",
       "      <td>-1.664769e+07</td>\n",
       "      <td>...</td>\n",
       "      <td>0</td>\n",
       "      <td>0</td>\n",
       "      <td>0</td>\n",
       "      <td>0</td>\n",
       "      <td>0</td>\n",
       "      <td>1</td>\n",
       "      <td>0</td>\n",
       "      <td>0</td>\n",
       "      <td>0</td>\n",
       "      <td>Sell</td>\n",
       "    </tr>\n",
       "    <tr>\n",
       "      <th>11579</th>\n",
       "      <td>5.301900e+07</td>\n",
       "      <td>0.0243</td>\n",
       "      <td>0.000000e+00</td>\n",
       "      <td>5.301900e+07</td>\n",
       "      <td>5.668400e+07</td>\n",
       "      <td>2.945700e+07</td>\n",
       "      <td>8.614600e+07</td>\n",
       "      <td>-3.312700e+07</td>\n",
       "      <td>1.660000e+05</td>\n",
       "      <td>-3.438500e+07</td>\n",
       "      <td>...</td>\n",
       "      <td>0</td>\n",
       "      <td>0</td>\n",
       "      <td>0</td>\n",
       "      <td>0</td>\n",
       "      <td>1</td>\n",
       "      <td>0</td>\n",
       "      <td>0</td>\n",
       "      <td>0</td>\n",
       "      <td>0</td>\n",
       "      <td>Buy</td>\n",
       "    </tr>\n",
       "  </tbody>\n",
       "</table>\n",
       "<p>11579 rows × 231 columns</p>\n",
       "</div>"
      ],
      "text/plain": [
       "            Revenue  Revenue Growth  Cost of Revenue  Gross Profit  \\\n",
       "1      3.734148e+09          1.1737     2.805625e+09  9.285226e+08   \n",
       "2      1.790960e+10          0.0076     1.153980e+10  6.369800e+09   \n",
       "3      5.727000e+09          0.0214     3.523600e+09  2.203400e+09   \n",
       "4      1.972400e+10          0.0083     1.304100e+10  6.683000e+09   \n",
       "5      8.268000e+09          0.0268     5.297000e+09  2.971000e+09   \n",
       "...             ...             ...              ...           ...   \n",
       "11575  0.000000e+00          0.0000     0.000000e+00  0.000000e+00   \n",
       "11576  0.000000e+00          0.0000     0.000000e+00  0.000000e+00   \n",
       "11577  5.488438e+07          0.2210     3.659379e+07  1.829059e+07   \n",
       "11578  0.000000e+00          0.0000     0.000000e+00  0.000000e+00   \n",
       "11579  5.301900e+07          0.0243     0.000000e+00  5.301900e+07   \n",
       "\n",
       "       R&D Expenses  SG&A Expense  Operating Expenses  Operating Income  \\\n",
       "1      1.083303e+08  3.441414e+08        7.939267e+08      1.345959e+08   \n",
       "2      0.000000e+00  3.474300e+09        3.412400e+09      2.957400e+09   \n",
       "3      0.000000e+00  1.480500e+09        1.598700e+09      6.047000e+08   \n",
       "4      0.000000e+00  3.709000e+09        4.162000e+09      2.521000e+09   \n",
       "5      1.220000e+08  1.505000e+09        1.704000e+09      1.267000e+09   \n",
       "...             ...           ...                 ...               ...   \n",
       "11575  1.572500e+07  5.269000e+06        2.099400e+07     -2.099400e+07   \n",
       "11576  0.000000e+00  3.755251e+06        3.755251e+06     -3.755251e+06   \n",
       "11577  1.652633e+06  7.020320e+06        8.672953e+06      9.617636e+06   \n",
       "11578  1.031715e+07  4.521349e+06        1.664863e+07     -1.664863e+07   \n",
       "11579  5.668400e+07  2.945700e+07        8.614600e+07     -3.312700e+07   \n",
       "\n",
       "       Interest Expense  Earnings before Tax  ...  Consumer Cyclical  \\\n",
       "1          1.214869e+07         1.753823e+08  ...                  0   \n",
       "2          3.024000e+08         2.707700e+09  ...                  0   \n",
       "3          6.040000e+07         4.669000e+08  ...                  0   \n",
       "4          2.840000e+08         2.382000e+09  ...                  0   \n",
       "5          1.220000e+08         1.240000e+09  ...                  0   \n",
       "...                 ...                  ...  ...                ...   \n",
       "11575      0.000000e+00        -2.113800e+07  ...                  0   \n",
       "11576      1.105849e+07        -1.482451e+07  ...                  0   \n",
       "11577      1.239170e+06         8.416324e+06  ...                  0   \n",
       "11578      0.000000e+00        -1.664769e+07  ...                  0   \n",
       "11579      1.660000e+05        -3.438500e+07  ...                  0   \n",
       "\n",
       "       Consumer Defensive  Energy  Financial Services  Healthcare  \\\n",
       "1                       1       0                   0           0   \n",
       "2                       1       0                   0           0   \n",
       "3                       1       0                   0           0   \n",
       "4                       1       0                   0           0   \n",
       "5                       1       0                   0           0   \n",
       "...                   ...     ...                 ...         ...   \n",
       "11575                   0       0                   0           1   \n",
       "11576                   0       0                   0           0   \n",
       "11577                   0       0                   0           0   \n",
       "11578                   0       0                   0           0   \n",
       "11579                   0       0                   0           1   \n",
       "\n",
       "       Industrials  Real Estate  Technology  Utilities  Signal  \n",
       "1                0            0           0          0    Sell  \n",
       "2                0            0           0          0     Buy  \n",
       "3                0            0           0          0     Buy  \n",
       "4                0            0           0          0     Buy  \n",
       "5                0            0           0          0     Buy  \n",
       "...            ...          ...         ...        ...     ...  \n",
       "11575            0            0           0          0     Buy  \n",
       "11576            0            1           0          0    Sell  \n",
       "11577            0            0           0          0    Sell  \n",
       "11578            1            0           0          0    Sell  \n",
       "11579            0            0           0          0     Buy  \n",
       "\n",
       "[11579 rows x 231 columns]"
      ]
     },
     "execution_count": 5,
     "metadata": {},
     "output_type": "execute_result"
    }
   ],
   "source": [
    "df"
   ]
  },
  {
   "cell_type": "code",
   "execution_count": 6,
   "metadata": {},
   "outputs": [],
   "source": [
    "#Arrange response variable with dummy variable\n",
    "X = df.drop('Signal', axis=1)\n",
    "y = pd.get_dummies(df['Signal'])"
   ]
  },
  {
   "cell_type": "code",
   "execution_count": 7,
   "metadata": {},
   "outputs": [
    {
     "data": {
      "text/html": [
       "<div>\n",
       "<style scoped>\n",
       "    .dataframe tbody tr th:only-of-type {\n",
       "        vertical-align: middle;\n",
       "    }\n",
       "\n",
       "    .dataframe tbody tr th {\n",
       "        vertical-align: top;\n",
       "    }\n",
       "\n",
       "    .dataframe thead th {\n",
       "        text-align: right;\n",
       "    }\n",
       "</style>\n",
       "<table border=\"1\" class=\"dataframe\">\n",
       "  <thead>\n",
       "    <tr style=\"text-align: right;\">\n",
       "      <th></th>\n",
       "      <th>Buy</th>\n",
       "      <th>Hold</th>\n",
       "      <th>Sell</th>\n",
       "    </tr>\n",
       "  </thead>\n",
       "  <tbody>\n",
       "    <tr>\n",
       "      <th>1</th>\n",
       "      <td>0</td>\n",
       "      <td>0</td>\n",
       "      <td>1</td>\n",
       "    </tr>\n",
       "    <tr>\n",
       "      <th>2</th>\n",
       "      <td>1</td>\n",
       "      <td>0</td>\n",
       "      <td>0</td>\n",
       "    </tr>\n",
       "    <tr>\n",
       "      <th>3</th>\n",
       "      <td>1</td>\n",
       "      <td>0</td>\n",
       "      <td>0</td>\n",
       "    </tr>\n",
       "  </tbody>\n",
       "</table>\n",
       "</div>"
      ],
      "text/plain": [
       "   Buy  Hold  Sell\n",
       "1    0     0     1\n",
       "2    1     0     0\n",
       "3    1     0     0"
      ]
     },
     "execution_count": 7,
     "metadata": {},
     "output_type": "execute_result"
    }
   ],
   "source": [
    "#inspecting if transition worked for response variable\n",
    "y.head(3)"
   ]
  },
  {
   "cell_type": "code",
   "execution_count": 8,
   "metadata": {},
   "outputs": [],
   "source": [
    "from sklearn.model_selection import train_test_split"
   ]
  },
  {
   "cell_type": "code",
   "execution_count": 9,
   "metadata": {},
   "outputs": [],
   "source": [
    "#Create train test split\n",
    "X_train, X_test, y_train, y_test = train_test_split(X, y, test_size=0.3, random_state=0, stratify=y)"
   ]
  },
  {
   "cell_type": "code",
   "execution_count": 10,
   "metadata": {},
   "outputs": [],
   "source": [
    "#scale our data to avoid issues (X_scaled = X_std * (max - min) + min)\n",
    "from sklearn.preprocessing import MinMaxScaler"
   ]
  },
  {
   "cell_type": "code",
   "execution_count": 11,
   "metadata": {},
   "outputs": [
    {
     "data": {
      "text/plain": [
       "MinMaxScaler()"
      ]
     },
     "execution_count": 11,
     "metadata": {},
     "output_type": "execute_result"
    }
   ],
   "source": [
    "#creating an instance\n",
    "scaler = MinMaxScaler()\n",
    "\n",
    "#adjusting scaler only based on the training set (without test values to prevent data leakage)\n",
    "scaler.fit(X_train)"
   ]
  },
  {
   "cell_type": "code",
   "execution_count": 12,
   "metadata": {},
   "outputs": [],
   "source": [
    "#perform the transformation\n",
    "X_train = scaler.transform(X_train)\n",
    "X_test = scaler.transform(X_test)"
   ]
  },
  {
   "cell_type": "code",
   "execution_count": 13,
   "metadata": {},
   "outputs": [
    {
     "data": {
      "text/plain": [
       "(8105, 230)"
      ]
     },
     "execution_count": 13,
     "metadata": {},
     "output_type": "execute_result"
    }
   ],
   "source": [
    "X_train.shape"
   ]
  },
  {
   "cell_type": "code",
   "execution_count": 14,
   "metadata": {},
   "outputs": [],
   "source": [
    "#import functions to create a neural network model based on keras\n",
    "from tensorflow.keras.models import Sequential\n",
    "from tensorflow.keras.layers import Dense, Dropout"
   ]
  },
  {
   "cell_type": "code",
   "execution_count": 15,
   "metadata": {},
   "outputs": [],
   "source": [
    "#set up a empty sequential model\n",
    "model = Sequential()\n",
    "\n",
    "#adding dense layers (=regular densely-connected NN layer)\n",
    "#rule of thumb: Create as many NN as features for first layer\n",
    "model.add(Dense(230, activation='relu'))\n",
    "\n",
    "#dropout layer to prevent overfitting\n",
    "model.add(Dropout(0.2))\n",
    "\n",
    "#repeat process, but reduce amount of neurons for each step by half\n",
    "model.add(Dense(115, activation='relu'))\n",
    "model.add(Dropout(0.2))        \n",
    "          \n",
    "model.add(Dense(57, activation='relu'))\n",
    "model.add(Dropout(0.2))           \n",
    "          \n",
    "\n",
    "#1 Output neuron per class\n",
    "model.add(Dense(3, activation='softmax'))\n",
    "\n",
    "#optimize a multi-class classification problem\n",
    "model.compile(optimizer='rmsprop', loss='categorical_crossentropy', metrics=['accuracy'])"
   ]
  },
  {
   "cell_type": "code",
   "execution_count": 16,
   "metadata": {},
   "outputs": [
    {
     "name": "stdout",
     "output_type": "stream",
     "text": [
      "Epoch 1/100\n",
      "32/32 [==============================] - 3s 9ms/step - loss: 0.9850 - accuracy: 0.4504\n",
      "Epoch 2/100\n",
      "32/32 [==============================] - 0s 9ms/step - loss: 0.8883 - accuracy: 0.5179\n",
      "Epoch 3/100\n",
      "32/32 [==============================] - 0s 9ms/step - loss: 0.8799 - accuracy: 0.5256\n",
      "Epoch 4/100\n",
      "32/32 [==============================] - 0s 8ms/step - loss: 0.8832 - accuracy: 0.5179\n",
      "Epoch 5/100\n",
      "32/32 [==============================] - 0s 8ms/step - loss: 0.8915 - accuracy: 0.5248\n",
      "Epoch 6/100\n",
      "32/32 [==============================] - 0s 9ms/step - loss: 0.8746 - accuracy: 0.5271\n",
      "Epoch 7/100\n",
      "32/32 [==============================] - 0s 9ms/step - loss: 0.8716 - accuracy: 0.5285\n",
      "Epoch 8/100\n",
      "32/32 [==============================] - 0s 12ms/step - loss: 0.8792 - accuracy: 0.5256\n",
      "Epoch 9/100\n",
      "32/32 [==============================] - 0s 12ms/step - loss: 0.8686 - accuracy: 0.5300\n",
      "Epoch 10/100\n",
      "32/32 [==============================] - 1s 17ms/step - loss: 0.8807 - accuracy: 0.5202\n",
      "Epoch 11/100\n",
      "32/32 [==============================] - 1s 16ms/step - loss: 0.8720 - accuracy: 0.5332\n",
      "Epoch 12/100\n",
      "32/32 [==============================] - 1s 17ms/step - loss: 0.8712 - accuracy: 0.5399\n",
      "Epoch 13/100\n",
      "32/32 [==============================] - 1s 17ms/step - loss: 0.8724 - accuracy: 0.5447\n",
      "Epoch 14/100\n",
      "32/32 [==============================] - 1s 16ms/step - loss: 0.8762 - accuracy: 0.5302\n",
      "Epoch 15/100\n",
      "32/32 [==============================] - 1s 16ms/step - loss: 0.8716 - accuracy: 0.5442\n",
      "Epoch 16/100\n",
      "32/32 [==============================] - 1s 16ms/step - loss: 0.8642 - accuracy: 0.5505\n",
      "Epoch 17/100\n",
      "32/32 [==============================] - 1s 16ms/step - loss: 0.8730 - accuracy: 0.5367\n",
      "Epoch 18/100\n",
      "32/32 [==============================] - 1s 17ms/step - loss: 0.8690 - accuracy: 0.5416\n",
      "Epoch 19/100\n",
      "32/32 [==============================] - 1s 17ms/step - loss: 0.8685 - accuracy: 0.5473\n",
      "Epoch 20/100\n",
      "32/32 [==============================] - 1s 16ms/step - loss: 0.8624 - accuracy: 0.5417\n",
      "Epoch 21/100\n",
      "32/32 [==============================] - 1s 18ms/step - loss: 0.8639 - accuracy: 0.5565 0s - loss: 0.8598 - accuracy\n",
      "Epoch 22/100\n",
      "32/32 [==============================] - 1s 17ms/step - loss: 0.8617 - accuracy: 0.5456\n",
      "Epoch 23/100\n",
      "32/32 [==============================] - 1s 17ms/step - loss: 0.8751 - accuracy: 0.5399\n",
      "Epoch 24/100\n",
      "32/32 [==============================] - 1s 16ms/step - loss: 0.8769 - accuracy: 0.5349\n",
      "Epoch 25/100\n",
      "32/32 [==============================] - 1s 17ms/step - loss: 0.8635 - accuracy: 0.5336 0s - loss: 0.8619 - accuracy: \n",
      "Epoch 26/100\n",
      "32/32 [==============================] - 1s 16ms/step - loss: 0.8499 - accuracy: 0.5473 0s - loss: 0.8459 - accuracy: \n",
      "Epoch 27/100\n",
      "32/32 [==============================] - 1s 17ms/step - loss: 0.8659 - accuracy: 0.5405\n",
      "Epoch 28/100\n",
      "32/32 [==============================] - 1s 16ms/step - loss: 0.8712 - accuracy: 0.5440\n",
      "Epoch 29/100\n",
      "32/32 [==============================] - 1s 16ms/step - loss: 0.8609 - accuracy: 0.5572\n",
      "Epoch 30/100\n",
      "32/32 [==============================] - 1s 16ms/step - loss: 0.8721 - accuracy: 0.5466\n",
      "Epoch 31/100\n",
      "32/32 [==============================] - 1s 17ms/step - loss: 0.8689 - accuracy: 0.5470\n",
      "Epoch 32/100\n",
      "32/32 [==============================] - 1s 17ms/step - loss: 0.8690 - accuracy: 0.5465\n",
      "Epoch 33/100\n",
      "32/32 [==============================] - 0s 14ms/step - loss: 0.8603 - accuracy: 0.5463\n",
      "Epoch 34/100\n",
      "32/32 [==============================] - 0s 10ms/step - loss: 0.8561 - accuracy: 0.5493\n",
      "Epoch 35/100\n",
      "32/32 [==============================] - 0s 10ms/step - loss: 0.8625 - accuracy: 0.5444\n",
      "Epoch 36/100\n",
      "32/32 [==============================] - 0s 11ms/step - loss: 0.8677 - accuracy: 0.5526\n",
      "Epoch 37/100\n",
      "32/32 [==============================] - 0s 11ms/step - loss: 0.8526 - accuracy: 0.5467\n",
      "Epoch 38/100\n",
      "32/32 [==============================] - 0s 10ms/step - loss: 0.8629 - accuracy: 0.5492\n",
      "Epoch 39/100\n",
      "32/32 [==============================] - 0s 11ms/step - loss: 0.8650 - accuracy: 0.5541\n",
      "Epoch 40/100\n",
      "32/32 [==============================] - 0s 10ms/step - loss: 0.8517 - accuracy: 0.5517\n",
      "Epoch 41/100\n",
      "32/32 [==============================] - 0s 10ms/step - loss: 0.8556 - accuracy: 0.5612 0s - loss: 0.8532 - accuracy: \n",
      "Epoch 42/100\n",
      "32/32 [==============================] - 0s 10ms/step - loss: 0.8612 - accuracy: 0.5474\n",
      "Epoch 43/100\n",
      "32/32 [==============================] - 0s 11ms/step - loss: 0.8486 - accuracy: 0.5615\n",
      "Epoch 44/100\n",
      "32/32 [==============================] - 1s 16ms/step - loss: 0.8619 - accuracy: 0.5550\n",
      "Epoch 45/100\n",
      "32/32 [==============================] - 1s 17ms/step - loss: 0.8526 - accuracy: 0.5508\n",
      "Epoch 46/100\n",
      "32/32 [==============================] - 1s 17ms/step - loss: 0.8754 - accuracy: 0.5464\n",
      "Epoch 47/100\n",
      "32/32 [==============================] - 1s 17ms/step - loss: 0.8543 - accuracy: 0.5596\n",
      "Epoch 48/100\n",
      "32/32 [==============================] - 1s 16ms/step - loss: 0.8465 - accuracy: 0.5589\n",
      "Epoch 49/100\n",
      "32/32 [==============================] - 1s 17ms/step - loss: 0.8597 - accuracy: 0.5536\n",
      "Epoch 50/100\n",
      "32/32 [==============================] - 0s 14ms/step - loss: 0.8525 - accuracy: 0.5612\n",
      "Epoch 51/100\n",
      "32/32 [==============================] - 0s 12ms/step - loss: 0.8545 - accuracy: 0.5561\n",
      "Epoch 52/100\n",
      "32/32 [==============================] - 1s 17ms/step - loss: 0.8555 - accuracy: 0.5643\n",
      "Epoch 53/100\n",
      "32/32 [==============================] - 1s 17ms/step - loss: 0.8524 - accuracy: 0.5573 0s - loss: 0.8346 \n",
      "Epoch 54/100\n",
      "32/32 [==============================] - 1s 16ms/step - loss: 0.8491 - accuracy: 0.5582\n",
      "Epoch 55/100\n",
      "32/32 [==============================] - 1s 18ms/step - loss: 0.8508 - accuracy: 0.5595\n",
      "Epoch 56/100\n",
      "32/32 [==============================] - 1s 17ms/step - loss: 0.8610 - accuracy: 0.5650\n",
      "Epoch 57/100\n",
      "32/32 [==============================] - 1s 17ms/step - loss: 0.8532 - accuracy: 0.5603\n",
      "Epoch 58/100\n",
      "32/32 [==============================] - 0s 10ms/step - loss: 0.8433 - accuracy: 0.5632\n",
      "Epoch 59/100\n",
      "32/32 [==============================] - 0s 8ms/step - loss: 0.8548 - accuracy: 0.5595\n",
      "Epoch 60/100\n",
      "32/32 [==============================] - 0s 11ms/step - loss: 0.8611 - accuracy: 0.5527\n",
      "Epoch 61/100\n",
      "32/32 [==============================] - 0s 14ms/step - loss: 0.8536 - accuracy: 0.5479\n",
      "Epoch 62/100\n",
      "32/32 [==============================] - 0s 14ms/step - loss: 0.8597 - accuracy: 0.5557\n",
      "Epoch 63/100\n",
      "32/32 [==============================] - 0s 14ms/step - loss: 0.8533 - accuracy: 0.5543\n",
      "Epoch 64/100\n",
      "32/32 [==============================] - 0s 13ms/step - loss: 0.8641 - accuracy: 0.5672\n",
      "Epoch 65/100\n",
      "32/32 [==============================] - 0s 8ms/step - loss: 0.8504 - accuracy: 0.5653\n",
      "Epoch 66/100\n",
      "32/32 [==============================] - 0s 14ms/step - loss: 0.8443 - accuracy: 0.5675\n",
      "Epoch 67/100\n",
      "32/32 [==============================] - 0s 14ms/step - loss: 0.8617 - accuracy: 0.5513\n",
      "Epoch 68/100\n",
      "32/32 [==============================] - 0s 14ms/step - loss: 0.8535 - accuracy: 0.5634\n",
      "Epoch 69/100\n",
      "32/32 [==============================] - 0s 15ms/step - loss: 0.8542 - accuracy: 0.5605\n",
      "Epoch 70/100\n",
      "32/32 [==============================] - 0s 14ms/step - loss: 0.8512 - accuracy: 0.5716\n",
      "Epoch 71/100\n",
      "32/32 [==============================] - 0s 9ms/step - loss: 0.8542 - accuracy: 0.5661\n",
      "Epoch 72/100\n",
      "32/32 [==============================] - 0s 9ms/step - loss: 0.8543 - accuracy: 0.5598\n",
      "Epoch 73/100\n",
      "32/32 [==============================] - 0s 9ms/step - loss: 0.8351 - accuracy: 0.5768\n",
      "Epoch 74/100\n",
      "32/32 [==============================] - 0s 9ms/step - loss: 0.8501 - accuracy: 0.5636\n",
      "Epoch 75/100\n",
      "32/32 [==============================] - 0s 9ms/step - loss: 0.8469 - accuracy: 0.5654\n",
      "Epoch 76/100\n",
      "32/32 [==============================] - 0s 9ms/step - loss: 0.8474 - accuracy: 0.5609\n",
      "Epoch 77/100\n",
      "32/32 [==============================] - 0s 9ms/step - loss: 0.8504 - accuracy: 0.5617\n",
      "Epoch 78/100\n",
      "32/32 [==============================] - 0s 10ms/step - loss: 0.8523 - accuracy: 0.5634\n",
      "Epoch 79/100\n",
      "32/32 [==============================] - 0s 12ms/step - loss: 0.8453 - accuracy: 0.5707\n",
      "Epoch 80/100\n",
      "32/32 [==============================] - 0s 13ms/step - loss: 0.8428 - accuracy: 0.5705\n"
     ]
    },
    {
     "name": "stdout",
     "output_type": "stream",
     "text": [
      "Epoch 81/100\n",
      "32/32 [==============================] - 0s 13ms/step - loss: 0.8449 - accuracy: 0.5775\n",
      "Epoch 82/100\n",
      "32/32 [==============================] - 0s 13ms/step - loss: 0.8438 - accuracy: 0.5678\n",
      "Epoch 83/100\n",
      "32/32 [==============================] - 0s 14ms/step - loss: 0.8558 - accuracy: 0.5621\n",
      "Epoch 84/100\n",
      "32/32 [==============================] - 0s 14ms/step - loss: 0.8459 - accuracy: 0.5648\n",
      "Epoch 85/100\n",
      "32/32 [==============================] - 0s 12ms/step - loss: 0.8473 - accuracy: 0.5681\n",
      "Epoch 86/100\n",
      "32/32 [==============================] - 0s 15ms/step - loss: 0.8494 - accuracy: 0.5666\n",
      "Epoch 87/100\n",
      "32/32 [==============================] - 0s 14ms/step - loss: 0.8333 - accuracy: 0.5743\n",
      "Epoch 88/100\n",
      "32/32 [==============================] - 0s 15ms/step - loss: 0.8474 - accuracy: 0.5668\n",
      "Epoch 89/100\n",
      "32/32 [==============================] - 0s 14ms/step - loss: 0.8379 - accuracy: 0.5609\n",
      "Epoch 90/100\n",
      "32/32 [==============================] - 0s 14ms/step - loss: 0.8432 - accuracy: 0.5692\n",
      "Epoch 91/100\n",
      "32/32 [==============================] - 0s 14ms/step - loss: 0.8383 - accuracy: 0.5710\n",
      "Epoch 92/100\n",
      "32/32 [==============================] - 0s 14ms/step - loss: 0.8400 - accuracy: 0.5743\n",
      "Epoch 93/100\n",
      "32/32 [==============================] - 0s 15ms/step - loss: 0.8347 - accuracy: 0.5785\n",
      "Epoch 94/100\n",
      "32/32 [==============================] - 0s 14ms/step - loss: 0.8486 - accuracy: 0.5675\n",
      "Epoch 95/100\n",
      "32/32 [==============================] - 0s 14ms/step - loss: 0.8357 - accuracy: 0.5724\n",
      "Epoch 96/100\n",
      "32/32 [==============================] - 0s 14ms/step - loss: 0.8301 - accuracy: 0.5828\n",
      "Epoch 97/100\n",
      "32/32 [==============================] - 1s 17ms/step - loss: 0.8437 - accuracy: 0.5746\n",
      "Epoch 98/100\n",
      "32/32 [==============================] - 1s 16ms/step - loss: 0.8535 - accuracy: 0.5694\n",
      "Epoch 99/100\n",
      "32/32 [==============================] - 1s 17ms/step - loss: 0.8255 - accuracy: 0.5839\n",
      "Epoch 100/100\n",
      "32/32 [==============================] - 1s 17ms/step - loss: 0.8348 - accuracy: 0.5691\n"
     ]
    },
    {
     "data": {
      "text/plain": [
       "<tensorflow.python.keras.callbacks.History at 0x19cd66917c0>"
      ]
     },
     "execution_count": 16,
     "metadata": {},
     "output_type": "execute_result"
    }
   ],
   "source": [
    "#fit the model to our training date, \n",
    "#Our model will go trough the training data 100 times\n",
    "model.fit(x=X_train, y=y_train, epochs=100, batch_size=256)"
   ]
  },
  {
   "cell_type": "code",
   "execution_count": 17,
   "metadata": {},
   "outputs": [
    {
     "data": {
      "text/plain": [
       "<matplotlib.axes._subplots.AxesSubplot at 0x19cd7c84580>"
      ]
     },
     "execution_count": 17,
     "metadata": {},
     "output_type": "execute_result"
    },
    {
     "data": {
      "image/png": "[encoded data removed]",
      "text/plain": [
       "<Figure size 432x288 with 1 Axes>"
      ]
     },
     "metadata": {
      "needs_background": "light"
     },
     "output_type": "display_data"
    }
   ],
   "source": [
    "#plotting training history of our algorithm\n",
    "loss_df = pd.DataFrame(model.history.history)\n",
    "loss_df.plot()"
   ]
  },
  {
   "cell_type": "code",
   "execution_count": 18,
   "metadata": {},
   "outputs": [
    {
     "data": {
      "text/plain": [
       "[0.8379701375961304, 0.5734731554985046]"
      ]
     },
     "execution_count": 18,
     "metadata": {},
     "output_type": "execute_result"
    }
   ],
   "source": [
    "#analysing performance on training data\n",
    "model.evaluate(X_train,y_train,verbose=0)"
   ]
  },
  {
   "cell_type": "code",
   "execution_count": 20,
   "metadata": {},
   "outputs": [
    {
     "data": {
      "text/plain": [
       "[0.8833410739898682, 0.5518134832382202]"
      ]
     },
     "execution_count": 20,
     "metadata": {},
     "output_type": "execute_result"
    }
   ],
   "source": [
    "#analysing performance on test data\n",
    "model.evaluate(X_test,y_test,verbose=0)"
   ]
  },
  {
   "cell_type": "code",
   "execution_count": 23,
   "metadata": {},
   "outputs": [],
   "source": [
    "#saving model\n",
    "from tensorflow.keras.models import load_model\n",
    "\n",
    "model.save('model.h5')"
   ]
  },
  {
   "cell_type": "code",
   "execution_count": 40,
   "metadata": {},
   "outputs": [
    {
     "name": "stderr",
     "output_type": "stream",
     "text": [
      "C:\\Users\\Christian Rauhut\\anaconda3\\lib\\site-packages\\tensorflow\\python\\keras\\engine\\sequential.py:450: UserWarning: `model.predict_classes()` is deprecated and will be removed after 2021-01-01. Please use instead:* `np.argmax(model.predict(x), axis=-1)`,   if your model does multi-class classification   (e.g. if it uses a `softmax` last-layer activation).* `(model.predict(x) > 0.5).astype(\"int32\")`,   if your model does binary classification   (e.g. if it uses a `sigmoid` last-layer activation).\n",
      "  warnings.warn('`model.predict_classes()` is deprecated and '\n"
     ]
    },
    {
     "data": {
      "text/html": [
       "<div>\n",
       "<style scoped>\n",
       "    .dataframe tbody tr th:only-of-type {\n",
       "        vertical-align: middle;\n",
       "    }\n",
       "\n",
       "    .dataframe tbody tr th {\n",
       "        vertical-align: top;\n",
       "    }\n",
       "\n",
       "    .dataframe thead th {\n",
       "        text-align: right;\n",
       "    }\n",
       "</style>\n",
       "<table border=\"1\" class=\"dataframe\">\n",
       "  <thead>\n",
       "    <tr style=\"text-align: right;\">\n",
       "      <th></th>\n",
       "      <th>0</th>\n",
       "    </tr>\n",
       "  </thead>\n",
       "  <tbody>\n",
       "    <tr>\n",
       "      <th>0</th>\n",
       "      <td>2</td>\n",
       "    </tr>\n",
       "    <tr>\n",
       "      <th>1</th>\n",
       "      <td>2</td>\n",
       "    </tr>\n",
       "    <tr>\n",
       "      <th>2</th>\n",
       "      <td>0</td>\n",
       "    </tr>\n",
       "    <tr>\n",
       "      <th>3</th>\n",
       "      <td>2</td>\n",
       "    </tr>\n",
       "    <tr>\n",
       "      <th>4</th>\n",
       "      <td>0</td>\n",
       "    </tr>\n",
       "    <tr>\n",
       "      <th>...</th>\n",
       "      <td>...</td>\n",
       "    </tr>\n",
       "    <tr>\n",
       "      <th>3469</th>\n",
       "      <td>2</td>\n",
       "    </tr>\n",
       "    <tr>\n",
       "      <th>3470</th>\n",
       "      <td>2</td>\n",
       "    </tr>\n",
       "    <tr>\n",
       "      <th>3471</th>\n",
       "      <td>2</td>\n",
       "    </tr>\n",
       "    <tr>\n",
       "      <th>3472</th>\n",
       "      <td>2</td>\n",
       "    </tr>\n",
       "    <tr>\n",
       "      <th>3473</th>\n",
       "      <td>0</td>\n",
       "    </tr>\n",
       "  </tbody>\n",
       "</table>\n",
       "<p>3474 rows × 1 columns</p>\n",
       "</div>"
      ],
      "text/plain": [
       "      0\n",
       "0     2\n",
       "1     2\n",
       "2     0\n",
       "3     2\n",
       "4     0\n",
       "...  ..\n",
       "3469  2\n",
       "3470  2\n",
       "3471  2\n",
       "3472  2\n",
       "3473  0\n",
       "\n",
       "[3474 rows x 1 columns]"
      ]
     },
     "execution_count": 40,
     "metadata": {},
     "output_type": "execute_result"
    }
   ],
   "source": [
    "from sklearn.metrics import classification_report, confusion_matrix\n",
    "\n",
    "predictions = model.predict_classes(X_test)\n",
    "pd.DataFrame(predictions)"
   ]
  },
  {
   "cell_type": "code",
   "execution_count": 31,
   "metadata": {},
   "outputs": [
    {
     "data": {
      "text/plain": [
       "6158     Sell\n",
       "5623     Sell\n",
       "3789      Buy\n",
       "457      Sell\n",
       "161      Sell\n",
       "         ... \n",
       "148      Sell\n",
       "11277     Buy\n",
       "9952      Buy\n",
       "6840      Buy\n",
       "8468     Sell\n",
       "Length: 3474, dtype: object"
      ]
     },
     "execution_count": 31,
     "metadata": {},
     "output_type": "execute_result"
    }
   ],
   "source": [
    "y_true = y_test.idxmax(axis=1)\n",
    "y_true"
   ]
  },
  {
   "cell_type": "code",
   "execution_count": 32,
   "metadata": {},
   "outputs": [],
   "source": [
    "# code to numbers for y_true\n",
    "SignalFac = []\n",
    "\n",
    "for string in y_true:\n",
    "    if string == 'Sell':\n",
    "        SignalFac.append(2)\n",
    "    elif string == 'Hold':\n",
    "        SignalFac.append(1)    \n",
    "    else:\n",
    "        SignalFac.append(0)"
   ]
  },
  {
   "cell_type": "code",
   "execution_count": 36,
   "metadata": {
    "scrolled": true
   },
   "outputs": [
    {
     "name": "stdout",
     "output_type": "stream",
     "text": [
      "              precision    recall  f1-score   support\n",
      "\n",
      "           0       0.51      0.24      0.32      1404\n",
      "           1       0.00      0.00      0.00       224\n",
      "           2       0.56      0.86      0.68      1846\n",
      "\n",
      "    accuracy                           0.55      3474\n",
      "   macro avg       0.36      0.37      0.33      3474\n",
      "weighted avg       0.50      0.55      0.49      3474\n",
      "\n"
     ]
    }
   ],
   "source": [
    "print(classification_report(SignalFac,predictions))"
   ]
  },
  {
   "cell_type": "code",
   "execution_count": null,
   "metadata": {},
   "outputs": [],
   "source": [
    "#We see F1 Score for predicting a Sell is the highest followed by the buy prediction\n",
    "#However, our model has some trouble to predict the hold signal"
   ]
  },
  {
   "cell_type": "code",
   "execution_count": 41,
   "metadata": {},
   "outputs": [
    {
     "data": {
      "text/plain": [
       "Sell    6153\n",
       "Buy     4681\n",
       "Hold     745\n",
       "Name: Signal, dtype: int64"
      ]
     },
     "execution_count": 41,
     "metadata": {},
     "output_type": "execute_result"
    }
   ],
   "source": [
    "df['Signal'].value_counts()"
   ]
  },
  {
   "cell_type": "code",
   "execution_count": 42,
   "metadata": {},
   "outputs": [
    {
     "data": {
      "text/plain": [
       "0.5313930391225494"
      ]
     },
     "execution_count": 42,
     "metadata": {},
     "output_type": "execute_result"
    }
   ],
   "source": [
    "#checking if our model learned something\n",
    "6153/len(df)"
   ]
  },
  {
   "cell_type": "code",
   "execution_count": null,
   "metadata": {},
   "outputs": [],
   "source": [
    "#We see the accuracy of our model is better than the default guess on sell"
   ]
  },
  {
   "cell_type": "code",
   "execution_count": 43,
   "metadata": {},
   "outputs": [
    {
     "name": "stdout",
     "output_type": "stream",
     "text": [
      "[[ 332    0 1072]\n",
      " [  59    0  165]\n",
      " [ 261    0 1585]]\n"
     ]
    }
   ],
   "source": [
    "print(confusion_matrix(SignalFac,predictions))"
   ]
  }
 ],
 "metadata": {
  "kernelspec": {
   "display_name": "Python 3",
   "language": "python",
   "name": "python3"
  },
  "language_info": {
   "codemirror_mode": {
    "name": "ipython",
    "version": 3
   },
   "file_extension": ".py",
   "mimetype": "text/x-python",
   "name": "python",
   "nbconvert_exporter": "python",
   "pygments_lexer": "ipython3",
   "version": "3.8.3"
  }
 },
 "nbformat": 4,
 "nbformat_minor": 4
}
