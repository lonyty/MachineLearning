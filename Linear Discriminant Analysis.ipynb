{
 "cells": [
  {
   "cell_type": "markdown",
   "metadata": {},
   "source": [
    "# Linear Discriminant Analysis\n",
    "\n",
    "- no need to factorize or creating dummy variables for categorical features because already done in data cleaning step\n",
    "- 2 parts:\n",
    "    - split in training and test split\n",
    "    - split for Stratified-k-Fold Cross Validation\n",
    "- standardize training set\n",
    "- feed LDA model\n",
    "- checking the performance on test set"
   ]
  },
  {
   "cell_type": "code",
   "execution_count": 48,
   "metadata": {},
   "outputs": [],
   "source": [
    "# import necessary modules\n",
    "import pandas as pd\n",
    "import numpy as np\n",
    "from sklearn.model_selection import train_test_split, StratifiedKFold, cross_val_score\n",
    "from sklearn.discriminant_analysis import LinearDiscriminantAnalysis as LDA\n",
    "from sklearn.preprocessing import StandardScaler"
   ]
  },
  {
   "cell_type": "code",
   "execution_count": 11,
   "metadata": {
    "scrolled": true
   },
   "outputs": [
    {
     "data": {
      "text/html": [
       "<div>\n",
       "<style scoped>\n",
       "    .dataframe tbody tr th:only-of-type {\n",
       "        vertical-align: middle;\n",
       "    }\n",
       "\n",
       "    .dataframe tbody tr th {\n",
       "        vertical-align: top;\n",
       "    }\n",
       "\n",
       "    .dataframe thead th {\n",
       "        text-align: right;\n",
       "    }\n",
       "</style>\n",
       "<table border=\"1\" class=\"dataframe\">\n",
       "  <thead>\n",
       "    <tr style=\"text-align: right;\">\n",
       "      <th></th>\n",
       "      <th>Unnamed: 0</th>\n",
       "      <th>Revenue</th>\n",
       "      <th>Revenue Growth</th>\n",
       "      <th>Cost of Revenue</th>\n",
       "      <th>Gross Profit</th>\n",
       "      <th>R&amp;D Expenses</th>\n",
       "      <th>SG&amp;A Expense</th>\n",
       "      <th>Operating Expenses</th>\n",
       "      <th>Operating Income</th>\n",
       "      <th>Interest Expense</th>\n",
       "      <th>...</th>\n",
       "      <th>Consumer Cyclical</th>\n",
       "      <th>Consumer Defensive</th>\n",
       "      <th>Energy</th>\n",
       "      <th>Financial Services</th>\n",
       "      <th>Healthcare</th>\n",
       "      <th>Industrials</th>\n",
       "      <th>Real Estate</th>\n",
       "      <th>Technology</th>\n",
       "      <th>Utilities</th>\n",
       "      <th>Signal</th>\n",
       "    </tr>\n",
       "  </thead>\n",
       "  <tbody>\n",
       "    <tr>\n",
       "      <th>0</th>\n",
       "      <td>2</td>\n",
       "      <td>3.734148e+09</td>\n",
       "      <td>1.1737</td>\n",
       "      <td>2.805625e+09</td>\n",
       "      <td>9.285226e+08</td>\n",
       "      <td>1.083303e+08</td>\n",
       "      <td>3.441414e+08</td>\n",
       "      <td>7.939267e+08</td>\n",
       "      <td>1.345959e+08</td>\n",
       "      <td>1.214869e+07</td>\n",
       "      <td>...</td>\n",
       "      <td>0</td>\n",
       "      <td>1</td>\n",
       "      <td>0</td>\n",
       "      <td>0</td>\n",
       "      <td>0</td>\n",
       "      <td>0</td>\n",
       "      <td>0</td>\n",
       "      <td>0</td>\n",
       "      <td>0</td>\n",
       "      <td>Sell</td>\n",
       "    </tr>\n",
       "    <tr>\n",
       "      <th>1</th>\n",
       "      <td>5</td>\n",
       "      <td>1.790960e+10</td>\n",
       "      <td>0.0076</td>\n",
       "      <td>1.153980e+10</td>\n",
       "      <td>6.369800e+09</td>\n",
       "      <td>0.000000e+00</td>\n",
       "      <td>3.474300e+09</td>\n",
       "      <td>3.412400e+09</td>\n",
       "      <td>2.957400e+09</td>\n",
       "      <td>3.024000e+08</td>\n",
       "      <td>...</td>\n",
       "      <td>0</td>\n",
       "      <td>1</td>\n",
       "      <td>0</td>\n",
       "      <td>0</td>\n",
       "      <td>0</td>\n",
       "      <td>0</td>\n",
       "      <td>0</td>\n",
       "      <td>0</td>\n",
       "      <td>0</td>\n",
       "      <td>Buy</td>\n",
       "    </tr>\n",
       "    <tr>\n",
       "      <th>2</th>\n",
       "      <td>15</td>\n",
       "      <td>5.727000e+09</td>\n",
       "      <td>0.0214</td>\n",
       "      <td>3.523600e+09</td>\n",
       "      <td>2.203400e+09</td>\n",
       "      <td>0.000000e+00</td>\n",
       "      <td>1.480500e+09</td>\n",
       "      <td>1.598700e+09</td>\n",
       "      <td>6.047000e+08</td>\n",
       "      <td>6.040000e+07</td>\n",
       "      <td>...</td>\n",
       "      <td>0</td>\n",
       "      <td>1</td>\n",
       "      <td>0</td>\n",
       "      <td>0</td>\n",
       "      <td>0</td>\n",
       "      <td>0</td>\n",
       "      <td>0</td>\n",
       "      <td>0</td>\n",
       "      <td>0</td>\n",
       "      <td>Buy</td>\n",
       "    </tr>\n",
       "  </tbody>\n",
       "</table>\n",
       "<p>3 rows × 232 columns</p>\n",
       "</div>"
      ],
      "text/plain": [
       "   Unnamed: 0       Revenue  Revenue Growth  Cost of Revenue  Gross Profit  \\\n",
       "0           2  3.734148e+09          1.1737     2.805625e+09  9.285226e+08   \n",
       "1           5  1.790960e+10          0.0076     1.153980e+10  6.369800e+09   \n",
       "2          15  5.727000e+09          0.0214     3.523600e+09  2.203400e+09   \n",
       "\n",
       "   R&D Expenses  SG&A Expense  Operating Expenses  Operating Income  \\\n",
       "0  1.083303e+08  3.441414e+08        7.939267e+08      1.345959e+08   \n",
       "1  0.000000e+00  3.474300e+09        3.412400e+09      2.957400e+09   \n",
       "2  0.000000e+00  1.480500e+09        1.598700e+09      6.047000e+08   \n",
       "\n",
       "   Interest Expense  ...  Consumer Cyclical  Consumer Defensive  Energy  \\\n",
       "0      1.214869e+07  ...                  0                   1       0   \n",
       "1      3.024000e+08  ...                  0                   1       0   \n",
       "2      6.040000e+07  ...                  0                   1       0   \n",
       "\n",
       "   Financial Services  Healthcare  Industrials  Real Estate  Technology  \\\n",
       "0                   0           0            0            0           0   \n",
       "1                   0           0            0            0           0   \n",
       "2                   0           0            0            0           0   \n",
       "\n",
       "   Utilities  Signal  \n",
       "0          0    Sell  \n",
       "1          0     Buy  \n",
       "2          0     Buy  \n",
       "\n",
       "[3 rows x 232 columns]"
      ]
     },
     "execution_count": 11,
     "metadata": {},
     "output_type": "execute_result"
    }
   ],
   "source": [
    "# import cleaned data frame\n",
    "df_cleaned = pd.read_csv('cleaned_data/Cleaned Data.csv')\n",
    "df_cleaned.head(3)"
   ]
  },
  {
   "cell_type": "markdown",
   "metadata": {},
   "source": [
    "## Part 1: Split data in training and test split"
   ]
  },
  {
   "cell_type": "code",
   "execution_count": 35,
   "metadata": {},
   "outputs": [
    {
     "data": {
      "text/html": [
       "<div>\n",
       "<style scoped>\n",
       "    .dataframe tbody tr th:only-of-type {\n",
       "        vertical-align: middle;\n",
       "    }\n",
       "\n",
       "    .dataframe tbody tr th {\n",
       "        vertical-align: top;\n",
       "    }\n",
       "\n",
       "    .dataframe thead th {\n",
       "        text-align: right;\n",
       "    }\n",
       "</style>\n",
       "<table border=\"1\" class=\"dataframe\">\n",
       "  <thead>\n",
       "    <tr style=\"text-align: right;\">\n",
       "      <th></th>\n",
       "      <th>Unnamed: 0</th>\n",
       "      <th>Revenue</th>\n",
       "      <th>Revenue Growth</th>\n",
       "      <th>Cost of Revenue</th>\n",
       "      <th>Gross Profit</th>\n",
       "      <th>R&amp;D Expenses</th>\n",
       "      <th>SG&amp;A Expense</th>\n",
       "      <th>Operating Expenses</th>\n",
       "      <th>Operating Income</th>\n",
       "      <th>Interest Expense</th>\n",
       "      <th>...</th>\n",
       "      <th>Communication Services</th>\n",
       "      <th>Consumer Cyclical</th>\n",
       "      <th>Consumer Defensive</th>\n",
       "      <th>Energy</th>\n",
       "      <th>Financial Services</th>\n",
       "      <th>Healthcare</th>\n",
       "      <th>Industrials</th>\n",
       "      <th>Real Estate</th>\n",
       "      <th>Technology</th>\n",
       "      <th>Utilities</th>\n",
       "    </tr>\n",
       "  </thead>\n",
       "  <tbody>\n",
       "    <tr>\n",
       "      <th>6715</th>\n",
       "      <td>12614</td>\n",
       "      <td>2.537000e+07</td>\n",
       "      <td>-0.1235</td>\n",
       "      <td>1.708100e+07</td>\n",
       "      <td>8289000.0</td>\n",
       "      <td>0.0</td>\n",
       "      <td>6948000.0</td>\n",
       "      <td>6948000.0</td>\n",
       "      <td>1341000.0</td>\n",
       "      <td>0.0</td>\n",
       "      <td>...</td>\n",
       "      <td>0</td>\n",
       "      <td>0</td>\n",
       "      <td>0</td>\n",
       "      <td>0</td>\n",
       "      <td>0</td>\n",
       "      <td>0</td>\n",
       "      <td>0</td>\n",
       "      <td>0</td>\n",
       "      <td>1</td>\n",
       "      <td>0</td>\n",
       "    </tr>\n",
       "    <tr>\n",
       "      <th>10183</th>\n",
       "      <td>19529</td>\n",
       "      <td>3.873800e+09</td>\n",
       "      <td>0.0648</td>\n",
       "      <td>3.084900e+09</td>\n",
       "      <td>788900000.0</td>\n",
       "      <td>0.0</td>\n",
       "      <td>397900000.0</td>\n",
       "      <td>419700000.0</td>\n",
       "      <td>369200000.0</td>\n",
       "      <td>51000000.0</td>\n",
       "      <td>...</td>\n",
       "      <td>0</td>\n",
       "      <td>1</td>\n",
       "      <td>0</td>\n",
       "      <td>0</td>\n",
       "      <td>0</td>\n",
       "      <td>0</td>\n",
       "      <td>0</td>\n",
       "      <td>0</td>\n",
       "      <td>0</td>\n",
       "      <td>0</td>\n",
       "    </tr>\n",
       "    <tr>\n",
       "      <th>229</th>\n",
       "      <td>410</td>\n",
       "      <td>1.153000e+06</td>\n",
       "      <td>-0.1013</td>\n",
       "      <td>0.000000e+00</td>\n",
       "      <td>1153000.0</td>\n",
       "      <td>20707000.0</td>\n",
       "      <td>16758000.0</td>\n",
       "      <td>37465000.0</td>\n",
       "      <td>-36312000.0</td>\n",
       "      <td>82000.0</td>\n",
       "      <td>...</td>\n",
       "      <td>0</td>\n",
       "      <td>0</td>\n",
       "      <td>0</td>\n",
       "      <td>0</td>\n",
       "      <td>0</td>\n",
       "      <td>1</td>\n",
       "      <td>0</td>\n",
       "      <td>0</td>\n",
       "      <td>0</td>\n",
       "      <td>0</td>\n",
       "    </tr>\n",
       "  </tbody>\n",
       "</table>\n",
       "<p>3 rows × 231 columns</p>\n",
       "</div>"
      ],
      "text/plain": [
       "       Unnamed: 0       Revenue  Revenue Growth  Cost of Revenue  \\\n",
       "6715        12614  2.537000e+07         -0.1235     1.708100e+07   \n",
       "10183       19529  3.873800e+09          0.0648     3.084900e+09   \n",
       "229           410  1.153000e+06         -0.1013     0.000000e+00   \n",
       "\n",
       "       Gross Profit  R&D Expenses  SG&A Expense  Operating Expenses  \\\n",
       "6715      8289000.0           0.0     6948000.0           6948000.0   \n",
       "10183   788900000.0           0.0   397900000.0         419700000.0   \n",
       "229       1153000.0    20707000.0    16758000.0          37465000.0   \n",
       "\n",
       "       Operating Income  Interest Expense  ...  Communication Services  \\\n",
       "6715          1341000.0               0.0  ...                       0   \n",
       "10183       369200000.0        51000000.0  ...                       0   \n",
       "229         -36312000.0           82000.0  ...                       0   \n",
       "\n",
       "       Consumer Cyclical  Consumer Defensive  Energy  Financial Services  \\\n",
       "6715                   0                   0       0                   0   \n",
       "10183                  1                   0       0                   0   \n",
       "229                    0                   0       0                   0   \n",
       "\n",
       "       Healthcare  Industrials  Real Estate  Technology  Utilities  \n",
       "6715            0            0            0           1          0  \n",
       "10183           0            0            0           0          0  \n",
       "229             1            0            0           0          0  \n",
       "\n",
       "[3 rows x 231 columns]"
      ]
     },
     "execution_count": 35,
     "metadata": {},
     "output_type": "execute_result"
    }
   ],
   "source": [
    "# get column names\n",
    "cols = df_cleaned.columns.values\n",
    "\n",
    "# seperate responses and features\n",
    "y = df_cleaned[cols[-1]] # responses\n",
    "X = df_cleaned[cols[:-1]] # features\n",
    "\n",
    "# get training and test data\n",
    "X_train, X_test, y_train, y_test = train_test_split(X, y, test_size = 0.3, random_state=0, stratify=y)"
   ]
  },
  {
   "cell_type": "markdown",
   "metadata": {},
   "source": [
    "## Part 2: Setup for 5-fold CV on training set"
   ]
  },
  {
   "cell_type": "code",
   "execution_count": 33,
   "metadata": {},
   "outputs": [],
   "source": [
    "# Create k-Fold CV\n",
    "kFold = StratifiedKFold(n_splits = 5)"
   ]
  },
  {
   "cell_type": "markdown",
   "metadata": {},
   "source": [
    "## Feed LDA with training data"
   ]
  },
  {
   "cell_type": "code",
   "execution_count": null,
   "metadata": {},
   "outputs": [],
   "source": [
    "# create LDA object and run classifier\n",
    "lda = LDA(solver=\"lsqr\")\n",
    "lda = lda.fit(X_train, y_train)"
   ]
  },
  {
   "cell_type": "code",
   "execution_count": 46,
   "metadata": {},
   "outputs": [
    {
     "name": "stdout",
     "output_type": "stream",
     "text": [
      "score: 0.5395\n",
      "error-rate: 0.4605\n"
     ]
    }
   ],
   "source": [
    "# performance on training data\n",
    "print('score: {0:.4f}'.format(lda.score(X_train, y_train)))\n",
    "print('error-rate: {0:.4f}'.format(1-lda.score(X_train, y_train)))"
   ]
  },
  {
   "cell_type": "code",
   "execution_count": 50,
   "metadata": {},
   "outputs": [],
   "source": [
    "# standardize features\n",
    "# Apply StandardScaler on continuous columns only\n",
    "stdsc = StandardScaler()\n",
    "X_train_std = stdsc.fit_transform(X_train[cols[:-1]]) # fit & transform\n",
    "X_test_std = stdsc.transform(X_test[cols[:-1]]) # ONLY transform"
   ]
  },
  {
   "cell_type": "code",
   "execution_count": 51,
   "metadata": {},
   "outputs": [],
   "source": [
    "# create LDA object and run classifier on standardized features\n",
    "lda_std = LDA(solver=\"lsqr\")\n",
    "lda_std = lda_std.fit(X_train_std, y_train)"
   ]
  },
  {
   "cell_type": "code",
   "execution_count": 52,
   "metadata": {},
   "outputs": [
    {
     "name": "stdout",
     "output_type": "stream",
     "text": [
      "score: 0.4043\n",
      "error-rate: 0.5957\n"
     ]
    }
   ],
   "source": [
    "# performance on standardized training data\n",
    "print('score: {0:.4f}'.format(lda.score(X_train_std, y_train)))\n",
    "print('error-rate: {0:.4f}'.format(1-lda.score(X_train_std, y_train)))"
   ]
  },
  {
   "cell_type": "code",
   "execution_count": 57,
   "metadata": {},
   "outputs": [
    {
     "data": {
      "text/plain": [
       "Unnamed: 0         4.186468e+07\n",
       "Revenue            1.539322e+19\n",
       "Revenue Growth     1.507879e+02\n",
       "Cost of Revenue    8.632944e+18\n",
       "Gross Profit       1.730393e+18\n",
       "                       ...     \n",
       "Healthcare         1.300292e-01\n",
       "Industrials        1.220356e-01\n",
       "Real Estate        6.047910e-02\n",
       "Technology         1.296014e-01\n",
       "Utilities          2.617676e-02\n",
       "Length: 231, dtype: float64"
      ]
     },
     "execution_count": 57,
     "metadata": {},
     "output_type": "execute_result"
    }
   ],
   "source": [
    "X_train.var()"
   ]
  },
  {
   "cell_type": "code",
   "execution_count": 58,
   "metadata": {},
   "outputs": [
    {
     "data": {
      "text/plain": [
       "0.9956709956709953"
      ]
     },
     "execution_count": 58,
     "metadata": {},
     "output_type": "execute_result"
    }
   ],
   "source": [
    "X_train_std.var()"
   ]
  },
  {
   "cell_type": "code",
   "execution_count": null,
   "metadata": {},
   "outputs": [],
   "source": []
  }
 ],
 "metadata": {
  "kernelspec": {
   "display_name": "Python 3",
   "language": "python",
   "name": "python3"
  },
  "language_info": {
   "codemirror_mode": {
    "name": "ipython",
    "version": 3
   },
   "file_extension": ".py",
   "mimetype": "text/x-python",
   "name": "python",
   "nbconvert_exporter": "python",
   "pygments_lexer": "ipython3",
   "version": "3.8.5"
  }
 },
 "nbformat": 4,
 "nbformat_minor": 4
}
