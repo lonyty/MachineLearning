{
 "cells": [
  {
   "cell_type": "markdown",
   "metadata": {},
   "source": [
    "# Selecting features based on our academic education\n",
    "\n",
    "We categorized 6 groups of kpi's based on our education that should have an predictive characteristic for the return. We would like to see if our model is able to increase its performance with limiting the amount of features.\n",
    "\n",
    "### Multiples\n",
    "* EV/EBITDA (Enterprise Value over EBITDA)\n",
    "* P/E (PE ratio)\n",
    "\n",
    "### Carhart Model\n",
    "* Price-to-book (priceToBookRatio)\n",
    "* Momentum (3Y Shareholders Equity Growth (per Share))\n",
    "\n",
    "### Income Statement\n",
    "* Revenue\n",
    "* Revenue Growth\n",
    "* R&D to Revenue\n",
    "\n",
    "### Balance\n",
    "* Debt to Equity (debtEquityRatio)\n",
    "\n",
    "### Investments\n",
    "* Long-term investments\n",
    "* Goodwill and Intangible Assets\n",
    "\n",
    "### Additional\n",
    "* ROIC\n",
    "* ROE\n",
    "* inventoryTurnover"
   ]
  },
  {
   "cell_type": "code",
   "execution_count": 1,
   "metadata": {},
   "outputs": [],
   "source": [
    "import pandas as pd\n",
    "import numpy as np\n",
    "import matplotlib.pyplot as plt\n",
    "import seaborn as sns\n",
    "%matplotlib inline"
   ]
  },
  {
   "cell_type": "code",
   "execution_count": 2,
   "metadata": {},
   "outputs": [],
   "source": [
    "df = pd.read_csv('cleaned_data/Cleaned Data.csv', index_col=[0])"
   ]
  },
  {
   "cell_type": "code",
   "execution_count": 3,
   "metadata": {},
   "outputs": [
    {
     "name": "stdout",
     "output_type": "stream",
     "text": [
      "Revenue\n",
      "Revenue Growth\n",
      "Cost of Revenue\n",
      "Gross Profit\n",
      "R&D Expenses\n",
      "SG&A Expense\n",
      "Operating Expenses\n",
      "Operating Income\n",
      "Interest Expense\n",
      "Earnings before Tax\n",
      "Income Tax Expense\n",
      "Net Income - Non-Controlling int\n",
      "Net Income - Discontinued ops\n",
      "Net Income\n",
      "Preferred Dividends\n",
      "Net Income Com\n",
      "EPS\n",
      "EPS Diluted\n",
      "Weighted Average Shs Out\n",
      "Weighted Average Shs Out (Dil)\n",
      "Dividend per Share\n",
      "Gross Margin\n",
      "EBITDA Margin\n",
      "EBIT Margin\n",
      "Profit Margin\n",
      "Free Cash Flow margin\n",
      "EBITDA\n",
      "EBIT\n",
      "Consolidated Income\n",
      "Earnings Before Tax Margin\n",
      "Net Profit Margin\n",
      "Cash and cash equivalents\n",
      "Short-term investments\n",
      "Cash and short-term investments\n",
      "Receivables\n",
      "Inventories\n",
      "Total current assets\n",
      "Property, Plant & Equipment Net\n",
      "Goodwill and Intangible Assets\n",
      "Long-term investments\n",
      "Tax assets\n",
      "Total non-current assets\n",
      "Total assets\n",
      "Payables\n",
      "Short-term debt\n",
      "Total current liabilities\n",
      "Long-term debt\n",
      "Total debt\n",
      "Deferred revenue\n",
      "Tax Liabilities\n",
      "Deposit Liabilities\n",
      "Total non-current liabilities\n",
      "Total liabilities\n",
      "Other comprehensive income\n",
      "Retained earnings (deficit)\n",
      "Total shareholders equity\n",
      "Investments\n",
      "Net Debt\n",
      "Other Assets\n",
      "Other Liabilities\n",
      "Depreciation & Amortization\n",
      "Stock-based compensation\n",
      "Operating Cash Flow\n",
      "Capital Expenditure\n",
      "Acquisitions and disposals\n",
      "Investment purchases and sales\n",
      "Investing Cash flow\n",
      "Issuance (repayment) of debt\n",
      "Issuance (buybacks) of shares\n",
      "Dividend payments\n",
      "Financing Cash Flow\n",
      "Effect of forex changes on cash\n",
      "Net cash flow / Change in cash\n",
      "Free Cash Flow\n",
      "Net Cash/Marketcap\n",
      "priceBookValueRatio\n",
      "priceToBookRatio\n",
      "priceToSalesRatio\n",
      "priceEarningsRatio\n",
      "priceToFreeCashFlowsRatio\n",
      "priceToOperatingCashFlowsRatio\n",
      "priceCashFlowRatio\n",
      "priceEarningsToGrowthRatio\n",
      "priceSalesRatio\n",
      "dividendYield\n",
      "enterpriseValueMultiple\n",
      "priceFairValue\n",
      "ebitperRevenue\n",
      "ebtperEBIT\n",
      "niperEBT\n",
      "grossProfitMargin\n",
      "operatingProfitMargin\n",
      "pretaxProfitMargin\n",
      "netProfitMargin\n",
      "effectiveTaxRate\n",
      "returnOnAssets\n",
      "returnOnEquity\n",
      "returnOnCapitalEmployed\n",
      "nIperEBT\n",
      "eBTperEBIT\n",
      "eBITperRevenue\n",
      "payablesTurnover\n",
      "inventoryTurnover\n",
      "fixedAssetTurnover\n",
      "assetTurnover\n",
      "currentRatio\n",
      "quickRatio\n",
      "cashRatio\n",
      "daysOfSalesOutstanding\n",
      "daysOfInventoryOutstanding\n",
      "daysOfPayablesOutstanding\n",
      "debtRatio\n",
      "debtEquityRatio\n",
      "longtermDebtToCapitalization\n",
      "totalDebtToCapitalization\n",
      "interestCoverage\n",
      "cashFlowToDebtRatio\n",
      "companyEquityMultiplier\n",
      "operatingCashFlowPerShare\n",
      "freeCashFlowPerShare\n",
      "cashPerShare\n",
      "payoutRatio\n",
      "operatingCashFlowSalesRatio\n",
      "freeCashFlowOperatingCashFlowRatio\n",
      "cashFlowCoverageRatios\n",
      "shortTermCoverageRatios\n",
      "capitalExpenditureCoverageRatios\n",
      "dividendpaidAndCapexCoverageRatios\n",
      "dividendPayoutRatio\n",
      "Revenue per Share\n",
      "Net Income per Share\n",
      "Operating Cash Flow per Share\n",
      "Free Cash Flow per Share\n",
      "Cash per Share\n",
      "Book Value per Share\n",
      "Tangible Book Value per Share\n",
      "Shareholders Equity per Share\n",
      "Interest Debt per Share\n",
      "Market Cap\n",
      "Enterprise Value\n",
      "PE ratio\n",
      "Price to Sales Ratio\n",
      "POCF ratio\n",
      "PFCF ratio\n",
      "PB ratio\n",
      "PTB ratio\n",
      "EV to Sales\n",
      "Enterprise Value over EBITDA\n",
      "EV to Operating cash flow\n",
      "EV to Free cash flow\n",
      "Earnings Yield\n",
      "Free Cash Flow Yield\n",
      "Debt to Equity\n",
      "Debt to Assets\n",
      "Net Debt to EBITDA\n",
      "Current ratio\n",
      "Interest Coverage\n",
      "Income Quality\n",
      "Dividend Yield\n",
      "Payout Ratio\n",
      "SG&A to Revenue\n",
      "R&D to Revenue\n",
      "Intangibles to Total Assets\n",
      "Capex to Operating Cash Flow\n",
      "Capex to Revenue\n",
      "Capex to Depreciation\n",
      "Stock-based compensation to Revenue\n",
      "Graham Number\n",
      "ROIC\n",
      "Return on Tangible Assets\n",
      "Graham Net-Net\n",
      "Working Capital\n",
      "Tangible Asset Value\n",
      "Net Current Asset Value\n",
      "Invested Capital\n",
      "Average Receivables\n",
      "Average Payables\n",
      "Average Inventory\n",
      "Days Sales Outstanding\n",
      "Days Payables Outstanding\n",
      "Days of Inventory on Hand\n",
      "Receivables Turnover\n",
      "Payables Turnover\n",
      "Inventory Turnover\n",
      "ROE\n",
      "Capex per Share\n",
      "Gross Profit Growth\n",
      "EBIT Growth\n",
      "Operating Income Growth\n",
      "Net Income Growth\n",
      "EPS Growth\n",
      "EPS Diluted Growth\n",
      "Weighted Average Shares Growth\n",
      "Weighted Average Shares Diluted Growth\n",
      "Dividends per Share Growth\n",
      "Operating Cash Flow growth\n",
      "Free Cash Flow growth\n",
      "10Y Revenue Growth (per Share)\n",
      "5Y Revenue Growth (per Share)\n",
      "3Y Revenue Growth (per Share)\n",
      "10Y Operating CF Growth (per Share)\n",
      "5Y Operating CF Growth (per Share)\n",
      "3Y Operating CF Growth (per Share)\n",
      "10Y Net Income Growth (per Share)\n",
      "5Y Net Income Growth (per Share)\n",
      "3Y Net Income Growth (per Share)\n",
      "10Y Shareholders Equity Growth (per Share)\n",
      "5Y Shareholders Equity Growth (per Share)\n",
      "3Y Shareholders Equity Growth (per Share)\n",
      "10Y Dividend per Share Growth (per Share)\n",
      "5Y Dividend per Share Growth (per Share)\n",
      "3Y Dividend per Share Growth (per Share)\n",
      "Receivables growth\n",
      "Inventory Growth\n",
      "Asset Growth\n",
      "Book Value per Share Growth\n",
      "Debt Growth\n",
      "R&D Expense Growth\n",
      "SG&A Expenses Growth\n",
      "Basic Materials\n",
      "Communication Services\n",
      "Consumer Cyclical\n",
      "Consumer Defensive\n",
      "Energy\n",
      "Financial Services\n",
      "Healthcare\n",
      "Industrials\n",
      "Real Estate\n",
      "Technology\n",
      "Utilities\n",
      "Signal\n"
     ]
    }
   ],
   "source": [
    "#Overview all features\n",
    "\n",
    "for column in df.columns:\n",
    "    print(column)"
   ]
  },
  {
   "cell_type": "code",
   "execution_count": 5,
   "metadata": {},
   "outputs": [],
   "source": [
    "#Assigning values\n",
    "X = df[['Enterprise Value over EBITDA','PE ratio','priceToBookRatio','3Y Shareholders Equity Growth (per Share)', 'Revenue', \n",
    "        'Revenue Growth', 'R&D to Revenue', 'debtEquityRatio', 'Long-term investments', 'Goodwill and Intangible Assets', \n",
    "        'ROIC', 'ROE', 'inventoryTurnover']]\n",
    "y = df['Signal']"
   ]
  },
  {
   "cell_type": "code",
   "execution_count": 6,
   "metadata": {},
   "outputs": [],
   "source": [
    "# Create Train test split\n",
    "from sklearn.model_selection import train_test_split\n",
    "X_train, X_test, y_train, y_test = train_test_split(X, y, test_size=0.3, random_state=0, stratify=y)"
   ]
  },
  {
   "cell_type": "code",
   "execution_count": 7,
   "metadata": {},
   "outputs": [
    {
     "data": {
      "text/plain": [
       "DecisionTreeClassifier(max_depth=4)"
      ]
     },
     "execution_count": 7,
     "metadata": {},
     "output_type": "execute_result"
    }
   ],
   "source": [
    "# Import Decision Tree Classifier\n",
    "from sklearn.tree import DecisionTreeClassifier\n",
    "\n",
    "tree = DecisionTreeClassifier(max_depth=4)\n",
    "tree.fit(X_train, y_train)"
   ]
  },
  {
   "cell_type": "code",
   "execution_count": 8,
   "metadata": {},
   "outputs": [],
   "source": [
    "# Max depth\n",
    "maxDepth = np.array([1, 2, 5, 10])\n",
    "\n",
    "# Minimum number of samples required to split any internal node \n",
    "minSamplesNode = np.array([2, 5, 10])\n",
    "\n",
    "# The minimum number of samples required to be at a leaf/terminal node\n",
    "minSamplesLeaf = np.array([10, 20, 30])\n",
    "\n",
    "# Import necessary functions\n",
    "from sklearn.model_selection import StratifiedKFold, cross_val_score\n",
    "\n",
    "# Create k-Fold CV object\n",
    "kFold = StratifiedKFold(n_splits=10)"
   ]
  },
  {
   "cell_type": "code",
   "execution_count": 9,
   "metadata": {},
   "outputs": [
    {
     "name": "stdout",
     "output_type": "stream",
     "text": [
      "0.5549674993530316\n",
      "{'criterion': 'gini', 'max_depth': 5, 'min_samples_leaf': 10, 'min_samples_split': 2}\n"
     ]
    }
   ],
   "source": [
    "from sklearn.model_selection import GridSearchCV\n",
    "\n",
    "# Define the hyperparameter values to be tested\n",
    "param_grid = {'criterion': ['gini', 'entropy'],\n",
    "              'max_depth': maxDepth,\n",
    "              'min_samples_split': minSamplesNode,\n",
    "              'min_samples_leaf': minSamplesLeaf}\n",
    "\n",
    "# Run brute-force grid search\n",
    "gs = GridSearchCV(estimator=DecisionTreeClassifier(random_state=0),\n",
    "                  param_grid=param_grid,\n",
    "                  scoring='accuracy',\n",
    "                  cv=kFold, n_jobs=-1)\n",
    "gs = gs.fit(X_train, y_train)\n",
    "print(gs.best_score_)\n",
    "print(gs.best_params_)"
   ]
  },
  {
   "cell_type": "code",
   "execution_count": 10,
   "metadata": {},
   "outputs": [
    {
     "name": "stdout",
     "output_type": "stream",
     "text": [
      "Test accuracy:  0.5521\n"
     ]
    }
   ],
   "source": [
    "# Extract best parameter\n",
    "clf = gs.best_estimator_\n",
    "\n",
    "# Fit model given best parameter\n",
    "clf.fit(X_train, y_train)\n",
    "\n",
    "# Print out score on Test dataset\n",
    "print('Test accuracy: {0: .4f}'.format(clf.score(X_test, y_test)))"
   ]
  },
  {
   "cell_type": "code",
   "execution_count": 11,
   "metadata": {},
   "outputs": [
    {
     "name": "stdout",
     "output_type": "stream",
     "text": [
      "Confusion matrix: \n",
      " [[ 435    2  967]\n",
      " [  55    0  169]\n",
      " [ 359    1 1486]]\n"
     ]
    }
   ],
   "source": [
    "from sklearn import metrics\n",
    "\n",
    "y_pred = tree.predict(X_test)\n",
    "print('Confusion matrix: \\n', \n",
    "      metrics.confusion_matrix(y_test, y_pred))"
   ]
  },
  {
   "cell_type": "markdown",
   "metadata": {},
   "source": [
    "## Random Forest "
   ]
  },
  {
   "cell_type": "code",
   "execution_count": 13,
   "metadata": {},
   "outputs": [
    {
     "data": {
      "text/plain": [
       "RandomForestClassifier(n_jobs=-1, random_state=0)"
      ]
     },
     "execution_count": 13,
     "metadata": {},
     "output_type": "execute_result"
    }
   ],
   "source": [
    "from sklearn.ensemble import RandomForestClassifier\n",
    "\n",
    "# Create classifier object and fit it to data\n",
    "forest = RandomForestClassifier(criterion='gini', random_state=0, n_jobs=-1)\n",
    "forest.fit(X_train, y_train)"
   ]
  },
  {
   "cell_type": "code",
   "execution_count": 14,
   "metadata": {},
   "outputs": [
    {
     "name": "stdout",
     "output_type": "stream",
     "text": [
      "Test accuracy:  0.5521\n"
     ]
    }
   ],
   "source": [
    "# Print test score \n",
    "print('Test accuracy: {0: .4f}'.format(clf.score(X_test, y_test)))"
   ]
  },
  {
   "cell_type": "code",
   "execution_count": 15,
   "metadata": {},
   "outputs": [],
   "source": [
    "y_pred = forest.predict(X_test)"
   ]
  },
  {
   "cell_type": "code",
   "execution_count": 17,
   "metadata": {},
   "outputs": [
    {
     "name": "stdout",
     "output_type": "stream",
     "text": [
      "              precision    recall  f1-score   support\n",
      "\n",
      "         Buy       0.49      0.39      0.43      1404\n",
      "        Hold       0.00      0.00      0.00       224\n",
      "        Sell       0.58      0.74      0.65      1846\n",
      "\n",
      "    accuracy                           0.55      3474\n",
      "   macro avg       0.36      0.38      0.36      3474\n",
      "weighted avg       0.51      0.55      0.52      3474\n",
      "\n"
     ]
    }
   ],
   "source": [
    "from sklearn.metrics import classification_report\n",
    "print(classification_report(y_test,y_pred))"
   ]
  }
 ],
 "metadata": {
  "kernelspec": {
   "display_name": "Python 3",
   "language": "python",
   "name": "python3"
  },
  "language_info": {
   "codemirror_mode": {
    "name": "ipython",
    "version": 3
   },
   "file_extension": ".py",
   "mimetype": "text/x-python",
   "name": "python",
   "nbconvert_exporter": "python",
   "pygments_lexer": "ipython3",
   "version": "3.8.3"
  }
 },
 "nbformat": 4,
 "nbformat_minor": 4
}
